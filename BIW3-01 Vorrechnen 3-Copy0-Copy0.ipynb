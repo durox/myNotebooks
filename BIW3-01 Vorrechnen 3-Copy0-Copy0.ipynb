{
 "metadata": {
  "name": ""
 },
 "nbformat": 3,
 "nbformat_minor": 0,
 "worksheets": [
  {
   "cells": [
    {
     "cell_type": "code",
     "collapsed": false,
     "input": [
      "%pylab"
     ],
     "language": "python",
     "metadata": {
      "slideshow": {
       "slide_type": "skip"
      }
     },
     "outputs": [
      {
       "output_type": "stream",
       "stream": "stdout",
       "text": [
        "Using matplotlib backend: TkAgg\n",
        "Populating the interactive namespace from numpy and matplotlib\n"
       ]
      }
     ],
     "prompt_number": 1
    },
    {
     "cell_type": "code",
     "collapsed": false,
     "input": [
      "import statik"
     ],
     "language": "python",
     "metadata": {
      "slideshow": {
       "slide_type": "skip"
      }
     },
     "outputs": [],
     "prompt_number": 2
    },
    {
     "cell_type": "heading",
     "level": 2,
     "metadata": {
      "slideshow": {
       "slide_type": "slide"
      }
     },
     "source": [
      "Gegebene Werte"
     ]
    },
    {
     "cell_type": "code",
     "collapsed": false,
     "input": [
      "E = 2.0E8\n",
      "I = 1.0E-4\n",
      "A = 1.0E-3\n",
      "\n",
      "kp1 = 10000\n",
      "kp2a = 0\n",
      "kp2b = 10000\n",
      "\n",
      "p = 20\n",
      "\n",
      "l_12 = 6.\n",
      "l_13 = 6.\n",
      "l_14 = 4."
     ],
     "language": "python",
     "metadata": {
      "slideshow": {
       "slide_type": "skip"
      }
     },
     "outputs": [],
     "prompt_number": 3
    },
    {
     "cell_type": "code",
     "collapsed": false,
     "input": [
      "out = statik.Output()\n",
      "out.addValue(E/1.0E8, 'E', '* 10^8 kN/m^2')\n",
      "out.addValue(I/1.0E-4, 'I', '* 10^{-4} m^4')\n",
      "out.addValue(A/1.0E-3, 'A', '* 10^{-3} m^2')\n",
      "#out.addNewline()\n",
      "out.addValue(kp1, 'k_{\\phi 1}', 'kNm/rad')\n",
      "out.addValue(p, 'p', 'kN/m')\n",
      "out.addValue(kp2a, 'k_{\\phi 2a}', 'kNm/rad')\n",
      "out.addValue(kp2b, 'k_{\\phi 2b}', 'kNm/rad')\n",
      "out.addText('k_{\\phi 2c} = \\infty kNm/rad')\n",
      "out.latex()"
     ],
     "language": "python",
     "metadata": {
      "slideshow": {
       "slide_type": "fragment"
      }
     },
     "outputs": [
      {
       "latex": [
        "$$E = 2.0 * 10^8 kN/m^2$$\n",
        "$$I = 1.0 * 10^{-4} m^4$$\n",
        "$$A = 1.0 * 10^{-3} m^2$$\n",
        "$$k_{\\phi 1} = 10000 kNm/rad$$\n",
        "$$p = 20 kN/m$$\n",
        "$$k_{\\phi 2a} = 0 kNm/rad$$\n",
        "$$k_{\\phi 2b} = 10000 kNm/rad$$\n",
        "$$k_{\\phi 2c} = \\infty kNm/rad$$"
       ],
       "metadata": {},
       "output_type": "pyout",
       "prompt_number": 4,
       "text": [
        "<IPython.core.display.Latex at 0x28cd9d0>"
       ]
      }
     ],
     "prompt_number": 4
    },
    {
     "cell_type": "code",
     "collapsed": false,
     "input": [
      "T_12 = statik.T(np.degrees(270.))\n",
      "T_13 = statik.T(np.degrees(180.))\n",
      "T_14 = statik.T(np.degrees(0.))"
     ],
     "language": "python",
     "metadata": {
      "slideshow": {
       "slide_type": "skip"
      }
     },
     "outputs": [],
     "prompt_number": 5
    },
    {
     "cell_type": "code",
     "collapsed": false,
     "input": [
      "out = statik.Output()\n",
      "out.addMatrix(T_12, '\\underline T_{12}')\n",
      "out.addMatrix(T_13, '\\underline T_{13}')\n",
      "out.addMatrix(T_14, '\\underline T_{14}')\n",
      "out.latex()"
     ],
     "language": "python",
     "metadata": {
      "slideshow": {
       "slide_type": "subslide"
      }
     },
     "outputs": [
      {
       "latex": [
        "$$\\underline T_{12} = \\begin{bmatrix}\n",
        "  0.8 & 0.6 & 0.\\\\\n",
        "  -0.6 & 0.8 & 0.\\\\\n",
        "  0. & 0. & 1.\\\\\n",
        "\\end{bmatrix}$$\n",
        "$$\\underline T_{13} = \\begin{bmatrix}\n",
        "  -0.8 & 0.6 & 0.\\\\\n",
        "  -0.6 & -0.8 & 0.\\\\\n",
        "  0. & 0. & 1.\\\\\n",
        "\\end{bmatrix}$$\n",
        "$$\\underline T_{14} = \\begin{bmatrix}\n",
        "  1. & 0. & 0.\\\\\n",
        "  -0. & 1. & 0.\\\\\n",
        "  0. & 0. & 1.\\\\\n",
        "\\end{bmatrix}$$"
       ],
       "metadata": {},
       "output_type": "pyout",
       "prompt_number": 6,
       "text": [
        "<IPython.core.display.Latex at 0x28c3f10>"
       ]
      }
     ],
     "prompt_number": 6
    },
    {
     "cell_type": "heading",
     "level": 2,
     "metadata": {
      "slideshow": {
       "slide_type": "slide"
      }
     },
     "source": [
      "Berechnen von $\\Delta\\underline F_u (12)$ und $\\Delta\\underline K_u (12)$"
     ]
    },
    {
     "cell_type": "heading",
     "level": 3,
     "metadata": {
      "slideshow": {
       "slide_type": "subslide"
      }
     },
     "source": [
      "Vorberechnungen"
     ]
    },
    {
     "cell_type": "code",
     "collapsed": false,
     "input": [
      "K_1 = statik.K_eingesp(E, A, I, l_12)"
     ],
     "language": "python",
     "metadata": {},
     "outputs": [],
     "prompt_number": 7
    },
    {
     "cell_type": "code",
     "collapsed": false,
     "input": [
      "out = statik.Output()\n",
      "out.addMatrix(K_1, '\\underline{K}(1)')\n",
      "out.latex()"
     ],
     "language": "python",
     "metadata": {
      "slideshow": {
       "slide_type": "fragment"
      }
     },
     "outputs": [
      {
       "latex": [
        "$$\\underline{K}(1) = \\begin{bmatrix}\n",
        "  33333.3 & 0. & 0. & -33333.3 & 0. & 0.\\\\\n",
        "  0. & 1111.1 & 3333.3 & 0. & -1111.1 & 3333.3\\\\\n",
        "  0. & 3333.3 & 13333.3 & 0. & -3333.3 & 6666.7\\\\\n",
        "  -33333.3 & 0. & 0. & 33333.3 & 0. & 0.\\\\\n",
        "  0. & -1111.1 & -3333.3 & 0. & 1111.1 & -3333.3\\\\\n",
        "  0. & 3333.3 & 6666.7 & 0. & -3333.3 & 13333.3\\\\\n",
        "\\end{bmatrix}$$"
       ],
       "metadata": {},
       "output_type": "pyout",
       "prompt_number": 8,
       "text": [
        "<IPython.core.display.Latex at 0x28c3950>"
       ]
      }
     ],
     "prompt_number": 8
    },
    {
     "cell_type": "code",
     "collapsed": false,
     "input": [
      "j = 6\n",
      "kjj = K_1[j-1, j-1]\n",
      "kj = K_1[:, j-1]"
     ],
     "language": "python",
     "metadata": {},
     "outputs": [],
     "prompt_number": 9
    },
    {
     "cell_type": "code",
     "collapsed": false,
     "input": [
      "out = statik.Output()\n",
      "out.addMatrix(kj.T, 'k_6 ^T')\n",
      "out.addValue(kjj, 'k_{66}')\n",
      "out.latex()"
     ],
     "language": "python",
     "metadata": {
      "slideshow": {
       "slide_type": "fragment"
      }
     },
     "outputs": [
      {
       "latex": [
        "$$k_6 ^T = \\begin{bmatrix}\n",
        "  0. & 3333.3 & 6666.7 & 0. & -3333.3 & 13333.3\\\\\n",
        "\\end{bmatrix}$$\n",
        "$$k_{66} = 13333.3$$"
       ],
       "metadata": {},
       "output_type": "pyout",
       "prompt_number": 10,
       "text": [
        "<IPython.core.display.Latex at 0x28c3cd0>"
       ]
      }
     ],
     "prompt_number": 10
    },
    {
     "cell_type": "code",
     "collapsed": false,
     "input": [
      "F0e_1 = np.matrix([[p * l_12 / 2], [0], [-p * l_12**2 / 12], [p * l_12 / 2], [0], [p * l_12**2 / 12]])"
     ],
     "language": "python",
     "metadata": {},
     "outputs": [],
     "prompt_number": 11
    },
    {
     "cell_type": "code",
     "collapsed": false,
     "input": [
      "out = statik.Output()\n",
      "out.addMatrix(F0e_1, '\\underline F^0(1)')\n",
      "out.latex()"
     ],
     "language": "python",
     "metadata": {
      "slideshow": {
       "slide_type": "fragment"
      }
     },
     "outputs": [
      {
       "latex": [
        "$$\\underline F^0(1) = \\begin{bmatrix}\n",
        "  60.\\\\\n",
        "  0.\\\\\n",
        "  -60.\\\\\n",
        "  60.\\\\\n",
        "  0.\\\\\n",
        "  60.\\\\\n",
        "\\end{bmatrix}$$"
       ],
       "metadata": {},
       "output_type": "pyout",
       "prompt_number": 12,
       "text": [
        "<IPython.core.display.Latex at 0x28c3a50>"
       ]
      }
     ],
     "prompt_number": 12
    },
    {
     "cell_type": "heading",
     "level": 3,
     "metadata": {},
     "source": [
      "Teilaufgabe a)"
     ]
    },
    {
     "cell_type": "code",
     "collapsed": false,
     "input": [
      "dFua_1 = F0e_1[5,0] / (kp2a + kjj) * kj"
     ],
     "language": "python",
     "metadata": {},
     "outputs": [],
     "prompt_number": 13
    },
    {
     "cell_type": "code",
     "collapsed": false,
     "input": [
      "out = statik.Output()\n",
      "out.addMatrix(dFua_1, '\\Delta\\underline F_{u,a)} (1)')\n",
      "out.latex()"
     ],
     "language": "python",
     "metadata": {},
     "outputs": [
      {
       "latex": [
        "$$\\Delta\\underline F_{u,a)} (1) = \\begin{bmatrix}\n",
        "  0.\\\\\n",
        "  15.\\\\\n",
        "  30.\\\\\n",
        "  0.\\\\\n",
        "  -15.\\\\\n",
        "  60.\\\\\n",
        "\\end{bmatrix}$$"
       ],
       "metadata": {},
       "output_type": "pyout",
       "prompt_number": 14,
       "text": [
        "<IPython.core.display.Latex at 0x28c3ad0>"
       ]
      }
     ],
     "prompt_number": 14
    },
    {
     "cell_type": "code",
     "collapsed": false,
     "input": [
      "F0ua_1 = F0e_1 - dFua_1"
     ],
     "language": "python",
     "metadata": {},
     "outputs": [],
     "prompt_number": 15
    },
    {
     "cell_type": "code",
     "collapsed": false,
     "input": [
      "out = statik.Output()\n",
      "out.addMatrix(F0ua_1, '\\underline F_{u,a)}^0 (1)')\n",
      "out.latex()"
     ],
     "language": "python",
     "metadata": {},
     "outputs": [
      {
       "latex": [
        "$$\\underline F_{u,a)}^0 (1) = \\begin{bmatrix}\n",
        "  60.\\\\\n",
        "  -15.\\\\\n",
        "  -90.\\\\\n",
        "  60.\\\\\n",
        "  15.\\\\\n",
        "  0.\\\\\n",
        "\\end{bmatrix}$$"
       ],
       "metadata": {},
       "output_type": "pyout",
       "prompt_number": 16,
       "text": [
        "<IPython.core.display.Latex at 0x1d15590>"
       ]
      }
     ],
     "prompt_number": 16
    },
    {
     "cell_type": "code",
     "collapsed": false,
     "input": [
      "dKua_1 = 1/(kp2a + kjj) * kj * kj.T"
     ],
     "language": "python",
     "metadata": {},
     "outputs": [],
     "prompt_number": 17
    },
    {
     "cell_type": "code",
     "collapsed": false,
     "input": [
      "out = statik.Output()\n",
      "out.addMatrix(dKua_1, '\\Delta\\underline K_{u,a)}(1)')\n",
      "out.latex()"
     ],
     "language": "python",
     "metadata": {},
     "outputs": [
      {
       "latex": [
        "$$\\Delta\\underline K_{u,a)}(1) = \\begin{bmatrix}\n",
        "  0. & 0. & 0. & 0. & 0. & 0.\\\\\n",
        "  0. & 833.3 & 1666.7 & 0. & -833.3 & 3333.3\\\\\n",
        "  0. & 1666.7 & 3333.3 & 0. & -1666.7 & 6666.7\\\\\n",
        "  0. & 0. & 0. & 0. & 0. & 0.\\\\\n",
        "  0. & -833.3 & -1666.7 & 0. & 833.3 & -3333.3\\\\\n",
        "  0. & 3333.3 & 6666.7 & 0. & -3333.3 & 13333.3\\\\\n",
        "\\end{bmatrix}$$"
       ],
       "metadata": {},
       "output_type": "pyout",
       "prompt_number": 18,
       "text": [
        "<IPython.core.display.Latex at 0x28c3b50>"
       ]
      }
     ],
     "prompt_number": 18
    },
    {
     "cell_type": "code",
     "collapsed": false,
     "input": [
      "Kua_1 = K_1 - dKua_1"
     ],
     "language": "python",
     "metadata": {},
     "outputs": [],
     "prompt_number": 19
    },
    {
     "cell_type": "code",
     "collapsed": false,
     "input": [
      "out = statik.Output()\n",
      "out.addMatrix(Kua_1, '\\underline K_{u,a)} (1)')\n",
      "out.latex()"
     ],
     "language": "python",
     "metadata": {},
     "outputs": [
      {
       "latex": [
        "$$\\underline K_{u,a)} (1) = \\begin{bmatrix}\n",
        "  33333.3 & 0. & 0. & -33333.3 & 0. & 0.\\\\\n",
        "  0. & 277.8 & 1666.7 & 0. & -277.8 & 0.\\\\\n",
        "  0. & 1666.7 & 10000. & 0. & -1666.7 & 0.\\\\\n",
        "  -33333.3 & 0. & 0. & 33333.3 & 0. & 0.\\\\\n",
        "  0. & -277.8 & -1666.7 & 0. & 277.8 & 0.\\\\\n",
        "  0. & 0. & 0. & 0. & 0. & 0.\\\\\n",
        "\\end{bmatrix}$$"
       ],
       "metadata": {},
       "output_type": "pyout",
       "prompt_number": 20,
       "text": [
        "<IPython.core.display.Latex at 0x28c3f90>"
       ]
      }
     ],
     "prompt_number": 20
    },
    {
     "cell_type": "heading",
     "level": 3,
     "metadata": {},
     "source": [
      "Teilaufgabe b)"
     ]
    },
    {
     "cell_type": "code",
     "collapsed": false,
     "input": [
      "dFub_1 = F0e_1[5,0] / (kp2b + kjj) * kj"
     ],
     "language": "python",
     "metadata": {},
     "outputs": [],
     "prompt_number": 21
    },
    {
     "cell_type": "code",
     "collapsed": false,
     "input": [
      "out = statik.Output()\n",
      "out.addMatrix(dFub_1, '\\Delta\\underline F_{u,b)} (1)')\n",
      "out.latex()"
     ],
     "language": "python",
     "metadata": {},
     "outputs": [
      {
       "latex": [
        "$$\\Delta\\underline F_{u,b)} (1) = \\begin{bmatrix}\n",
        "  0.\\\\\n",
        "  8.6\\\\\n",
        "  17.1\\\\\n",
        "  0.\\\\\n",
        "  -8.6\\\\\n",
        "  34.3\\\\\n",
        "\\end{bmatrix}$$"
       ],
       "metadata": {},
       "output_type": "pyout",
       "prompt_number": 22,
       "text": [
        "<IPython.core.display.Latex at 0x28c3a10>"
       ]
      }
     ],
     "prompt_number": 22
    },
    {
     "cell_type": "code",
     "collapsed": false,
     "input": [
      "F0ub_1 = F0e_1 - dFub_1"
     ],
     "language": "python",
     "metadata": {},
     "outputs": [],
     "prompt_number": 23
    },
    {
     "cell_type": "code",
     "collapsed": false,
     "input": [
      "out = statik.Output()\n",
      "out.addMatrix(F0ub_1, '\\underline F_{u,b)}^0 (1)')\n",
      "out.latex()"
     ],
     "language": "python",
     "metadata": {},
     "outputs": [
      {
       "latex": [
        "$$\\underline F_{u,b)}^0 (1) = \\begin{bmatrix}\n",
        "  60.\\\\\n",
        "  -8.6\\\\\n",
        "  -77.1\\\\\n",
        "  60.\\\\\n",
        "  8.6\\\\\n",
        "  25.7\\\\\n",
        "\\end{bmatrix}$$"
       ],
       "metadata": {},
       "output_type": "pyout",
       "prompt_number": 24,
       "text": [
        "<IPython.core.display.Latex at 0x28c3e90>"
       ]
      }
     ],
     "prompt_number": 24
    },
    {
     "cell_type": "code",
     "collapsed": false,
     "input": [
      "dKub_1 = 1/(kp2b + kjj) * kj * kj.T"
     ],
     "language": "python",
     "metadata": {},
     "outputs": [],
     "prompt_number": 25
    },
    {
     "cell_type": "code",
     "collapsed": false,
     "input": [
      "out = statik.Output()\n",
      "out.addMatrix(dKub_1, '\\Delta\\underline K_{u,b)} (1)')\n",
      "out.latex()"
     ],
     "language": "python",
     "metadata": {},
     "outputs": [
      {
       "latex": [
        "$$\\Delta\\underline K_{u,b)} (1) = \\begin{bmatrix}\n",
        "  0. & 0. & 0. & 0. & 0. & 0.\\\\\n",
        "  0. & 476.2 & 952.4 & 0. & -476.2 & 1904.8\\\\\n",
        "  0. & 952.4 & 1904.8 & 0. & -952.4 & 3809.5\\\\\n",
        "  0. & 0. & 0. & 0. & 0. & 0.\\\\\n",
        "  0. & -476.2 & -952.4 & 0. & 476.2 & -1904.8\\\\\n",
        "  0. & 1904.8 & 3809.5 & 0. & -1904.8 & 7619.\\\\\n",
        "\\end{bmatrix}$$"
       ],
       "metadata": {},
       "output_type": "pyout",
       "prompt_number": 26,
       "text": [
        "<IPython.core.display.Latex at 0x28c3e50>"
       ]
      }
     ],
     "prompt_number": 26
    },
    {
     "cell_type": "code",
     "collapsed": false,
     "input": [
      "Kub_1 = K_1 - dKub_1"
     ],
     "language": "python",
     "metadata": {},
     "outputs": [],
     "prompt_number": 27
    },
    {
     "cell_type": "code",
     "collapsed": false,
     "input": [
      "out = statik.Output()\n",
      "out.addMatrix(Kub_1, '\\underline K_{u,b)} (1)')\n",
      "out.latex()"
     ],
     "language": "python",
     "metadata": {},
     "outputs": [
      {
       "latex": [
        "$$\\underline K_{u,b)} (1) = \\begin{bmatrix}\n",
        "  33333.3 & 0. & 0. & -33333.3 & 0. & 0.\\\\\n",
        "  0. & 634.9 & 2381. & 0. & -634.9 & 1428.6\\\\\n",
        "  0. & 2381. & 11428.6 & 0. & -2381. & 2857.1\\\\\n",
        "  -33333.3 & 0. & 0. & 33333.3 & 0. & 0.\\\\\n",
        "  0. & -634.9 & -2381. & 0. & 634.9 & -1428.6\\\\\n",
        "  0. & 1428.6 & 2857.1 & 0. & -1428.6 & 5714.3\\\\\n",
        "\\end{bmatrix}$$"
       ],
       "metadata": {},
       "output_type": "pyout",
       "prompt_number": 28,
       "text": [
        "<IPython.core.display.Latex at 0x28c3e10>"
       ]
      }
     ],
     "prompt_number": 28
    },
    {
     "cell_type": "heading",
     "level": 3,
     "metadata": {},
     "source": [
      "Teilaufgabe c)"
     ]
    },
    {
     "cell_type": "code",
     "collapsed": false,
     "input": [
      "F0uc_1 = F0e_1"
     ],
     "language": "python",
     "metadata": {},
     "outputs": [],
     "prompt_number": 29
    },
    {
     "cell_type": "code",
     "collapsed": false,
     "input": [
      "out = statik.Output()\n",
      "out.addMatrix(F0uc_1, '\\underline F_{u,c)}^0 (1)')\n",
      "out.latex()"
     ],
     "language": "python",
     "metadata": {},
     "outputs": [
      {
       "latex": [
        "$$\\underline F_{u,c)}^0 (1) = \\begin{bmatrix}\n",
        "  60.\\\\\n",
        "  0.\\\\\n",
        "  -60.\\\\\n",
        "  60.\\\\\n",
        "  0.\\\\\n",
        "  60.\\\\\n",
        "\\end{bmatrix}$$"
       ],
       "metadata": {},
       "output_type": "pyout",
       "prompt_number": 30,
       "text": [
        "<IPython.core.display.Latex at 0x28c3910>"
       ]
      }
     ],
     "prompt_number": 30
    },
    {
     "cell_type": "code",
     "collapsed": false,
     "input": [
      "Kuc_1 = K_1"
     ],
     "language": "python",
     "metadata": {},
     "outputs": [],
     "prompt_number": 31
    },
    {
     "cell_type": "code",
     "collapsed": false,
     "input": [
      "out = statik.Output()\n",
      "out.addMatrix(Kuc_1, '\\underline K_{u,c)} (1)')\n",
      "out.latex()"
     ],
     "language": "python",
     "metadata": {},
     "outputs": [
      {
       "latex": [
        "$$\\underline K_{u,c)} (1) = \\begin{bmatrix}\n",
        "  33333.3 & 0. & 0. & -33333.3 & 0. & 0.\\\\\n",
        "  0. & 1111.1 & 3333.3 & 0. & -1111.1 & 3333.3\\\\\n",
        "  0. & 3333.3 & 13333.3 & 0. & -3333.3 & 6666.7\\\\\n",
        "  -33333.3 & 0. & 0. & 33333.3 & 0. & 0.\\\\\n",
        "  0. & -1111.1 & -3333.3 & 0. & 1111.1 & -3333.3\\\\\n",
        "  0. & 3333.3 & 6666.7 & 0. & -3333.3 & 13333.3\\\\\n",
        "\\end{bmatrix}$$"
       ],
       "metadata": {},
       "output_type": "pyout",
       "prompt_number": 32,
       "text": [
        "<IPython.core.display.Latex at 0x28cd150>"
       ]
      }
     ],
     "prompt_number": 32
    },
    {
     "cell_type": "heading",
     "level": 2,
     "metadata": {},
     "source": [
      "Berechnen der globalen Stabsteifigkeitsmatrix $\\underline{\\widetilde K}$"
     ]
    },
    {
     "cell_type": "markdown",
     "metadata": {},
     "source": [
      "$$\\underline{\\widetilde K} = \n",
      "\\begin{bmatrix}\n",
      "K_u (12,1) + K(13,1) + K(14,1) + K_{\\phi 1} & K_u (12,2) \\\\\n",
      "K_u (21,1) & K_u (21,2) \\\\\n",
      "\\end{bmatrix}$$"
     ]
    },
    {
     "cell_type": "heading",
     "level": 3,
     "metadata": {},
     "source": [
      "lokale Stabsteifigkeiten und Transformation"
     ]
    },
    {
     "cell_type": "code",
     "collapsed": false,
     "input": [
      "#K_121 = statik.K_eingesp(E, A, I, l_12, 'iki')\n",
      "Kua_121 = Kua_1[:3,:3]\n",
      "Kub_121 = Kub_1[:3,:3]\n",
      "Kuc_121 = Kuc_1[:3,:3]\n",
      "K_131 = statik.K_eingesp(E, A, I, l_13, 'iki')\n",
      "K_311 = statik.K_eingesp(E, A, I, l_13, 'kii')\n",
      "K_141 = statik.K_eingesp(E, A, I, l_14, 'iki')\n",
      "K_411 = statik.K_eingesp(E, A, I, l_14, 'kii')\n",
      "#K_122 = statik.K_eingesp(E, A, I, l_12, 'ikk')\n",
      "Kua_122 = Kua_1[:3,:3]\n",
      "Kub_122 = Kub_1[:3,:3]\n",
      "Kuc_122 = Kuc_1[:3,:3]"
     ],
     "language": "python",
     "metadata": {},
     "outputs": [],
     "prompt_number": 33
    },
    {
     "cell_type": "code",
     "collapsed": false,
     "input": [
      "#K_211 = statik.K_eingesp(E, A, I, l_12, 'kii')\n",
      "Kua_211 = Kua_1[3:,:3]\n",
      "Kub_211 = Kub_1[3:,:3]\n",
      "Kuc_211 = Kuc_1[3:,:3]\n",
      "Kua_212 = Kua_1[3:, 3:]\n",
      "Kub_212 = Kub_1[3:, 3:]\n",
      "Kuc_212 = Kuc_1[3:, 3:]"
     ],
     "language": "python",
     "metadata": {},
     "outputs": [],
     "prompt_number": 34
    },
    {
     "cell_type": "code",
     "collapsed": false,
     "input": [
      "_Kua_121 = T_12 * Kua_121 * T_12.T\n",
      "_Kub_121 = T_12 * Kub_121 * T_12.T\n",
      "_Kuc_121 = T_12 * Kuc_121 * T_12.T\n",
      "_K_131 = T_13 * K_131 * T_13.T\n",
      "_K_141 = T_14 * K_141 * T_14.T\n",
      "_Kua_122 = T_12 * Kua_122 * T_12.T\n",
      "_Kub_122 = T_12 * Kub_122 * T_12.T\n",
      "_Kuc_122 = T_12 * Kuc_122 * T_12.T\n",
      "\n",
      "_Kua_211 = T_12 * Kua_211 * T_12.T\n",
      "_Kub_211 = T_12 * Kub_211 * T_12.T\n",
      "_Kuc_211 = T_12 * Kuc_211 * T_12.T\n",
      "_Kua_212 = T_12 * Kua_212 * T_12.T\n",
      "_Kub_212 = T_12 * Kub_212 * T_12.T\n",
      "_Kuc_212 = T_12 * Kuc_212 * T_12.T"
     ],
     "language": "python",
     "metadata": {},
     "outputs": [],
     "prompt_number": 35
    },
    {
     "cell_type": "code",
     "collapsed": false,
     "input": [
      "out = statik.Output()\n",
      "#out.addMatrix(_K_121, '\\underline{\\widetilde K} (12,1)')\n",
      "out.addMatrix(_Kua_121, '\\underline{\\widetilde K}_{u,a)} (12,1)')\n",
      "out.addMatrix(_Kub_121, '\\underline{\\widetilde K}_{u,b)} (12,1)')\n",
      "out.addMatrix(_Kuc_121, '\\underline{\\widetilde K}_{u,c)} (12,1)')\n",
      "out.addMatrix(_K_131, '\\underline{\\widetilde K} (13,1)')\n",
      "out.addMatrix(_K_141, '\\underline{\\widetilde K} (14,1)')\n",
      "#out.addMatrix(_K_122, '\\underline{\\widetilde K} (12,2)')\n",
      "out.addMatrix(_Kua_122, '\\underline{\\widetilde K}_{u,a)} (12,2)')\n",
      "out.addMatrix(_Kub_122, '\\underline{\\widetilde K}_{u,b)} (12,2)')\n",
      "out.addMatrix(_Kuc_122, '\\underline{\\widetilde K}_{u,c)} (12,2)')\n",
      "#out.addMatrix(_K_211, '\\underline{\\widetilde K} (21,1)')\n",
      "out.addMatrix(_Kua_211, '\\underline{\\widetilde K}_{u,a)} (21,1)')\n",
      "out.addMatrix(_Kub_211, '\\underline{\\widetilde K}_{u,b)} (21,1)')\n",
      "out.addMatrix(_Kuc_211, '\\underline{\\widetilde K}_{u,c)} (21,1)')\n",
      "out.addMatrix(_Kua_212, '\\underline{\\widetilde K}_{u,a)} (21,2)')\n",
      "out.addMatrix(_Kub_212, '\\underline{\\widetilde K}_{u,b)} (21,2)')\n",
      "out.addMatrix(_Kuc_212, '\\underline{\\widetilde K}_{u,c)} (21,2)')\n",
      "out.latex()"
     ],
     "language": "python",
     "metadata": {},
     "outputs": [
      {
       "latex": [
        "$$\\underline{\\widetilde K}_{u,a)} (12,1) = \\begin{bmatrix}\n",
        "  20963.6 & -15996.2 & 1019.5\\\\\n",
        "  -15996.2 & 12647.5 & 1318.4\\\\\n",
        "  1019.5 & 1318.4 & 10000.\\\\\n",
        "\\end{bmatrix}$$\n",
        "$$\\underline{\\widetilde K}_{u,b)} (12,1) = \\begin{bmatrix}\n",
        "  21097.3 & -15823.4 & 1456.5\\\\\n",
        "  -15823.4 & 12871. & 1883.5\\\\\n",
        "  1456.5 & 1883.5 & 11428.6\\\\\n",
        "\\end{bmatrix}$$\n",
        "$$\\underline{\\widetilde K}_{u,c)} (12,1) = \\begin{bmatrix}\n",
        "  21275.4 & -15592.9 & 2039.1\\\\\n",
        "  -15592.9 & 13169. & 2636.9\\\\\n",
        "  2039.1 & 2636.9 & 13333.3\\\\\n",
        "\\end{bmatrix}$$\n",
        "$$\\underline{\\widetilde K} (13,1) = \\begin{bmatrix}\n",
        "  22808. & 15111.8 & 1905.1\\\\\n",
        "  15111.8 & 11636.4 & -2735.3\\\\\n",
        "  1905.1 & -2735.3 & 13333.3\\\\\n",
        "\\end{bmatrix}$$\n",
        "$$\\underline{\\widetilde K} (14,1) = \\begin{bmatrix}\n",
        "  50000. & 0. & 0.\\\\\n",
        "  0. & 3750. & 7500.\\\\\n",
        "  0. & 7500. & 20000.\\\\\n",
        "\\end{bmatrix}$$\n",
        "$$\\underline{\\widetilde K}_{u,a)} (12,2) = \\begin{bmatrix}\n",
        "  20963.6 & -15996.2 & 1019.5\\\\\n",
        "  -15996.2 & 12647.5 & 1318.4\\\\\n",
        "  1019.5 & 1318.4 & 10000.\\\\\n",
        "\\end{bmatrix}$$\n",
        "$$\\underline{\\widetilde K}_{u,b)} (12,2) = \\begin{bmatrix}\n",
        "  21097.3 & -15823.4 & 1456.5\\\\\n",
        "  -15823.4 & 12871. & 1883.5\\\\\n",
        "  1456.5 & 1883.5 & 11428.6\\\\\n",
        "\\end{bmatrix}$$\n",
        "$$\\underline{\\widetilde K}_{u,c)} (12,2) = \\begin{bmatrix}\n",
        "  21275.4 & -15592.9 & 2039.1\\\\\n",
        "  -15592.9 & 13169. & 2636.9\\\\\n",
        "  2039.1 & 2636.9 & 13333.3\\\\\n",
        "\\end{bmatrix}$$\n",
        "$$\\underline{\\widetilde K}_{u,a)} (21,1) = \\begin{bmatrix}\n",
        "  -20963.6 & 15996.2 & -1019.5\\\\\n",
        "  15996.2 & -12647.5 & -1318.4\\\\\n",
        "  0. & 0. & 0.\\\\\n",
        "\\end{bmatrix}$$\n",
        "$$\\underline{\\widetilde K}_{u,b)} (21,1) = \\begin{bmatrix}\n",
        "  -21097.3 & 15823.4 & -1456.5\\\\\n",
        "  15823.4 & -12871. & -1883.5\\\\\n",
        "  873.9 & 1130.1 & 2857.1\\\\\n",
        "\\end{bmatrix}$$\n",
        "$$\\underline{\\widetilde K}_{u,c)} (21,1) = \\begin{bmatrix}\n",
        "  -21275.4 & 15592.9 & -2039.1\\\\\n",
        "  15592.9 & -13169. & -2636.9\\\\\n",
        "  2039.1 & 2636.9 & 6666.7\\\\\n",
        "\\end{bmatrix}$$\n",
        "$$\\underline{\\widetilde K}_{u,a)} (21,2) = \\begin{bmatrix}\n",
        "  20963.6 & -15996.2 & 0.\\\\\n",
        "  -15996.2 & 12647.5 & 0.\\\\\n",
        "  0. & 0. & 0.\\\\\n",
        "\\end{bmatrix}$$\n",
        "$$\\underline{\\widetilde K}_{u,b)} (21,2) = \\begin{bmatrix}\n",
        "  21097.3 & -15823.4 & -873.9\\\\\n",
        "  -15823.4 & 12871. & -1130.1\\\\\n",
        "  -873.9 & -1130.1 & 5714.3\\\\\n",
        "\\end{bmatrix}$$\n",
        "$$\\underline{\\widetilde K}_{u,c)} (21,2) = \\begin{bmatrix}\n",
        "  21275.4 & -15592.9 & -2039.1\\\\\n",
        "  -15592.9 & 13169. & -2636.9\\\\\n",
        "  -2039.1 & -2636.9 & 13333.3\\\\\n",
        "\\end{bmatrix}$$"
       ],
       "metadata": {},
       "output_type": "pyout",
       "prompt_number": 36,
       "text": [
        "<IPython.core.display.Latex at 0x28dc5d0>"
       ]
      }
     ],
     "prompt_number": 36
    },
    {
     "cell_type": "heading",
     "level": 3,
     "metadata": {},
     "source": [
      "Federsteifigkeitsmatrix"
     ]
    },
    {
     "cell_type": "code",
     "collapsed": false,
     "input": [
      "_Kp1 = np.mat(np.array([[0,0,0], [0,0,0], [0,0,kp1]]))"
     ],
     "language": "python",
     "metadata": {},
     "outputs": [],
     "prompt_number": 37
    },
    {
     "cell_type": "code",
     "collapsed": false,
     "input": [
      "out = statik.Output()\n",
      "out.addMatrix(_Kp1, '\\underline{\\widetilde K} _{\\phi 1}')\n",
      "out.latex()"
     ],
     "language": "python",
     "metadata": {},
     "outputs": [
      {
       "latex": [
        "$$\\underline{\\widetilde K} _{\\phi 1} = \\begin{bmatrix}\n",
        "  0 & 0 & 0\\\\\n",
        "  0 & 0 & 0\\\\\n",
        "  0 & 0 & 10000\\\\\n",
        "\\end{bmatrix}$$"
       ],
       "metadata": {},
       "output_type": "pyout",
       "prompt_number": 38,
       "text": [
        "<IPython.core.display.Latex at 0x28cd590>"
       ]
      }
     ],
     "prompt_number": 38
    },
    {
     "cell_type": "heading",
     "level": 3,
     "metadata": {},
     "source": [
      "Gesamtsteifigkeitsmatrix"
     ]
    },
    {
     "cell_type": "code",
     "collapsed": false,
     "input": [
      "_Ka = _Kua_121 + _K_131 + _K_141 + _Kp1\n",
      "_Kb = _Kub_121 + _K_131 + _K_141 + _Kp1\n",
      "_Kc = _Kuc_121 + _K_131 + _K_141 + _Kp1"
     ],
     "language": "python",
     "metadata": {},
     "outputs": [],
     "prompt_number": 39
    },
    {
     "cell_type": "code",
     "collapsed": false,
     "input": [
      "out = statik.Output()\n",
      "out.addMatrix(_Ka, '\\underline{\\widetilde K_a}')\n",
      "out.latex()"
     ],
     "language": "python",
     "metadata": {},
     "outputs": [
      {
       "latex": [
        "$$\\underline{\\widetilde K_a} = \\begin{bmatrix}\n",
        "  93771.7 & -884.4 & 2924.6\\\\\n",
        "  -884.4 & 28033.9 & 6083.2\\\\\n",
        "  2924.6 & 6083.2 & 53333.3\\\\\n",
        "\\end{bmatrix}$$"
       ],
       "metadata": {},
       "output_type": "pyout",
       "prompt_number": 40,
       "text": [
        "<IPython.core.display.Latex at 0x28cd4d0>"
       ]
      }
     ],
     "prompt_number": 40
    },
    {
     "cell_type": "code",
     "collapsed": false,
     "input": [
      "out = statik.Output()\n",
      "out.addMatrix(_Kb, '\\underline{\\widetilde K_b}')\n",
      "out.latex()"
     ],
     "language": "python",
     "metadata": {},
     "outputs": [
      {
       "latex": [
        "$$\\underline{\\widetilde K_b} = \\begin{bmatrix}\n",
        "  93905.3 & -711.6 & 3361.6\\\\\n",
        "  -711.6 & 28257.4 & 6648.2\\\\\n",
        "  3361.6 & 6648.2 & 54761.9\\\\\n",
        "\\end{bmatrix}$$"
       ],
       "metadata": {},
       "output_type": "pyout",
       "prompt_number": 41,
       "text": [
        "<IPython.core.display.Latex at 0x28cd290>"
       ]
      }
     ],
     "prompt_number": 41
    },
    {
     "cell_type": "code",
     "collapsed": false,
     "input": [
      "out = statik.Output()\n",
      "out.addMatrix(_Kc, '\\underline{\\widetilde K_c}')\n",
      "out.latex()"
     ],
     "language": "python",
     "metadata": {},
     "outputs": [
      {
       "latex": [
        "$$\\underline{\\widetilde K_c} = \\begin{bmatrix}\n",
        "  94083.5 & -481.1 & 3944.2\\\\\n",
        "  -481.1 & 28555.4 & 7401.6\\\\\n",
        "  3944.2 & 7401.6 & 56666.7\\\\\n",
        "\\end{bmatrix}$$"
       ],
       "metadata": {},
       "output_type": "pyout",
       "prompt_number": 42,
       "text": [
        "<IPython.core.display.Latex at 0x28cd690>"
       ]
      }
     ],
     "prompt_number": 42
    },
    {
     "cell_type": "heading",
     "level": 2,
     "metadata": {},
     "source": [
      "Aufstellen und L\u00f6sen des GLS"
     ]
    },
    {
     "cell_type": "heading",
     "level": 3,
     "metadata": {},
     "source": [
      "Knotenlasten"
     ]
    },
    {
     "cell_type": "code",
     "collapsed": false,
     "input": [
      "#_P = np.matrix([[0], [0], [0], [0], [0], [0]])\n",
      "_P = np.matrix([[0], [0], [0]])"
     ],
     "language": "python",
     "metadata": {},
     "outputs": [],
     "prompt_number": 43
    },
    {
     "cell_type": "code",
     "collapsed": false,
     "input": [
      "out = statik.Output(decimals=5)\n",
      "out.addMatrix(_P, '\\underline{\\widetilde P}')\n",
      "out.latex()"
     ],
     "language": "python",
     "metadata": {},
     "outputs": [
      {
       "latex": [
        "$$\\underline{\\widetilde P} = \\begin{bmatrix}\n",
        "  0\\\\\n",
        "  0\\\\\n",
        "  0\\\\\n",
        "\\end{bmatrix}$$"
       ],
       "metadata": {},
       "output_type": "pyout",
       "prompt_number": 44,
       "text": [
        "<IPython.core.display.Latex at 0x28cdb90>"
       ]
      }
     ],
     "prompt_number": 44
    },
    {
     "cell_type": "heading",
     "level": 3,
     "metadata": {},
     "source": [
      "Stablasten"
     ]
    },
    {
     "cell_type": "code",
     "collapsed": false,
     "input": [
      "_F0a = T_12 * F0ua_1[:3]\n",
      "_F0b = T_12 * F0ub_1[:3]\n",
      "_F0c = T_12 * F0uc_1[:3]"
     ],
     "language": "python",
     "metadata": {},
     "outputs": [],
     "prompt_number": 45
    },
    {
     "cell_type": "code",
     "collapsed": false,
     "input": [
      "out = statik.Output(decimals=5)\n",
      "out.addMatrix(_F0a, '\\underline{\\widetilde F} _{a)}^0')\n",
      "out.addMatrix(_F0b, '\\underline{\\widetilde F} _{b)}^0')\n",
      "out.addMatrix(_F0c, '\\underline{\\widetilde F} _{c)}^0')\n",
      "out.latex()"
     ],
     "language": "python",
     "metadata": {},
     "outputs": [
      {
       "latex": [
        "$$\\underline{\\widetilde F} _{a)}^0 = \\begin{bmatrix}\n",
        "  38.28821\\\\\n",
        "  -48.56967\\\\\n",
        "  -90.\\\\\n",
        "\\end{bmatrix}$$\n",
        "$$\\underline{\\widetilde F} _{b)}^0 = \\begin{bmatrix}\n",
        "  42.22075\\\\\n",
        "  -43.48423\\\\\n",
        "  -77.14286\\\\\n",
        "\\end{bmatrix}$$\n",
        "$$\\underline{\\widetilde F} _{c)}^0 = \\begin{bmatrix}\n",
        "  47.46412\\\\\n",
        "  -36.70364\\\\\n",
        "  -60.\\\\\n",
        "\\end{bmatrix}$$"
       ],
       "metadata": {},
       "output_type": "pyout",
       "prompt_number": 46,
       "text": [
        "<IPython.core.display.Latex at 0x28cdc50>"
       ]
      }
     ],
     "prompt_number": 46
    },
    {
     "cell_type": "code",
     "collapsed": false,
     "input": [
      "_va = _Ka.I * (_P - _F0a)\n",
      "_vb = _Kb.I * (_P - _F0b)\n",
      "_vc = _Kc.I * (_P - _F0c)"
     ],
     "language": "python",
     "metadata": {},
     "outputs": [],
     "prompt_number": 47
    },
    {
     "cell_type": "code",
     "collapsed": false,
     "input": [
      "out = statik.Output(decimals=4)\n",
      "out.addMatrix(_va, '\\underline{\\widetilde v} _{a)}')\n",
      "out.addMatrix(_vb, '\\underline{\\widetilde v} _{b)}')\n",
      "out.addMatrix(_vc, '\\underline{\\widetilde v} _{c)}')\n",
      "out.latex()"
     ],
     "language": "python",
     "metadata": {},
     "outputs": [
      {
       "latex": [
        "$$\\underline{\\widetilde v} _{a)} = \\begin{bmatrix}\n",
        "  -0.0004\\\\\n",
        "  0.0014\\\\\n",
        "  0.0016\\\\\n",
        "\\end{bmatrix}$$\n",
        "$$\\underline{\\widetilde v} _{b)} = \\begin{bmatrix}\n",
        "  -0.0005\\\\\n",
        "  0.0012\\\\\n",
        "  0.0013\\\\\n",
        "\\end{bmatrix}$$\n",
        "$$\\underline{\\widetilde v} _{c)} = \\begin{bmatrix}\n",
        "  -0.0005\\\\\n",
        "  0.001\\\\\n",
        "  0.001\\\\\n",
        "\\end{bmatrix}$$"
       ],
       "metadata": {},
       "output_type": "pyout",
       "prompt_number": 48,
       "text": [
        "<IPython.core.display.Latex at 0x28cd1d0>"
       ]
      }
     ],
     "prompt_number": 48
    },
    {
     "cell_type": "heading",
     "level": 2,
     "metadata": {},
     "source": [
      "Berechnen der RSK"
     ]
    },
    {
     "cell_type": "code",
     "collapsed": false,
     "input": [
      "Fa_12 = F0ua_1[:3] + Kua_121 * (T_12 * _va)\n",
      "Fa_21 = F0ua_1[3:] + Kua_211 * (T_12 * _va)\n",
      "Fa_13 = K_131 * (T_13 * _va)\n",
      "Fa_31 = K_311 * (T_13 * _va)\n",
      "Fa_14 = K_141 * (T_14 * _va)\n",
      "Fa_41 = K_411 * (T_14 * _va)\n",
      "\n",
      "Fb_12 = F0ub_1[:3] + Kub_121 * (T_12 * _vb)\n",
      "Fb_21 = F0ub_1[3:] + Kub_211 * (T_12 * _vb)\n",
      "Fb_13 = K_131 * (T_13 * _vb)\n",
      "Fb_31 = K_311 * (T_13 * _vb)\n",
      "Fb_14 = K_141 * (T_14 * _vb)\n",
      "Fb_41 = K_411 * (T_14 * _vb)\n",
      "\n",
      "Fc_12 = F0uc_1[:3] + Kuc_121 * (T_12 * _vc)\n",
      "Fc_21 = F0uc_1[3:] + Kuc_211 * (T_12 * _vc)\n",
      "Fc_13 = K_131 * (T_13 * _va)\n",
      "Fc_31 = K_311 * (T_13 * _va)\n",
      "Fc_14 = K_141 * (T_14 * _va)\n",
      "Fc_41 = K_411 * (T_14 * _va)"
     ],
     "language": "python",
     "metadata": {},
     "outputs": [],
     "prompt_number": 49
    },
    {
     "cell_type": "code",
     "collapsed": false,
     "input": [
      "out = statik.Output()\n",
      "out.addMatrix(Fa_12, '\\underline F_{a)} (12)')\n",
      "out.addMatrix(Fa_21, '\\underline F_{a)} (21)')\n",
      "out.addMatrix(Fa_13, '\\underline F_{a)} (13)')\n",
      "out.addMatrix(Fa_31, '\\underline F_{a)} (31)')\n",
      "out.addMatrix(Fa_14, '\\underline F_{a)} (14)')\n",
      "out.addMatrix(Fa_41, '\\underline F_{a)} (41)')\n",
      "out.latex()"
     ],
     "language": "python",
     "metadata": {},
     "outputs": [
      {
       "latex": [
        "$$\\underline F_{a)} (12) = \\begin{bmatrix}\n",
        "  76.5\\\\\n",
        "  -12.\\\\\n",
        "  -72.2\\\\\n",
        "\\end{bmatrix}$$\n",
        "$$\\underline F_{a)} (21) = \\begin{bmatrix}\n",
        "  43.5\\\\\n",
        "  12.\\\\\n",
        "  0.\\\\\n",
        "\\end{bmatrix}$$\n",
        "$$\\underline F_{a)} (13) = \\begin{bmatrix}\n",
        "  38.5\\\\\n",
        "  4.2\\\\\n",
        "  17.8\\\\\n",
        "\\end{bmatrix}$$\n",
        "$$\\underline F_{a)} (31) = \\begin{bmatrix}\n",
        "  -38.5\\\\\n",
        "  -4.2\\\\\n",
        "  7.4\\\\\n",
        "\\end{bmatrix}$$\n",
        "$$\\underline F_{a)} (14) = \\begin{bmatrix}\n",
        "  -22.2\\\\\n",
        "  16.8\\\\\n",
        "  41.4\\\\\n",
        "\\end{bmatrix}$$\n",
        "$$\\underline F_{a)} (41) = \\begin{bmatrix}\n",
        "  22.2\\\\\n",
        "  -16.8\\\\\n",
        "  25.9\\\\\n",
        "\\end{bmatrix}$$"
       ],
       "metadata": {},
       "output_type": "pyout",
       "prompt_number": 50,
       "text": [
        "<IPython.core.display.Latex at 0x28c3c90>"
       ]
      }
     ],
     "prompt_number": 50
    },
    {
     "cell_type": "code",
     "collapsed": false,
     "input": [
      "out = statik.Output()\n",
      "out.addMatrix(Fb_12, '\\underline F_{b)} (12)')\n",
      "out.addMatrix(Fb_21, '\\underline F_{b)} (21)')\n",
      "out.addMatrix(Fb_13, '\\underline F_{b)} (13)')\n",
      "out.addMatrix(Fb_31, '\\underline F_{b)} (31)')\n",
      "out.addMatrix(Fb_14, '\\underline F_{b)} (14)')\n",
      "out.addMatrix(Fb_41, '\\underline F_{b)} (41)')\n",
      "out.latex()"
     ],
     "language": "python",
     "metadata": {},
     "outputs": [
      {
       "latex": [
        "$$\\underline F_{b)} (12) = \\begin{bmatrix}\n",
        "  72.1\\\\\n",
        "  -4.7\\\\\n",
        "  -59.4\\\\\n",
        "\\end{bmatrix}$$\n",
        "$$\\underline F_{b)} (21) = \\begin{bmatrix}\n",
        "  47.9\\\\\n",
        "  4.7\\\\\n",
        "  31.2\\\\\n",
        "\\end{bmatrix}$$\n",
        "$$\\underline F_{b)} (13) = \\begin{bmatrix}\n",
        "  36.6\\\\\n",
        "  3.5\\\\\n",
        "  14.8\\\\\n",
        "\\end{bmatrix}$$\n",
        "$$\\underline F_{b)} (31) = \\begin{bmatrix}\n",
        "  -36.6\\\\\n",
        "  -3.5\\\\\n",
        "  6.2\\\\\n",
        "\\end{bmatrix}$$\n",
        "$$\\underline F_{b)} (14) = \\begin{bmatrix}\n",
        "  -24.3\\\\\n",
        "  14.3\\\\\n",
        "  35.\\\\\n",
        "\\end{bmatrix}$$\n",
        "$$\\underline F_{b)} (41) = \\begin{bmatrix}\n",
        "  24.3\\\\\n",
        "  -14.3\\\\\n",
        "  22.1\\\\\n",
        "\\end{bmatrix}$$"
       ],
       "metadata": {},
       "output_type": "pyout",
       "prompt_number": 51,
       "text": [
        "<IPython.core.display.Latex at 0x28cd250>"
       ]
      }
     ],
     "prompt_number": 51
    },
    {
     "cell_type": "code",
     "collapsed": false,
     "input": [
      "out = statik.Output()\n",
      "out.addMatrix(Fc_12, '\\underline F_{c)} (12)')\n",
      "out.addMatrix(Fc_21, '\\underline F_{c)} (21)')\n",
      "out.addMatrix(Fc_13, '\\underline F_{c)} (13)')\n",
      "out.addMatrix(Fc_31, '\\underline F_{c)} (41)')\n",
      "out.addMatrix(Fc_14, '\\underline F_{c)} (14)')\n",
      "out.addMatrix(Fc_41, '\\underline F_{c)} (41)')\n",
      "out.latex()"
     ],
     "language": "python",
     "metadata": {},
     "outputs": [
      {
       "latex": [
        "$$\\underline F_{c)} (12) = \\begin{bmatrix}\n",
        "  66.7\\\\\n",
        "  4.5\\\\\n",
        "  -43.4\\\\\n",
        "\\end{bmatrix}$$\n",
        "$$\\underline F_{c)} (21) = \\begin{bmatrix}\n",
        "  53.3\\\\\n",
        "  -4.5\\\\\n",
        "  70.2\\\\\n",
        "\\end{bmatrix}$$\n",
        "$$\\underline F_{c)} (13) = \\begin{bmatrix}\n",
        "  38.5\\\\\n",
        "  4.2\\\\\n",
        "  17.8\\\\\n",
        "\\end{bmatrix}$$\n",
        "$$\\underline F_{c)} (41) = \\begin{bmatrix}\n",
        "  -38.5\\\\\n",
        "  -4.2\\\\\n",
        "  7.4\\\\\n",
        "\\end{bmatrix}$$\n",
        "$$\\underline F_{c)} (14) = \\begin{bmatrix}\n",
        "  -22.2\\\\\n",
        "  16.8\\\\\n",
        "  41.4\\\\\n",
        "\\end{bmatrix}$$\n",
        "$$\\underline F_{c)} (41) = \\begin{bmatrix}\n",
        "  22.2\\\\\n",
        "  -16.8\\\\\n",
        "  25.9\\\\\n",
        "\\end{bmatrix}$$"
       ],
       "metadata": {},
       "output_type": "pyout",
       "prompt_number": 52,
       "text": [
        "<IPython.core.display.Latex at 0x28c3fd0>"
       ]
      }
     ],
     "prompt_number": 52
    },
    {
     "cell_type": "code",
     "collapsed": false,
     "input": [],
     "language": "python",
     "metadata": {},
     "outputs": [],
     "prompt_number": 52
    }
   ],
   "metadata": {}
  }
 ]
}