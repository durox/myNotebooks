{
 "metadata": {
  "name": ""
 },
 "nbformat": 3,
 "nbformat_minor": 0,
 "worksheets": [
  {
   "cells": [
    {
     "cell_type": "code",
     "collapsed": false,
     "input": [
      "%pylab"
     ],
     "language": "python",
     "metadata": {},
     "outputs": [
      {
       "output_type": "stream",
       "stream": "stdout",
       "text": [
        "Using matplotlib backend: TkAgg\n",
        "Populating the interactive namespace from numpy and matplotlib\n"
       ]
      }
     ],
     "prompt_number": 2
    },
    {
     "cell_type": "code",
     "collapsed": false,
     "input": [
      "m1 = np.matrix([[11,12],[21,22]])\n",
      "m2 = np.matrix([[31,32],[41,42]])\n",
      "m3 = np.matrix([[13,14],[23,24]])\n",
      "m4 = np.matrix([[33,34],[43,44]])\n",
      "m12 = np.concatenate((m1,m2))\n",
      "m34 = np.concatenate((m3,m4))\n",
      "ma = np.concatenate((m12,m34), axis=1)"
     ],
     "language": "python",
     "metadata": {},
     "outputs": [],
     "prompt_number": 4
    },
    {
     "cell_type": "code",
     "collapsed": false,
     "input": [
      "def bmatrix(a):\n",
      "    \"\"\"Returns a LaTeX bmatrix\n",
      "\n",
      "    :a: numpy array\n",
      "    :returns: LaTeX bmatrix as a string\n",
      "    \"\"\"\n",
      "    if len(a.shape) > 2:\n",
      "        raise ValueError('bmatrix can at most display two dimensions')\n",
      "    lines = str(a).replace('[', '').replace(']', '').splitlines()\n",
      "    rv = [r'\\begin{bmatrix}']\n",
      "    rv += ['  ' + ' & '.join(l.split()) + r'\\\\' for l in lines]\n",
      "    rv +=  [r'\\end{bmatrix}']\n",
      "    return '\\n'.join(rv)"
     ],
     "language": "python",
     "metadata": {},
     "outputs": [],
     "prompt_number": 8
    },
    {
     "cell_type": "code",
     "collapsed": false,
     "input": [
      "class Output(object):\n",
      "    \"\"\"pretty output\"\"\"\n",
      "    def __init__(self):\n",
      "        self.elements = list()\n",
      "    \n",
      "    def addMatrix(self, value, name=None):\n",
      "        if name:\n",
      "            s = name + ' = '\n",
      "        else:\n",
      "            s = ''\n",
      "        s += bmatrix(value)\n",
      "        self.elements.append('$$' + s + '$$')\n",
      "    \n",
      "    def addValue(self, value, name=None, unit=None):\n",
      "        if name:\n",
      "            s = name + ' = '\n",
      "        else:\n",
      "            s = ''\n",
      "        s += str(value)\n",
      "        if unit:\n",
      "            s += ' ' + unit\n",
      "        self.elements.append('$$' + s + '$$')\n",
      "    \n",
      "    def latex(self):\n",
      "        import IPython.display as d\n",
      "        return d.Latex('\\n'.join(self.elements))"
     ],
     "language": "python",
     "metadata": {},
     "outputs": [],
     "prompt_number": 19
    },
    {
     "cell_type": "code",
     "collapsed": false,
     "input": [
      "bmatrix(ma)"
     ],
     "language": "python",
     "metadata": {},
     "outputs": [
      {
       "metadata": {},
       "output_type": "pyout",
       "prompt_number": 20,
       "text": [
        "'\\\\begin{bmatrix}\\n  11 & 12 & 13 & 14\\\\\\\\\\n  21 & 22 & 23 & 24\\\\\\\\\\n  31 & 32 & 33 & 34\\\\\\\\\\n  41 & 42 & 43 & 44\\\\\\\\\\n\\\\end{bmatrix}'"
       ]
      }
     ],
     "prompt_number": 20
    },
    {
     "cell_type": "code",
     "collapsed": false,
     "input": [
      "l = ['12', '34']"
     ],
     "language": "python",
     "metadata": {},
     "outputs": [],
     "prompt_number": 21
    },
    {
     "cell_type": "code",
     "collapsed": false,
     "input": [
      "'\\n'.join(l)"
     ],
     "language": "python",
     "metadata": {},
     "outputs": [
      {
       "metadata": {},
       "output_type": "pyout",
       "prompt_number": 22,
       "text": [
        "'12\\n34'"
       ]
      }
     ],
     "prompt_number": 22
    },
    {
     "cell_type": "code",
     "collapsed": false,
     "input": [
      "out = Output()\n",
      "out.addMatrix(ma, 'K')\n",
      "out.addValue(123, 'F', 'kN')\n",
      "out.addValue(321, 'g', '\\\\frac{kN}{m}')\n",
      "out.latex()"
     ],
     "language": "python",
     "metadata": {},
     "outputs": [
      {
       "latex": [
        "$$K = \\begin{bmatrix}\n",
        "  11 & 12 & 13 & 14\\\\\n",
        "  21 & 22 & 23 & 24\\\\\n",
        "  31 & 32 & 33 & 34\\\\\n",
        "  41 & 42 & 43 & 44\\\\\n",
        "\\end{bmatrix}$$\n",
        "$$F = 123 kN$$\n",
        "$$g = 321 \\frac{kN}{m}$$"
       ],
       "metadata": {},
       "output_type": "pyout",
       "prompt_number": 27,
       "text": [
        "<IPython.core.display.Latex at 0x4274750>"
       ]
      }
     ],
     "prompt_number": 27
    },
    {
     "cell_type": "code",
     "collapsed": false,
     "input": [],
     "language": "python",
     "metadata": {},
     "outputs": []
    }
   ],
   "metadata": {}
  }
 ]
}