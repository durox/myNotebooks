{
 "metadata": {
  "name": ""
 },
 "nbformat": 3,
 "nbformat_minor": 0,
 "worksheets": [
  {
   "cells": [
    {
     "cell_type": "code",
     "collapsed": false,
     "input": [
      "%pylab"
     ],
     "language": "python",
     "metadata": {},
     "outputs": [
      {
       "output_type": "stream",
       "stream": "stdout",
       "text": [
        "Using matplotlib backend: TkAgg\n",
        "Populating the interactive namespace from numpy and matplotlib\n"
       ]
      }
     ],
     "prompt_number": 1
    },
    {
     "cell_type": "code",
     "collapsed": false,
     "input": [
      "def K_eingesp(E, A, I, l, element='all'):\n",
      "    \"\"\"Stabsteifigkeitsmatrix f\u00fcr beidseitig eingespannten Stab\"\"\"\n",
      "    K = np.matrix([[E*A/l, 0, 0, -E*A/l, 0, 0],\n",
      "                  [0, 12*E*I/(l**3), 6*E*I/(l**2), 0, -12*E*I/(l**3), 6*E*I/(l**2)],\n",
      "                  [0, 6*E*I/(l**2), 4*E*I/l, 0, -6*E*I/(l**2), 2*E*I/l],\n",
      "                  [-E*A/l, 0, 0, E*A/l, 0, 0],\n",
      "                  [0, -12*E*I/(l**3), -6*E*I/(l**2), 0, 12*E*I/(l**3), -6*E*I/(l**2)],\n",
      "                  [0, 6*E*I/(l**2), 2*E*I/l, 0, -6*E*I/(l**2), 4*E*I/l]])\n",
      "    if element=='iki':\n",
      "        return K[0:3, 0:3]\n",
      "    elif element=='ikk':\n",
      "        return K[0:3, 3:]\n",
      "    elif element=='kii':\n",
      "        return K[3:, 0:3]\n",
      "    elif element=='kik':\n",
      "        return K[3:, 3:]\n",
      "    elif element=='all':\n",
      "        return K\n",
      "\n",
      "def T(alpha):\n",
      "    \"\"\"Transformationsmatrix in Abh\u00e4ngigkeit von Drehwinkel Alpha (rad)\"\"\"\n",
      "    c = np.cos(alpha)\n",
      "    s = np.sin(alpha)\n",
      "    T = np.matrix([[c, s, 0], [-s, c, 0], [0, 0, 1]])\n",
      "    return T"
     ],
     "language": "python",
     "metadata": {},
     "outputs": [],
     "prompt_number": 2
    },
    {
     "cell_type": "code",
     "collapsed": false,
     "input": [
      "E = 2.1E8\n",
      "I = 1.E-4\n",
      "A = 1.E-3\n",
      "\n",
      "P = 50\n",
      "M = 15\n",
      "q = 5\n",
      "\n",
      "l_14 = l_16 = 4.\n",
      "l_12 = l_15 = 3.\n",
      "l_23 = np.sqrt(4**2 + 3**2)"
     ],
     "language": "python",
     "metadata": {},
     "outputs": [],
     "prompt_number": 3
    },
    {
     "cell_type": "code",
     "collapsed": false,
     "input": [
      "T_15 = T_12 = T(np.radians(90.))\n",
      "T_23 = T(np.radians(270.))"
     ],
     "language": "python",
     "metadata": {},
     "outputs": [],
     "prompt_number": 4
    },
    {
     "cell_type": "code",
     "collapsed": false,
     "input": [
      "_F0_14 = F0_14 = np.matrix([0, -q*l_14/2, -q*l_14**2/12]).T\n",
      "_F0_41 = F0_41 = np.matrix([0, -q*l_14/2, q*l_14**2/12]).T\n",
      "\n",
      "_F0_16 = F0_16 = np.matrix([0, -q*l_16, -q*l_16**2/2]).T\n",
      "print _F0_14\n",
      "print _F0_41\n",
      "print ''\n",
      "print _F0_16"
     ],
     "language": "python",
     "metadata": {},
     "outputs": [
      {
       "output_type": "stream",
       "stream": "stdout",
       "text": [
        "[[  0.        ]\n",
        " [-10.        ]\n",
        " [ -6.66666667]]\n",
        "[[  0.        ]\n",
        " [-10.        ]\n",
        " [  6.66666667]]\n",
        "\n",
        "[[  0.]\n",
        " [-20.]\n",
        " [-40.]]\n"
       ]
      }
     ],
     "prompt_number": 5
    },
    {
     "cell_type": "code",
     "collapsed": false,
     "input": [
      "_P_6 = np.matrix([0, P, M]).T\n",
      "#_P_1 = np.matrix([0, P+q*l_16, M+P*l_16+q*l_16**2/2]).T\n",
      "_P_1 = np.matrix([0,0,0]).T\n",
      "print _P_6"
     ],
     "language": "python",
     "metadata": {},
     "outputs": [
      {
       "output_type": "stream",
       "stream": "stdout",
       "text": [
        "[[ 0]\n",
        " [50]\n",
        " [15]]\n"
       ]
      }
     ],
     "prompt_number": 6
    },
    {
     "cell_type": "code",
     "collapsed": false,
     "input": [
      "K_141 = K_eingesp(E, A, I, l_14, 'kik')\n",
      "K_121 = K_eingesp(E, A, I, l_12, 'kik')\n",
      "K_151 = K_eingesp(E, A, I, l_15, 'iki')\n",
      "K_122 = K_eingesp(E, A, I, l_12, 'kii')\n",
      "K_161 = K_eingesp(E, A, I, l_16, 'iki')\n",
      "K_611 = K_eingesp(E, A, I, l_16, 'kii')\n",
      "K_166 = K_eingesp(E, A, I, l_16, 'ikk')\n",
      "K_616 = K_eingesp(E, A, I, l_16, 'kik')"
     ],
     "language": "python",
     "metadata": {},
     "outputs": [],
     "prompt_number": 7
    },
    {
     "cell_type": "code",
     "collapsed": false,
     "input": [
      "_K_121 = T_12 * K_121 * T_12.T\n",
      "_K_151 = T_15 * K_151 * T_15.T\n",
      "_K_122 = T_12 * K_122 * T_12.T\n",
      "_K_141 = K_141\n",
      "_K_161 = K_161\n",
      "_K_166 = K_166\n",
      "_K_611 = K_611\n",
      "_K_616 = K_616\n",
      "print _K_121\n",
      "print ''\n",
      "print _K_151\n",
      "print ''\n",
      "print _K_122\n",
      "print ''\n",
      "print _K_141\n",
      "print ''\n",
      "print _K_161\n",
      "print ''\n",
      "print _K_166\n",
      "print ''\n",
      "print _K_611\n",
      "print ''\n",
      "print _K_616"
     ],
     "language": "python",
     "metadata": {},
     "outputs": [
      {
       "output_type": "stream",
       "stream": "stdout",
       "text": [
        "[[  9.33333333e+03  -3.71476196e-12  -1.40000000e+04]\n",
        " [ -3.71476196e-12   7.00000000e+04  -8.57252759e-13]\n",
        " [ -1.40000000e+04  -8.57252759e-13   2.80000000e+04]]\n",
        "\n",
        "[[  9.33333333e+03  -3.71476196e-12   1.40000000e+04]\n",
        " [ -3.71476196e-12   7.00000000e+04   8.57252759e-13]\n",
        " [  1.40000000e+04   8.57252759e-13   2.80000000e+04]]\n",
        "\n",
        "[[ -9.33333333e+03   3.71476196e-12  -1.40000000e+04]\n",
        " [  3.71476196e-12  -7.00000000e+04  -8.57252759e-13]\n",
        " [  1.40000000e+04   8.57252759e-13   1.40000000e+04]]\n",
        "\n",
        "[[ 52500.       0.       0. ]\n",
        " [     0.    3937.5  -7875. ]\n",
        " [     0.   -7875.   21000. ]]\n",
        "\n",
        "[[ 52500.       0.       0. ]\n",
        " [     0.    3937.5   7875. ]\n",
        " [     0.    7875.   21000. ]]\n",
        "\n",
        "[[-52500.       0.       0. ]\n",
        " [     0.   -3937.5   7875. ]\n",
        " [     0.   -7875.   10500. ]]\n",
        "\n",
        "[[-52500.       0.       0. ]\n",
        " [     0.   -3937.5  -7875. ]\n",
        " [     0.    7875.   10500. ]]\n",
        "\n",
        "[[ 52500.       0.       0. ]\n",
        " [     0.    3937.5  -7875. ]\n",
        " [     0.   -7875.   21000. ]]\n"
       ]
      }
     ],
     "prompt_number": 37
    },
    {
     "cell_type": "code",
     "collapsed": false,
     "input": [
      "K_211 = K_eingesp(E, A, I, l_12, 'ikk')\n",
      "K_212 = K_eingesp(E, A, I, l_12, 'iki')\n",
      "K_232 = K_eingesp(E, A, I, l_23, 'kik')"
     ],
     "language": "python",
     "metadata": {},
     "outputs": [],
     "prompt_number": 9
    },
    {
     "cell_type": "code",
     "collapsed": false,
     "input": [
      "_K_211 = T_12 * K_211 * T_12.T\n",
      "_K_212 = T_12 * K_211 * T_12.T\n",
      "_K_232 = T_23 * K_232 * T_23.T\n",
      "print _K_211\n",
      "print ''\n",
      "print _K_212\n",
      "print ''\n",
      "print _K_232"
     ],
     "language": "python",
     "metadata": {},
     "outputs": [
      {
       "output_type": "stream",
       "stream": "stdout",
       "text": [
        "[[ -9.33333333e+03   3.71476196e-12   1.40000000e+04]\n",
        " [  3.71476196e-12  -7.00000000e+04   8.57252759e-13]\n",
        " [ -1.40000000e+04  -8.57252759e-13   1.40000000e+04]]\n",
        "\n",
        "[[ -9.33333333e+03   3.71476196e-12   1.40000000e+04]\n",
        " [  3.71476196e-12  -7.00000000e+04   8.57252759e-13]\n",
        " [ -1.40000000e+04  -8.57252759e-13   1.40000000e+04]]\n",
        "\n",
        "[[  2.01600000e+03  -7.34494164e-12   5.04000000e+03]\n",
        " [ -7.34494164e-12   4.20000000e+04   9.25832980e-13]\n",
        " [  5.04000000e+03   9.25832980e-13   1.68000000e+04]]\n"
       ]
      }
     ],
     "prompt_number": 10
    },
    {
     "cell_type": "code",
     "collapsed": false,
     "input": [
      "_K_11 = _K_141 + _K_151 + _K_121 + _K_161\n",
      "print _K_11"
     ],
     "language": "python",
     "metadata": {},
     "outputs": [
      {
       "output_type": "stream",
       "stream": "stdout",
       "text": [
        "[[  1.23666667e+05  -7.42952391e-12   0.00000000e+00]\n",
        " [ -7.42952391e-12   1.47875000e+05   0.00000000e+00]\n",
        " [  0.00000000e+00   0.00000000e+00   9.80000000e+04]]\n"
       ]
      }
     ],
     "prompt_number": 11
    },
    {
     "cell_type": "code",
     "collapsed": false,
     "input": [
      "_K_12 = _K_122\n",
      "print _K_12"
     ],
     "language": "python",
     "metadata": {},
     "outputs": [
      {
       "output_type": "stream",
       "stream": "stdout",
       "text": [
        "[[ -9.33333333e+03   3.71476196e-12  -1.40000000e+04]\n",
        " [  3.71476196e-12  -7.00000000e+04  -8.57252759e-13]\n",
        " [  1.40000000e+04   8.57252759e-13   1.40000000e+04]]\n"
       ]
      }
     ],
     "prompt_number": 12
    },
    {
     "cell_type": "code",
     "collapsed": false,
     "input": [
      "_K_13 = _K_166\n",
      "print _K_166"
     ],
     "language": "python",
     "metadata": {},
     "outputs": [
      {
       "output_type": "stream",
       "stream": "stdout",
       "text": [
        "[[-52500.       0.       0. ]\n",
        " [     0.   -3937.5   7875. ]\n",
        " [     0.   -7875.   10500. ]]\n"
       ]
      }
     ],
     "prompt_number": 13
    },
    {
     "cell_type": "code",
     "collapsed": false,
     "input": [
      "_F0_1 = _F0_14 + _F0_16\n",
      "_F0_2 = np.mat(np.zeros((3,1)))\n",
      "_F0_6 = np.mat(np.zeros((3,1)))\n",
      "m1 = np.concatenate((_F0_1, _F0_2))\n",
      "_F0 = np.concatenate((m1, _F0_6))\n",
      "print _F0"
     ],
     "language": "python",
     "metadata": {},
     "outputs": [
      {
       "output_type": "stream",
       "stream": "stdout",
       "text": [
        "[[  0.        ]\n",
        " [-30.        ]\n",
        " [-46.66666667]\n",
        " [  0.        ]\n",
        " [  0.        ]\n",
        " [  0.        ]\n",
        " [  0.        ]\n",
        " [  0.        ]\n",
        " [  0.        ]]\n"
       ]
      }
     ],
     "prompt_number": 14
    },
    {
     "cell_type": "code",
     "collapsed": false,
     "input": [
      "print _P_1"
     ],
     "language": "python",
     "metadata": {},
     "outputs": [
      {
       "output_type": "stream",
       "stream": "stdout",
       "text": [
        "[[0]\n",
        " [0]\n",
        " [0]]\n"
       ]
      }
     ],
     "prompt_number": 15
    },
    {
     "cell_type": "code",
     "collapsed": false,
     "input": [
      "_K_21 = _K_211"
     ],
     "language": "python",
     "metadata": {},
     "outputs": [],
     "prompt_number": 16
    },
    {
     "cell_type": "code",
     "collapsed": false,
     "input": [
      "_K_22 = _K_212 + _K_232"
     ],
     "language": "python",
     "metadata": {},
     "outputs": [],
     "prompt_number": 17
    },
    {
     "cell_type": "code",
     "collapsed": false,
     "input": [
      "_K_23 = np.mat(np.zeros((3,3)))"
     ],
     "language": "python",
     "metadata": {},
     "outputs": [],
     "prompt_number": 18
    },
    {
     "cell_type": "code",
     "collapsed": false,
     "input": [
      "_P_2 = np.mat(np.zeros((1,3))).T"
     ],
     "language": "python",
     "metadata": {},
     "outputs": [],
     "prompt_number": 19
    },
    {
     "cell_type": "code",
     "collapsed": false,
     "input": [
      "_K_31 = _K_611"
     ],
     "language": "python",
     "metadata": {},
     "outputs": [],
     "prompt_number": 20
    },
    {
     "cell_type": "code",
     "collapsed": false,
     "input": [
      "_K_32 = np.mat(np.zeros((3,3)))"
     ],
     "language": "python",
     "metadata": {},
     "outputs": [],
     "prompt_number": 21
    },
    {
     "cell_type": "code",
     "collapsed": false,
     "input": [
      "_K_33 = _K_616"
     ],
     "language": "python",
     "metadata": {},
     "outputs": [],
     "prompt_number": 22
    },
    {
     "cell_type": "code",
     "collapsed": false,
     "input": [
      "m1 = np.concatenate((_K_11, _K_21))\n",
      "m2 = np.concatenate((m1, _K_31))\n",
      "m3 = np.concatenate((_K_12, _K_22))\n",
      "m4 = np.concatenate((m3, _K_32))\n",
      "m5 = np.concatenate((_K_13, _K_23))\n",
      "m6 = np.concatenate((m5, _K_33))\n",
      "m7 = np.concatenate((m2, m4), axis=1)\n",
      "_K = np.concatenate((m7, m6), axis=1)\n",
      "print np.round(_K,1)"
     ],
     "language": "python",
     "metadata": {},
     "outputs": [
      {
       "output_type": "stream",
       "stream": "stdout",
       "text": [
        "[[ 123666.7      -0.        0.    -9333.3       0.   -14000.   -52500.\n",
        "        0.        0. ]\n",
        " [     -0.   147875.        0.        0.   -70000.       -0.        0.\n",
        "    -3937.5    7875. ]\n",
        " [      0.        0.    98000.    14000.        0.    14000.        0.\n",
        "    -7875.    10500. ]\n",
        " [  -9333.3       0.    14000.    -7317.3      -0.    19040.        0.\n",
        "        0.        0. ]\n",
        " [      0.   -70000.        0.       -0.   -28000.        0.        0.\n",
        "        0.        0. ]\n",
        " [ -14000.       -0.    14000.    -8960.        0.    30800.        0.\n",
        "        0.        0. ]\n",
        " [ -52500.        0.        0.        0.        0.        0.    52500.\n",
        "        0.        0. ]\n",
        " [      0.    -3937.5   -7875.        0.        0.        0.        0.\n",
        "     3937.5   -7875. ]\n",
        " [      0.     7875.    10500.        0.        0.        0.        0.\n",
        "    -7875.    21000. ]]\n"
       ]
      }
     ],
     "prompt_number": 23
    },
    {
     "cell_type": "code",
     "collapsed": false,
     "input": [
      "m1 = np.concatenate((_P_1, _P_2))\n",
      "_P = np.concatenate((m1, _P_6))\n",
      "print _P"
     ],
     "language": "python",
     "metadata": {},
     "outputs": [
      {
       "output_type": "stream",
       "stream": "stdout",
       "text": [
        "[[  0.]\n",
        " [  0.]\n",
        " [  0.]\n",
        " [  0.]\n",
        " [  0.]\n",
        " [  0.]\n",
        " [  0.]\n",
        " [ 50.]\n",
        " [ 15.]]\n"
       ]
      }
     ],
     "prompt_number": 24
    },
    {
     "cell_type": "code",
     "collapsed": false,
     "input": [
      "_v = _K.I * (_P - _F0)\n",
      "print _v"
     ],
     "language": "python",
     "metadata": {},
     "outputs": [
      {
       "output_type": "stream",
       "stream": "stdout",
       "text": [
        "[[ 0.00102761]\n",
        " [ 0.00030312]\n",
        " [ 0.00211753]\n",
        " [ 0.00597251]\n",
        " [-0.00075779]\n",
        " [ 0.00124204]\n",
        " [ 0.00102761]\n",
        " [ 0.06528119]\n",
        " [ 0.0240223 ]]\n"
       ]
      }
     ],
     "prompt_number": 25
    },
    {
     "cell_type": "code",
     "collapsed": false,
     "input": [
      "_v_1 = _v[:3,:]\n",
      "_v_2 = _v[3:6,:]\n",
      "_v_6 = _v[6:,:]\n"
     ],
     "language": "python",
     "metadata": {},
     "outputs": [],
     "prompt_number": 26
    },
    {
     "cell_type": "code",
     "collapsed": false,
     "input": [
      "K_411 = K_eingesp(E, A, I, l_14, 'ikk')\n",
      "K_511 = K_eingesp(E, A, I, l_15, 'kii')\n",
      "K_322 = K_eingesp(E, A, I, l_23, 'ikk')"
     ],
     "language": "python",
     "metadata": {},
     "outputs": [],
     "prompt_number": 27
    },
    {
     "cell_type": "code",
     "collapsed": false,
     "input": [
      "F_14 = F0_14 + K_141 * _v_1\n",
      "print F_14"
     ],
     "language": "python",
     "metadata": {},
     "outputs": [
      {
       "output_type": "stream",
       "stream": "stdout",
       "text": [
        "[[ 53.94977775]\n",
        " [-25.48205328]\n",
        " [ 35.41449251]]\n"
       ]
      }
     ],
     "prompt_number": 28
    },
    {
     "cell_type": "code",
     "collapsed": false,
     "input": [
      "F_41 = F0_41 + K_411 * _v_1\n",
      "print F_41"
     ],
     "language": "python",
     "metadata": {},
     "outputs": [
      {
       "output_type": "stream",
       "stream": "stdout",
       "text": [
        "[[-53.94977775]\n",
        " [  5.48205328]\n",
        " [ 26.51372059]]\n"
       ]
      }
     ],
     "prompt_number": 29
    },
    {
     "cell_type": "code",
     "collapsed": false,
     "input": [
      "F_15 = K_151 * (T_15.T * _v_1)\n",
      "print F_15"
     ],
     "language": "python",
     "metadata": {},
     "outputs": [
      {
       "output_type": "stream",
       "stream": "stdout",
       "text": [
        "[[-21.21823406]\n",
        " [ 39.23654528]\n",
        " [ 73.67755475]]\n"
       ]
      }
     ],
     "prompt_number": 30
    },
    {
     "cell_type": "code",
     "collapsed": false,
     "input": [
      "F_51 = K_511 * (T_15.T * _v_1)\n",
      "print F_51"
     ],
     "language": "python",
     "metadata": {},
     "outputs": [
      {
       "output_type": "stream",
       "stream": "stdout",
       "text": [
        "[[ 21.21823406]\n",
        " [-39.23654528]\n",
        " [ 44.03208108]]\n"
       ]
      }
     ],
     "prompt_number": 31
    },
    {
     "cell_type": "code",
     "collapsed": false,
     "input": [
      "F_12 = K_121 * (T_12.T * _v_1) + K_122 * (T_12.T * _v_2)\n",
      "print F_12"
     ],
     "language": "python",
     "metadata": {},
     "outputs": [
      {
       "output_type": "stream",
       "stream": "stdout",
       "text": [
        "[[ -74.26381921]\n",
        " [ -93.18632303]\n",
        " [ 145.90795273]]\n"
       ]
      }
     ],
     "prompt_number": 32
    },
    {
     "cell_type": "code",
     "collapsed": false,
     "input": [
      "F_21 = K_211 * (T_12.T * _v_1) + K_212 * (T_12.T * _v_2)\n",
      "print F_21"
     ],
     "language": "python",
     "metadata": {},
     "outputs": [
      {
       "output_type": "stream",
       "stream": "stdout",
       "text": [
        "[[  74.26381921]\n",
        " [  93.18632303]\n",
        " [ 133.65101635]]\n"
       ]
      }
     ],
     "prompt_number": 33
    },
    {
     "cell_type": "code",
     "collapsed": false,
     "input": [
      "F_23 = K_232 * (T_23.T * _v_2)\n",
      "print F_23"
     ],
     "language": "python",
     "metadata": {},
     "outputs": [
      {
       "output_type": "stream",
       "stream": "stdout",
       "text": [
        "[[-31.82735109]\n",
        " [-18.3004443 ]\n",
        " [ 50.96767193]]\n"
       ]
      }
     ],
     "prompt_number": 34
    },
    {
     "cell_type": "code",
     "collapsed": false,
     "input": [
      "F_32 = K_322 * (T_23.T * _v_2)\n",
      "print F_32"
     ],
     "language": "python",
     "metadata": {},
     "outputs": [
      {
       "output_type": "stream",
       "stream": "stdout",
       "text": [
        "[[ 31.82735109]\n",
        " [ 18.3004443 ]\n",
        " [ 40.53454955]]\n"
       ]
      }
     ],
     "prompt_number": 35
    },
    {
     "cell_type": "code",
     "collapsed": false,
     "input": [
      "F_16 = F0_16 + K_161 * _v_1 + K_166 * _v_6\n",
      "print F_16"
     ],
     "language": "python",
     "metadata": {},
     "outputs": [
      {
       "output_type": "stream",
       "stream": "stdout",
       "text": [
        "[[  2.13162821e-14]\n",
        " [ -7.00000000e+01]\n",
        " [ -2.55000000e+02]]\n"
       ]
      }
     ],
     "prompt_number": 36
    }
   ],
   "metadata": {}
  }
 ]
}