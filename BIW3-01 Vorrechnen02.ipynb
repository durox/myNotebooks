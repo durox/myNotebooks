{
 "metadata": {
  "name": ""
 },
 "nbformat": 3,
 "nbformat_minor": 0,
 "worksheets": [
  {
   "cells": [
    {
     "cell_type": "code",
     "collapsed": false,
     "input": [
      "%pylab"
     ],
     "language": "python",
     "metadata": {},
     "outputs": [
      {
       "output_type": "stream",
       "stream": "stdout",
       "text": [
        "Using matplotlib backend: Qt4Agg\n",
        "Populating the interactive namespace from numpy and matplotlib\n"
       ]
      }
     ],
     "prompt_number": 1
    },
    {
     "cell_type": "code",
     "collapsed": false,
     "input": [
      "def K_eingesp(E, A, I, l, element='all'):\n",
      "    \"\"\"Stabsteifigkeitsmatrix f\u00fcr beidseitig eingespannten Stab\"\"\"\n",
      "    K = np.matrix([[E*A/l, 0, 0, -E*A/l, 0, 0],\n",
      "                  [0, 12*E*I/(l**3), 6*E*I/(l**2), 0, -12*E*I/(l**3), 6*E*I/(l**2)],\n",
      "                  [0, 6*E*I/(l**2), 4*E*I/l, 0, -6*E*I/(l**2), 2*E*I/l],\n",
      "                  [-E*A/l, 0, 0, E*A/l, 0, 0],\n",
      "                  [0, -12*E*I/(l**3), -6*E*I/(l**2), 0, 12*E*I/(l**3), -6*E*I/(l**2)],\n",
      "                  [0, 6*E*I/(l**2), 2*E*I/l, 0, -6*E*I/(l**2), 4*E*I/l]])\n",
      "    if element=='iki':\n",
      "        return K[0:3, 0:3]\n",
      "    elif element=='ikk':\n",
      "        return K[0:3, 3:]\n",
      "    elif element=='kii':\n",
      "        return K[3:, 0:3]\n",
      "    elif element=='kik':\n",
      "        return K[3:, 3:]\n",
      "    elif element=='all':\n",
      "        return K\n",
      "\n",
      "def T(alpha):\n",
      "    \"\"\"Transformationsmatrix in Abh\u00e4ngigkeit von Drehwinkel Alpha (rad)\"\"\"\n",
      "    c = np.cos(alpha)\n",
      "    s = np.sin(alpha)\n",
      "    T = np.matrix([[c, s, 0], [-s, c, 0], [0, 0, 1]])\n",
      "    return T"
     ],
     "language": "python",
     "metadata": {},
     "outputs": [],
     "prompt_number": 2
    },
    {
     "cell_type": "code",
     "collapsed": false,
     "input": [
      "E = 2.1E8\n",
      "I = 1.E-4\n",
      "A = 1.E-3\n",
      "\n",
      "P = 50\n",
      "M = 15\n",
      "q = 5\n",
      "\n",
      "l_14 = l_16 = 4.\n",
      "l_12 = l_15 = 3.\n",
      "l_23 = np.sqrt(4**2 + 3**2)"
     ],
     "language": "python",
     "metadata": {},
     "outputs": [],
     "prompt_number": 3
    },
    {
     "cell_type": "code",
     "collapsed": false,
     "input": [
      "T_15 = T_12 = T(np.radians(90.))\n",
      "T_23 = T(np.radians(36.87))\n",
      "print T_23"
     ],
     "language": "python",
     "metadata": {},
     "outputs": [
      {
       "output_type": "stream",
       "stream": "stdout",
       "text": [
        "[[ 0.79999893  0.60000143  0.        ]\n",
        " [-0.60000143  0.79999893  0.        ]\n",
        " [ 0.          0.          1.        ]]\n"
       ]
      }
     ],
     "prompt_number": 4
    },
    {
     "cell_type": "code",
     "collapsed": false,
     "input": [
      "_F0_41 = F0_41 = np.matrix([0, -q*l_14/2, -q*l_14**2/12]).T\n",
      "_F0_14 = F0_14 = np.matrix([0, -q*l_14/2, q*l_14**2/12]).T\n",
      "\n",
      "#F0_16 = np.matrix([0, -q*l_16, -q*l_16**2/2])\n",
      "print _F0_14\n",
      "print _F0_41"
     ],
     "language": "python",
     "metadata": {},
     "outputs": [
      {
       "output_type": "stream",
       "stream": "stdout",
       "text": [
        "[[  0.        ]\n",
        " [-10.        ]\n",
        " [  6.66666667]]\n",
        "[[  0.        ]\n",
        " [-10.        ]\n",
        " [ -6.66666667]]\n"
       ]
      }
     ],
     "prompt_number": 5
    },
    {
     "cell_type": "code",
     "collapsed": false,
     "input": [
      "_P_6 = np.matrix([0, P, M])\n",
      "_P_1 = np.matrix([0, P+q*l_16, M+P*l_16+q*l_16**2/2]).T\n",
      "print _P_1"
     ],
     "language": "python",
     "metadata": {},
     "outputs": [
      {
       "output_type": "stream",
       "stream": "stdout",
       "text": [
        "[[   0.]\n",
        " [  70.]\n",
        " [ 255.]]\n"
       ]
      }
     ],
     "prompt_number": 6
    },
    {
     "cell_type": "code",
     "collapsed": false,
     "input": [
      "K_141 = K_eingesp(E, A, I, l_14, 'kik')\n",
      "K_121 = K_eingesp(E, A, I, l_12, 'kik')\n",
      "K_151 = K_eingesp(E, A, I, l_15, 'iki')\n",
      "K_122 = K_eingesp(E, A, I, l_12, 'kii')"
     ],
     "language": "python",
     "metadata": {},
     "outputs": [],
     "prompt_number": 7
    },
    {
     "cell_type": "code",
     "collapsed": false,
     "input": [
      "_K_121 = T_12 * K_121 * T_12.T\n",
      "_K_151 = T_15 * K_151 * T_15.T\n",
      "_K_122 = T_12 * K_122 * T_12.T\n",
      "_K_141 = K_141\n",
      "print _K_121\n",
      "print ''\n",
      "print _K_151\n",
      "print ''\n",
      "print _K_122\n",
      "print ''\n",
      "print _K_141"
     ],
     "language": "python",
     "metadata": {},
     "outputs": [
      {
       "output_type": "stream",
       "stream": "stdout",
       "text": [
        "[[  9.33333333e+03  -3.71476196e-12  -1.40000000e+04]\n",
        " [ -3.71476196e-12   7.00000000e+04  -8.57252759e-13]\n",
        " [ -1.40000000e+04  -8.57252759e-13   2.80000000e+04]]\n",
        "\n",
        "[[  9.33333333e+03  -3.71476196e-12   1.40000000e+04]\n",
        " [ -3.71476196e-12   7.00000000e+04   8.57252759e-13]\n",
        " [  1.40000000e+04   8.57252759e-13   2.80000000e+04]]\n",
        "\n",
        "[[ -9.33333333e+03   3.71476196e-12  -1.40000000e+04]\n",
        " [  3.71476196e-12  -7.00000000e+04  -8.57252759e-13]\n",
        " [  1.40000000e+04   8.57252759e-13   1.40000000e+04]]\n",
        "\n",
        "[[ 52500.       0.       0. ]\n",
        " [     0.    3937.5  -7875. ]\n",
        " [     0.   -7875.   21000. ]]\n"
       ]
      }
     ],
     "prompt_number": 8
    },
    {
     "cell_type": "code",
     "collapsed": false,
     "input": [
      "K_211 = K_eingesp(E, A, I, l_12, 'ikk')\n",
      "K_212 = K_eingesp(E, A, I, l_12, 'iki')\n",
      "K_232 = K_eingesp(E, A, I, l_23, 'kik')\n",
      "print K_232\n",
      "print T_23"
     ],
     "language": "python",
     "metadata": {},
     "outputs": [
      {
       "output_type": "stream",
       "stream": "stdout",
       "text": [
        "[[ 42000.      0.      0.]\n",
        " [     0.   2016.  -5040.]\n",
        " [     0.  -5040.  16800.]]\n",
        "[[ 0.79999893  0.60000143  0.        ]\n",
        " [-0.60000143  0.79999893  0.        ]\n",
        " [ 0.          0.          1.        ]]\n"
       ]
      }
     ],
     "prompt_number": 9
    },
    {
     "cell_type": "code",
     "collapsed": false,
     "input": [
      "_K_211 = T_12 * K_211 * T_12.T\n",
      "_K_212 = T_12 * K_212 * T_12.T\n",
      "_K_232 = T_23 * K_232 * T_23.T\n",
      "print _K_211\n",
      "print ''\n",
      "print _K_212\n",
      "print ''\n",
      "print _K_232"
     ],
     "language": "python",
     "metadata": {},
     "outputs": [
      {
       "output_type": "stream",
       "stream": "stdout",
       "text": [
        "[[ -9.33333333e+03   3.71476196e-12   1.40000000e+04]\n",
        " [  3.71476196e-12  -7.00000000e+04   8.57252759e-13]\n",
        " [ -1.40000000e+04  -8.57252759e-13   1.40000000e+04]]\n",
        "\n",
        "[[  9.33333333e+03  -3.71476196e-12   1.40000000e+04]\n",
        " [ -3.71476196e-12   7.00000000e+04   8.57252759e-13]\n",
        " [  1.40000000e+04   8.57252759e-13   2.80000000e+04]]\n",
        "\n",
        "[[ 27605.69142899 -19192.33999975  -3024.00720283]\n",
        " [-19192.33999975  16410.30857101  -4031.99459787]\n",
        " [ -3024.00720283  -4031.99459787  16800.        ]]\n"
       ]
      }
     ],
     "prompt_number": 10
    },
    {
     "cell_type": "code",
     "collapsed": false,
     "input": [
      "_K_11 = _K_141 + _K_151 + _K_121\n",
      "print _K_11"
     ],
     "language": "python",
     "metadata": {},
     "outputs": [
      {
       "output_type": "stream",
       "stream": "stdout",
       "text": [
        "[[  7.11666667e+04  -7.42952391e-12   0.00000000e+00]\n",
        " [ -7.42952391e-12   1.43937500e+05  -7.87500000e+03]\n",
        " [  0.00000000e+00  -7.87500000e+03   7.70000000e+04]]\n"
       ]
      }
     ],
     "prompt_number": 11
    },
    {
     "cell_type": "code",
     "collapsed": false,
     "input": [
      "_K_12 = _K_122\n",
      "print _K_12"
     ],
     "language": "python",
     "metadata": {},
     "outputs": [
      {
       "output_type": "stream",
       "stream": "stdout",
       "text": [
        "[[ -9.33333333e+03   3.71476196e-12  -1.40000000e+04]\n",
        " [  3.71476196e-12  -7.00000000e+04  -8.57252759e-13]\n",
        " [  1.40000000e+04   8.57252759e-13   1.40000000e+04]]\n"
       ]
      }
     ],
     "prompt_number": 12
    },
    {
     "cell_type": "code",
     "collapsed": false,
     "input": [
      "_F0_1 = _F0_14\n",
      "_F0_2 = np.mat(np.zeros((3,1)))\n",
      "_F0 = np.concatenate((_F0_1, _F0_2))\n",
      "print _F0"
     ],
     "language": "python",
     "metadata": {},
     "outputs": [
      {
       "output_type": "stream",
       "stream": "stdout",
       "text": [
        "[[  0.        ]\n",
        " [-10.        ]\n",
        " [  6.66666667]\n",
        " [  0.        ]\n",
        " [  0.        ]\n",
        " [  0.        ]]\n"
       ]
      }
     ],
     "prompt_number": 13
    },
    {
     "cell_type": "code",
     "collapsed": false,
     "input": [
      "print _P_1"
     ],
     "language": "python",
     "metadata": {},
     "outputs": [
      {
       "output_type": "stream",
       "stream": "stdout",
       "text": [
        "[[   0.]\n",
        " [  70.]\n",
        " [ 255.]]\n"
       ]
      }
     ],
     "prompt_number": 14
    },
    {
     "cell_type": "code",
     "collapsed": false,
     "input": [
      "_K_21 = _K_211"
     ],
     "language": "python",
     "metadata": {},
     "outputs": [],
     "prompt_number": 15
    },
    {
     "cell_type": "code",
     "collapsed": false,
     "input": [
      "_K_22 = _K_212 + _K_232\n",
      "print _K_22"
     ],
     "language": "python",
     "metadata": {},
     "outputs": [
      {
       "output_type": "stream",
       "stream": "stdout",
       "text": [
        "[[ 36939.02476232 -19192.33999975  10975.99279717]\n",
        " [-19192.33999975  86410.30857101  -4031.99459787]\n",
        " [ 10975.99279717  -4031.99459787  44800.        ]]\n"
       ]
      }
     ],
     "prompt_number": 16
    },
    {
     "cell_type": "code",
     "collapsed": false,
     "input": [
      "_P_2 = np.mat(np.zeros((1,3))).T"
     ],
     "language": "python",
     "metadata": {},
     "outputs": [],
     "prompt_number": 17
    },
    {
     "cell_type": "code",
     "collapsed": false,
     "input": [
      "m1 = np.concatenate((_K_11, _K_21))\n",
      "m2 = np.concatenate((_K_12, _K_22))\n",
      "_K = np.concatenate((m1, m2), axis=1)\n",
      "print np.round(_K,1)"
     ],
     "language": "python",
     "metadata": {},
     "outputs": [
      {
       "output_type": "stream",
       "stream": "stdout",
       "text": [
        "[[  71166.7      -0.        0.    -9333.3       0.   -14000. ]\n",
        " [     -0.   143937.5   -7875.        0.   -70000.       -0. ]\n",
        " [      0.    -7875.    77000.    14000.        0.    14000. ]\n",
        " [  -9333.3       0.    14000.    36939.   -19192.3   10976. ]\n",
        " [      0.   -70000.        0.   -19192.3   86410.3   -4032. ]\n",
        " [ -14000.       -0.    14000.    10976.    -4032.    44800. ]]\n"
       ]
      }
     ],
     "prompt_number": 18
    },
    {
     "cell_type": "code",
     "collapsed": false,
     "input": [
      "_P = np.concatenate((_P_1, _P_2))\n",
      "print _P"
     ],
     "language": "python",
     "metadata": {},
     "outputs": [
      {
       "output_type": "stream",
       "stream": "stdout",
       "text": [
        "[[   0.]\n",
        " [  70.]\n",
        " [ 255.]\n",
        " [   0.]\n",
        " [   0.]\n",
        " [   0.]]\n"
       ]
      }
     ],
     "prompt_number": 19
    },
    {
     "cell_type": "code",
     "collapsed": false,
     "input": [
      "_v = _K.I * (_P - _F0)\n",
      "print _v\n",
      "#print _P"
     ],
     "language": "python",
     "metadata": {},
     "outputs": [
      {
       "output_type": "stream",
       "stream": "stdout",
       "text": [
        "[[-0.00030368]\n",
        " [ 0.00105962]\n",
        " [ 0.0036658 ]\n",
        " [-0.00085221]\n",
        " [ 0.00062358]\n",
        " [-0.00097555]]\n"
       ]
      }
     ],
     "prompt_number": 20
    },
    {
     "cell_type": "code",
     "collapsed": false,
     "input": [
      "_v_1 = _v[:3,:]\n",
      "_v_2 = _v[3:,:]"
     ],
     "language": "python",
     "metadata": {},
     "outputs": [],
     "prompt_number": 21
    },
    {
     "cell_type": "code",
     "collapsed": false,
     "input": [
      "K_411 = K_eingesp(E, A, I, l_14, 'ikk')\n",
      "K_511 = K_eingesp(E, A, I, l_15, 'kii')\n",
      "K_322 = K_eingesp(E, A, I, l_23, 'ikk')"
     ],
     "language": "python",
     "metadata": {},
     "outputs": [],
     "prompt_number": 22
    },
    {
     "cell_type": "code",
     "collapsed": false,
     "input": [
      "F_14 = F0_14 + K_141 * _v_1\n",
      "print F_14"
     ],
     "language": "python",
     "metadata": {},
     "outputs": [
      {
       "output_type": "stream",
       "stream": "stdout",
       "text": [
        "[[-15.94300379]\n",
        " [-34.69590757]\n",
        " [ 75.30392178]]\n"
       ]
      }
     ],
     "prompt_number": 23
    },
    {
     "cell_type": "code",
     "collapsed": false,
     "input": [
      "F_41 = F0_41 + K_411 * _v_1\n",
      "print F_41"
     ],
     "language": "python",
     "metadata": {},
     "outputs": [
      {
       "output_type": "stream",
       "stream": "stdout",
       "text": [
        "[[ 15.94300379]\n",
        " [ 14.69590757]\n",
        " [ 23.47970848]]\n"
       ]
      }
     ],
     "prompt_number": 24
    },
    {
     "cell_type": "code",
     "collapsed": false,
     "input": [
      "F_15 = K_151 * (T_15.T * _v_1)\n",
      "print F_15"
     ],
     "language": "python",
     "metadata": {},
     "outputs": [
      {
       "output_type": "stream",
       "stream": "stdout",
       "text": [
        "[[-74.17337616]\n",
        " [ 48.4868615 ]\n",
        " [ 98.3908789 ]]\n"
       ]
      }
     ],
     "prompt_number": 25
    },
    {
     "cell_type": "code",
     "collapsed": false,
     "input": [
      "F_51 = K_511 * (T_15.T * _v_1)\n",
      "print F_51"
     ],
     "language": "python",
     "metadata": {},
     "outputs": [
      {
       "output_type": "stream",
       "stream": "stdout",
       "text": [
        "[[ 74.17337616]\n",
        " [-48.4868615 ]\n",
        " [ 47.06970561]]\n"
       ]
      }
     ],
     "prompt_number": 26
    },
    {
     "cell_type": "code",
     "collapsed": false,
     "input": [
      "F_12 = K_121 * (T_12.T * _v_1) + K_122 * (T_12.T * _v_2)\n",
      "print F_12"
     ],
     "language": "python",
     "metadata": {},
     "outputs": [
      {
       "output_type": "stream",
       "stream": "stdout",
       "text": [
        "[[-30.52253141]\n",
        " [-32.54385772]\n",
        " [ 81.30519932]]\n"
       ]
      }
     ],
     "prompt_number": 27
    },
    {
     "cell_type": "code",
     "collapsed": false,
     "input": [
      "F_21 = K_211 * (T_12.T * _v_1) + K_212 * (T_12.T * _v_2)\n",
      "print F_21"
     ],
     "language": "python",
     "metadata": {},
     "outputs": [
      {
       "output_type": "stream",
       "stream": "stdout",
       "text": [
        "[[ 30.52253141]\n",
        " [ 32.54385772]\n",
        " [ 16.32637383]]\n"
       ]
      }
     ],
     "prompt_number": 28
    },
    {
     "cell_type": "code",
     "collapsed": false,
     "input": [
      "F_23 = K_232 * (T_23.T * _v_2)\n",
      "print F_23"
     ],
     "language": "python",
     "metadata": {},
     "outputs": [
      {
       "output_type": "stream",
       "stream": "stdout",
       "text": [
        "[[-44.34861376]\n",
        " [  4.89163127]\n",
        " [-16.32637383]]\n"
       ]
      }
     ],
     "prompt_number": 29
    },
    {
     "cell_type": "code",
     "collapsed": false,
     "input": [
      "F_32 = K_322 * (T_23.T * _v_2)\n",
      "print F_32"
     ],
     "language": "python",
     "metadata": {},
     "outputs": [
      {
       "output_type": "stream",
       "stream": "stdout",
       "text": [
        "[[ 44.34861376]\n",
        " [ -4.89163127]\n",
        " [ -8.13178252]]\n"
       ]
      }
     ],
     "prompt_number": 30
    },
    {
     "cell_type": "code",
     "collapsed": false,
     "input": [
      "np.rad2deg(np.arctan(3./4.))"
     ],
     "language": "python",
     "metadata": {},
     "outputs": [
      {
       "metadata": {},
       "output_type": "pyout",
       "prompt_number": 31,
       "text": [
        "36.86989764584402"
       ]
      }
     ],
     "prompt_number": 31
    },
    {
     "cell_type": "code",
     "collapsed": false,
     "input": [],
     "language": "python",
     "metadata": {},
     "outputs": [],
     "prompt_number": 31
    }
   ],
   "metadata": {}
  }
 ]
}