{
 "metadata": {
  "name": ""
 },
 "nbformat": 3,
 "nbformat_minor": 0,
 "worksheets": [
  {
   "cells": [
    {
     "cell_type": "code",
     "collapsed": false,
     "input": [
      "%pylab inline"
     ],
     "language": "python",
     "metadata": {},
     "outputs": [
      {
       "output_type": "stream",
       "stream": "stdout",
       "text": [
        "Populating the interactive namespace from numpy and matplotlib\n"
       ]
      }
     ],
     "prompt_number": 1
    },
    {
     "cell_type": "heading",
     "level": 1,
     "metadata": {},
     "source": [
      "1. Aufgabe: BHQ"
     ]
    },
    {
     "cell_type": "code",
     "collapsed": false,
     "input": [
      "q_stat = array([30.5, 32.1, 35.0, 29.2, 41.2, 37.3, 26.1, 31.3, 32.8, 30.0, 34.5, 35.8, 34.1, 35.6, 29.6]) "
     ],
     "language": "python",
     "metadata": {},
     "outputs": [],
     "prompt_number": 2
    },
    {
     "cell_type": "code",
     "collapsed": false,
     "input": [
      "#plot(q_stat, 'D--')\n",
      "bar(arange(1, 16), q_stat)\n",
      "ylabel(\"Abfluss Q\")\n",
      "ylim(0, 50)\n",
      "draw()"
     ],
     "language": "python",
     "metadata": {},
     "outputs": [
      {
       "metadata": {},
       "output_type": "display_data",
       "png": "[encoded data removed]",
       "text": [
        "<matplotlib.figure.Figure at 0x3559e50>"
       ]
      }
     ],
     "prompt_number": 3
    },
    {
     "cell_type": "code",
     "collapsed": false,
     "input": [
      "def standardabweichung(a):\n",
      "    m = len(a)\n",
      "    M = sum(a) / m\n",
      "    return sqrt(1./(m-1) * sum((a - M)**2))\n",
      "\n",
      "def schiefe(a):\n",
      "    m = len(a)\n",
      "    M = sum(a) / m\n",
      "    s = standardabweichung(a)\n",
      "    return m * sum((a - M)**3) / (m-1) / (m-2) / s**3"
     ],
     "language": "python",
     "metadata": {},
     "outputs": [],
     "prompt_number": 15
    },
    {
     "cell_type": "code",
     "collapsed": false,
     "input": [
      "MHQ = sum(q_stat) / len(q_stat)\n",
      "sHQ = standardabweichung(q_stat)\n",
      "cS = schiefe(q_stat)\n",
      "print MHQ, sHQ, cS"
     ],
     "language": "python",
     "metadata": {},
     "outputs": [
      {
       "output_type": "stream",
       "stream": "stdout",
       "text": [
        "33.0066666667 3.78332179566 0.316780249519\n"
       ]
      }
     ],
     "prompt_number": 19
    },
    {
     "cell_type": "code",
     "collapsed": false,
     "input": [
      "# Ablesen f\u00fcr p=0.01\n",
      "kT = 2.544"
     ],
     "language": "python",
     "metadata": {},
     "outputs": [],
     "prompt_number": 17
    },
    {
     "cell_type": "code",
     "collapsed": false,
     "input": [
      "HQT = MHQ + kT * sHQ\n",
      "print HQT"
     ],
     "language": "python",
     "metadata": {},
     "outputs": [
      {
       "output_type": "stream",
       "stream": "stdout",
       "text": [
        "42.6314373148\n"
       ]
      }
     ],
     "prompt_number": 21
    },
    {
     "cell_type": "code",
     "collapsed": false,
     "input": [],
     "language": "python",
     "metadata": {},
     "outputs": []
    }
   ],
   "metadata": {}
  }
 ]
}