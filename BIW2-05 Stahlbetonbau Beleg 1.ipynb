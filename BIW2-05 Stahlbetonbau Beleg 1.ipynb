{
 "metadata": {
  "name": ""
 },
 "nbformat": 3,
 "nbformat_minor": 0,
 "worksheets": [
  {
   "cells": [
    {
     "cell_type": "heading",
     "level": 4,
     "metadata": {},
     "source": [
      "Gruppeneinteilung"
     ]
    },
    {
     "cell_type": "code",
     "collapsed": false,
     "input": [
      "#Variante III - Jonas, Christoph\n",
      "li = 10.5\n",
      "hf = 0.26"
     ],
     "language": "python",
     "metadata": {},
     "outputs": [],
     "prompt_number": 183
    },
    {
     "cell_type": "code",
     "collapsed": false,
     "input": [
      "#Variante II - Peter\n",
      "li = 9.0\n",
      "hf = 0.24"
     ],
     "language": "python",
     "metadata": {},
     "outputs": [],
     "prompt_number": 184
    },
    {
     "cell_type": "heading",
     "level": 1,
     "metadata": {},
     "source": [
      "1. Lastannahmen"
     ]
    },
    {
     "cell_type": "code",
     "collapsed": false,
     "input": [
      "gk = 0.07*3 + 0.01*16 + 0.02 + 25*hf\n",
      "print gk"
     ],
     "language": "python",
     "metadata": {},
     "outputs": [
      {
       "output_type": "stream",
       "stream": "stdout",
       "text": [
        "6.39\n"
       ]
      }
     ],
     "prompt_number": 185
    },
    {
     "cell_type": "code",
     "collapsed": false,
     "input": [
      "qk = 5."
     ],
     "language": "python",
     "metadata": {},
     "outputs": [],
     "prompt_number": 186
    },
    {
     "cell_type": "heading",
     "level": 4,
     "metadata": {},
     "source": [
      "Schneelasten"
     ]
    },
    {
     "cell_type": "code",
     "collapsed": false,
     "input": [
      "sk = 0.25 + 1.91*((113+140)/760)**2\n",
      "print sk"
     ],
     "language": "python",
     "metadata": {},
     "outputs": [
      {
       "output_type": "stream",
       "stream": "stdout",
       "text": [
        "0.25\n"
       ]
      }
     ],
     "prompt_number": 187
    },
    {
     "cell_type": "code",
     "collapsed": false,
     "input": [
      "sk = 0.85"
     ],
     "language": "python",
     "metadata": {},
     "outputs": [],
     "prompt_number": 188
    },
    {
     "cell_type": "code",
     "collapsed": false,
     "input": [
      "Sk = 0.8 * 1 * 1 * 0.85\n",
      "print Sk"
     ],
     "language": "python",
     "metadata": {},
     "outputs": [
      {
       "output_type": "stream",
       "stream": "stdout",
       "text": [
        "0.68\n"
       ]
      }
     ],
     "prompt_number": 189
    },
    {
     "cell_type": "heading",
     "level": 4,
     "metadata": {},
     "source": [
      "Lastkombinationen"
     ]
    },
    {
     "cell_type": "code",
     "collapsed": false,
     "input": [
      "Equnf = 5.0 + 0.5*sk\n",
      "Ed = 1.35 * gk + 1.5 * Equnf\n",
      "print Ed"
     ],
     "language": "python",
     "metadata": {},
     "outputs": [
      {
       "output_type": "stream",
       "stream": "stdout",
       "text": [
        "16.764\n"
       ]
      }
     ],
     "prompt_number": 190
    },
    {
     "cell_type": "code",
     "collapsed": false,
     "input": [
      "Mb1 = -0.107 * gk * li**2\n",
      "Vbl1 = -0.607 * gk * li\n",
      "B1 = 1.143 * gk * li\n",
      "C1 = 0.929 * gk * li"
     ],
     "language": "python",
     "metadata": {},
     "outputs": [],
     "prompt_number": 191
    },
    {
     "cell_type": "code",
     "collapsed": false,
     "input": [
      "Mb2 = -0.121 * qk * li**2\n",
      "Vbl2 = -0.621 * qk * li\n",
      "B2 = 1.223 * qk * li\n",
      "C2 = (qk * 3*li - B2)/2"
     ],
     "language": "python",
     "metadata": {},
     "outputs": [],
     "prompt_number": 192
    },
    {
     "cell_type": "code",
     "collapsed": false,
     "input": [
      "Mb3 = -0.121 * sk * li**2\n",
      "Vbl3 = -0.621 * sk * li\n",
      "B3 = 1.223 * sk * li\n",
      "C3 = (sk * 3*li - B3)/2"
     ],
     "language": "python",
     "metadata": {},
     "outputs": [],
     "prompt_number": 193
    },
    {
     "cell_type": "code",
     "collapsed": false,
     "input": [
      "print Mb1, Vbl1, B1, C1\n",
      "print Mb2, Vbl2, B2, C2\n",
      "print Mb3, Vbl3, B3, C3"
     ],
     "language": "python",
     "metadata": {},
     "outputs": [
      {
       "output_type": "stream",
       "stream": "stdout",
       "text": [
        "-55.38213 -34.90857 65.73393 53.42679\n",
        "-49.005 -27.945 55.035 39.9825\n",
        "-8.33085 -4.75065 9.35595 6.797025\n"
       ]
      }
     ],
     "prompt_number": 194
    },
    {
     "cell_type": "code",
     "collapsed": false,
     "input": [
      "Qed = 1.35 * Vbl1 + 1.5 * (Vbl2 + 0.7 * Vbl3) \n",
      "Med = 1.35 * Mb1 + 1.5 * (Mb2 + 0.7 * Mb3)"
     ],
     "language": "python",
     "metadata": {},
     "outputs": [],
     "prompt_number": 195
    },
    {
     "cell_type": "code",
     "collapsed": false,
     "input": [
      "print Qed, Med"
     ],
     "language": "python",
     "metadata": {},
     "outputs": [
      {
       "output_type": "stream",
       "stream": "stdout",
       "text": [
        "-94.032252 -157.020768\n"
       ]
      }
     ],
     "prompt_number": 196
    },
    {
     "cell_type": "code",
     "collapsed": false,
     "input": [
      "qk"
     ],
     "language": "python",
     "metadata": {},
     "outputs": [
      {
       "metadata": {},
       "output_type": "pyout",
       "prompt_number": 197,
       "text": [
        "5.0"
       ]
      }
     ],
     "prompt_number": 197
    },
    {
     "cell_type": "code",
     "collapsed": false,
     "input": [],
     "language": "python",
     "metadata": {},
     "outputs": [],
     "prompt_number": 197
    }
   ],
   "metadata": {}
  }
 ]
}