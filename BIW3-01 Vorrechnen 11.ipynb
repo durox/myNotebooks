{
 "metadata": {
  "name": ""
 },
 "nbformat": 3,
 "nbformat_minor": 0,
 "worksheets": [
  {
   "cells": [
    {
     "cell_type": "code",
     "collapsed": false,
     "input": [
      "import statik"
     ],
     "language": "python",
     "metadata": {},
     "outputs": [],
     "prompt_number": 1
    },
    {
     "cell_type": "code",
     "collapsed": false,
     "input": [
      "T = statik.T(radians(45))\n",
      "T"
     ],
     "language": "python",
     "metadata": {},
     "outputs": [
      {
       "metadata": {},
       "output_type": "pyout",
       "prompt_number": 2,
       "text": [
        "matrix([[ 0.70710678,  0.70710678,  0.        ],\n",
        "        [-0.70710678,  0.70710678,  0.        ],\n",
        "        [ 0.        ,  0.        ,  1.        ]])"
       ]
      }
     ],
     "prompt_number": 2
    },
    {
     "cell_type": "code",
     "collapsed": false,
     "input": [
      "M = matrix([[1,0,0],[0,2,3],[0,3,4]])\n",
      "M"
     ],
     "language": "python",
     "metadata": {},
     "outputs": [
      {
       "metadata": {},
       "output_type": "pyout",
       "prompt_number": 3,
       "text": [
        "matrix([[1, 0, 0],\n",
        "        [0, 2, 3],\n",
        "        [0, 3, 4]])"
       ]
      }
     ],
     "prompt_number": 3
    },
    {
     "cell_type": "code",
     "collapsed": false,
     "input": [
      "T * M * T.T"
     ],
     "language": "python",
     "metadata": {},
     "outputs": [
      {
       "metadata": {},
       "output_type": "pyout",
       "prompt_number": 4,
       "text": [
        "matrix([[ 1.49999999,  0.5       ,  2.12132034],\n",
        "        [ 0.5       ,  1.49999999,  2.12132034],\n",
        "        [ 2.12132034,  2.12132034,  4.        ]])"
       ]
      }
     ],
     "prompt_number": 4
    },
    {
     "cell_type": "code",
     "collapsed": false,
     "input": [
      "def f1(w):\n",
      "    return f2(w) - w**2/12.\n",
      "\n",
      "def f2(w):\n",
      "    return 2./3. * f3(w) + 1./3. * f4(w)\n",
      "\n",
      "def f3(w):\n",
      "    return 1./4.*w*(sin(w)-w*cos(w))/(2.-2.*cos(w)-w*sin(w))\n",
      "\n",
      "def f4(w):\n",
      "    return 1./2.*w*(w-sin(w))/(2.-2.*cos(w)-w*sin(w))\n",
      "\n",
      "def f5(w):\n",
      "    return f6(w) - w**2/3.\n",
      "\n",
      "def f6(w):\n",
      "    return 1./3. * (4.*f3(w)**2 - f4(w)**2)/f3(w)\n",
      "\n",
      "def f7(w):\n",
      "    return (4.*f3(w)*f1(w) - 3.*f2(w)**2)/f1(w)\n",
      "\n",
      "def f8(w):\n",
      "    return (-2.*f4(w)*f1(w) + 3.*f2(w)**2)/f1(w)"
     ],
     "language": "python",
     "metadata": {},
     "outputs": [],
     "prompt_number": 30
    },
    {
     "cell_type": "code",
     "collapsed": false,
     "input": [
      "def A(w):\n",
      "    return sin(0.5*w)/sin(w) - 0.5"
     ],
     "language": "python",
     "metadata": {},
     "outputs": [],
     "prompt_number": 36
    },
    {
     "cell_type": "code",
     "collapsed": false,
     "input": [
      "def K(w12, w13, w14):\n",
      "    M = matrix([[23333+86.4*f5(w13)+61.1*f1(w14), 61.1*f1(w14), -777.8*f6(w13)+544.4*f2(w14)],\n",
      "                [61.1*f1(w14), 345.7*f1(w12)+23333+61.1*f1(w14), 1555.6*f2(w12)+544.4*f2(w14)],\n",
      "                [-777.8*f6(w13)+544.4*f2(w14), 1555.6*f2(w12)+544.4*f2(w14), 9333.3*f3(w12)+7000*f6(w13)+4619.8*f3(w14)]])\n",
      "    return M\n",
      "\n",
      "def F0(w12, w13, S12, S13):\n",
      "    F = matrix([[S12+200*(0.5+3*f1(w13)*A(w13)/f3(w13)/w13**2)+560, 90+S13-560, 135/f2(w12)-1800+3*f1(w13)*A(w13)/f3(w13)/w13**2]]).T\n",
      "    return F"
     ],
     "language": "python",
     "metadata": {},
     "outputs": [],
     "prompt_number": 40
    },
    {
     "cell_type": "code",
     "collapsed": false,
     "input": [
      "f6(1) - 1**2/3"
     ],
     "language": "python",
     "metadata": {},
     "outputs": [
      {
       "metadata": {},
       "output_type": "pyout",
       "prompt_number": 38,
       "text": [
        "0.93133963749731752"
       ]
      }
     ],
     "prompt_number": 38
    },
    {
     "cell_type": "code",
     "collapsed": false,
     "input": [
      "K1 = K(1.71, 1.47, 2.48)\n",
      "print K1\n",
      "F01 = F0(1.72, 1.47, 760, 560)\n",
      "print F01"
     ],
     "language": "python",
     "metadata": {},
     "outputs": [
      {
       "output_type": "stream",
       "stream": "stdout",
       "text": [
        "[[  2.33670941e+04   2.32256008e+01  -1.72127726e+02]\n",
        " [  2.32256008e+01   2.36004757e+04   1.96411394e+03]\n",
        " [ -1.72127726e+02   1.96411394e+03   1.78938160e+04]]\n",
        "[[ 1460.87935219]\n",
        " [   90.        ]\n",
        " [-1657.63286158]]\n"
       ]
      }
     ],
     "prompt_number": 43
    },
    {
     "cell_type": "code",
     "collapsed": false,
     "input": [
      "P = matrix([-200, 0, 0]).T\n",
      "P"
     ],
     "language": "python",
     "metadata": {},
     "outputs": [
      {
       "metadata": {},
       "output_type": "pyout",
       "prompt_number": 46,
       "text": [
        "matrix([[-200],\n",
        "        [   0],\n",
        "        [   0]])"
       ]
      }
     ],
     "prompt_number": 46
    },
    {
     "cell_type": "code",
     "collapsed": false,
     "input": [
      "(P-F01)"
     ],
     "language": "python",
     "metadata": {},
     "outputs": [
      {
       "metadata": {},
       "output_type": "pyout",
       "prompt_number": 48,
       "text": [
        "matrix([[-1660.87935219],\n",
        "        [  -90.        ],\n",
        "        [ 1657.63286158]])"
       ]
      }
     ],
     "prompt_number": 48
    },
    {
     "cell_type": "code",
     "collapsed": false,
     "input": [
      "inv(K1) * (P-F01)"
     ],
     "language": "python",
     "metadata": {},
     "outputs": [
      {
       "metadata": {},
       "output_type": "pyout",
       "prompt_number": 49,
       "text": [
        "matrix([[-0.07037957],\n",
        "        [-0.01150254],\n",
        "        [ 0.09322276]])"
       ]
      }
     ],
     "prompt_number": 49
    },
    {
     "cell_type": "code",
     "collapsed": false,
     "input": [],
     "language": "python",
     "metadata": {},
     "outputs": []
    }
   ],
   "metadata": {}
  }
 ]
}