{
 "metadata": {
  "name": ""
 },
 "nbformat": 3,
 "nbformat_minor": 0,
 "worksheets": [
  {
   "cells": [
    {
     "cell_type": "code",
     "collapsed": false,
     "input": [
      "import statik"
     ],
     "language": "python",
     "metadata": {},
     "outputs": [],
     "prompt_number": 1
    },
    {
     "cell_type": "code",
     "collapsed": false,
     "input": [
      "def f1(w):\n",
      "    return f2(w) - w**2/12.\n",
      "\n",
      "def f2(w):\n",
      "    return 2./3. * f3(w) + 1./3. * f4(w)\n",
      "\n",
      "def f3(w):\n",
      "    return 1./4.*w*(sin(w)-w*cos(w))/(2.-2.*cos(w)-w*sin(w))\n",
      "\n",
      "def f4(w):\n",
      "    return 1./2.*w*(w-sin(w))/(2.-2.*cos(w)-w*sin(w))\n",
      "\n",
      "def f5(w):\n",
      "    return f6(w) - w**2/3.\n",
      "\n",
      "def f6(w):\n",
      "    return 1./3. * (4.*f3(w)**2 - f4(w)**2)/f3(w)\n",
      "\n",
      "def f7(w):\n",
      "    return (4.*f3(w)*f1(w) - 3.*f2(w)**2)/f1(w)\n",
      "\n",
      "def f8(w):\n",
      "    return (-2.*f4(w)*f1(w) + 3.*f2(w)**2)/f1(w)"
     ],
     "language": "python",
     "metadata": {},
     "outputs": [],
     "prompt_number": 2
    },
    {
     "cell_type": "code",
     "collapsed": false,
     "input": [
      "def AA(w):\n",
      "    return sin(0.5*w)/sin(w) - 0.5"
     ],
     "language": "python",
     "metadata": {},
     "outputs": [],
     "prompt_number": 3
    },
    {
     "cell_type": "code",
     "collapsed": false,
     "input": [
      "def K121(w12):\n",
      "    M = matrix([[23333, 0, 0],\n",
      "                [0, 345.7*f1(w12), -1555.6*f2(w12)],\n",
      "                [0, -1555.6*f2(w12), 9333.3*f3(w12)]])\n",
      "    return M\n",
      "\n",
      "def K131(w13):\n",
      "    M = matrix([[86.4*f5(w13), 0, -777.8*f6(w13)],\n",
      "                [0, 23333, 0],\n",
      "                [-777.8*f6(w13), 0, 7000*f6(w13)]])\n",
      "    return M\n",
      "\n",
      "def K141(w14):\n",
      "    M = matrix([[61.1*f1(w14), 61.1*f1(w14), 544.4*f2(w14)],\n",
      "                [61.1*f1(w14), 61.1*f1(w14), 544.4*f2(w14)],\n",
      "                [544.4*f2(w14), 544.4*f2(w14), 6599*f3(w14)]])\n",
      "    return M\n",
      "\n",
      "def K(w12, w13, w14):\n",
      "    M = matrix([[23333+86.4*f5(w13)+61.1*f1(w14), 0+0+61.1*f1(w14), 0-777.8*f6(w13)+544.4*f2(w14)],\n",
      "                [0+0+61.1*f1(w14), 345.7*f1(w12)+23333+61.1*f1(w14), -1555.6*f2(w12)+0+544.4*f2(w14)],\n",
      "                [0-777.8*f6(w13)+544.4*f2(w14), -1555.6*f2(w12)+0+544.4*f2(w14), 9333.3*f3(w12)+7000*f6(w13)+6599*f3(w14)]])\n",
      "    return M\n",
      "\n",
      "def F0(w12, w13):\n",
      "    F = matrix([[0+200*(0.5+3*f1(w13)*AA(w13)/f3(w13)/w13**2)+565.7, -90-565.7+0, 135/f2(w12)-1800*3*f1(w13)*AA(w13)/f3(w13)/w13**2+0]]).T\n",
      "    return F\n",
      "\n",
      "def F0_12(w12):\n",
      "    F = matrix([[0, -90, 135/f2(w12)]]).T\n",
      "    return F\n",
      "\n",
      "def F0_13(w13):\n",
      "    F = matrix([[200*(0.5+3*f1(w13)*AA(w13)/f3(w13)/w13**2), 0, -1800*3*f1(w13)*AA(w13)/f3(w13)/w13**2]]).T\n",
      "    return F"
     ],
     "language": "python",
     "metadata": {},
     "outputs": [],
     "prompt_number": 42
    },
    {
     "cell_type": "code",
     "collapsed": false,
     "input": [
      "T_12 = statik.T(pi)\n",
      "T_13 = statik.T(3./2.*pi)\n",
      "T_14 = statik.T(1./4.*pi)\n",
      "print T_12\n",
      "print T_13\n",
      "print T_14"
     ],
     "language": "python",
     "metadata": {},
     "outputs": [
      {
       "output_type": "stream",
       "stream": "stdout",
       "text": [
        "[[-1.  0.  0.]\n",
        " [-0. -1.  0.]\n",
        " [ 0.  0.  1.]]\n",
        "[[-0. -1.  0.]\n",
        " [ 1. -0.  0.]\n",
        " [ 0.  0.  1.]]\n",
        "[[ 0.70710678  0.70710678  0.        ]\n",
        " [-0.70710678  0.70710678  0.        ]\n",
        " [ 0.          0.          1.        ]]\n"
       ]
      }
     ],
     "prompt_number": 47
    },
    {
     "cell_type": "code",
     "collapsed": false,
     "input": [
      "E = 2.1E8\n",
      "I = 1.0E-4\n",
      "A = 1.0E-3\n",
      "\n",
      "q = 20.\n",
      "P1 = 800.\n",
      "P2 = 200.\n",
      "P3 = 200.\n",
      "\n",
      "L_12 = L_13 = 9.\n",
      "L_14 = sqrt(9**2+9**2)"
     ],
     "language": "python",
     "metadata": {},
     "outputs": [],
     "prompt_number": 10
    },
    {
     "cell_type": "code",
     "collapsed": false,
     "input": [
      "_K_121 = T_12 * statik.K_eingesp(E, A, I, L_12, 'iki') * T_12.T\n",
      "_K_131 = T_13 * statik.K_gelenk(E, A, I, L_13, 'iki') * T_13.T\n",
      "K_14 = matrix([[0, 0, 0], [0, 12*E*I/L_14**3, 6*E*I/L_14**2], [0, 6*E*I/L_14**2, 4*E*I/L_14]])\n",
      "_K_141 = T_14 * K_14 * T_14.T\n",
      "print _K_121\n",
      "print _K_131\n",
      "print _K_141"
     ],
     "language": "python",
     "metadata": {},
     "outputs": [
      {
       "output_type": "stream",
       "stream": "stdout",
       "text": [
        "[[ 23333.33333333      0.              0.        ]\n",
        " [     0.            345.67901235  -1555.55555556]\n",
        " [     0.          -1555.55555556   9333.33333333]]\n",
        "[[    86.41975309      0.           -777.77777778]\n",
        " [     0.          23333.33333333      0.        ]\n",
        " [  -777.77777778      0.           7000.        ]]\n",
        "[[   61.10799323    61.10799323   549.97194   ]\n",
        " [   61.10799323    61.10799323   549.97194   ]\n",
        " [  549.97194      549.97194     6599.66329107]]\n"
       ]
      }
     ],
     "prompt_number": 48
    },
    {
     "cell_type": "code",
     "collapsed": false,
     "input": [
      "_F0_12 = T_12 * matrix([0, q*L_12/2., q*L_12**2/12]).T\n",
      "_F0_13 = T_13 * matrix([0, -11./16.*P2, -3./16.*P2*L_13]).T\n",
      "_F0_14 = T_14 * matrix([P1, 0, 0]).T\n",
      "print _F0_12\n",
      "print _F0_13\n",
      "print _F0_14"
     ],
     "language": "python",
     "metadata": {},
     "outputs": [
      {
       "output_type": "stream",
       "stream": "stdout",
       "text": [
        "[[   0.]\n",
        " [ -90.]\n",
        " [ 135.]]\n",
        "[[ 137.5]\n",
        " [   0. ]\n",
        " [-337.5]]\n",
        "[[ 565.685424]\n",
        " [-565.685424]\n",
        " [   0.      ]]\n"
       ]
      }
     ],
     "prompt_number": 49
    },
    {
     "cell_type": "code",
     "collapsed": false,
     "input": [
      "_P = matrix([-P3, 0, 0]).T\n",
      "print _P"
     ],
     "language": "python",
     "metadata": {},
     "outputs": [
      {
       "output_type": "stream",
       "stream": "stdout",
       "text": [
        "[[-200.]\n",
        " [   0.]\n",
        " [   0.]]\n"
       ]
      }
     ],
     "prompt_number": 50
    },
    {
     "cell_type": "code",
     "collapsed": false,
     "input": [
      "_K = _K_121 + _K_131 + _K_141\n",
      "_F0 = _F0_12 + _F0_13 + _F0_14\n",
      "print _K\n",
      "print _F0"
     ],
     "language": "python",
     "metadata": {},
     "outputs": [
      {
       "output_type": "stream",
       "stream": "stdout",
       "text": [
        "[[ 23480.86107965     61.10799323   -227.80583778]\n",
        " [    61.10799323  23740.12033891  -1005.58361556]\n",
        " [  -227.80583778  -1005.58361556  22932.99662441]]\n",
        "[[ 703.185424]\n",
        " [-655.685424]\n",
        " [-202.5     ]]\n"
       ]
      }
     ],
     "prompt_number": 14
    },
    {
     "cell_type": "code",
     "collapsed": false,
     "input": [
      "v0 = inv(_K) * (_P - _F0)\n",
      "print v0"
     ],
     "language": "python",
     "metadata": {},
     "outputs": [
      {
       "output_type": "stream",
       "stream": "stdout",
       "text": [
        "[[-0.03844402]\n",
        " [ 0.02812835]\n",
        " [ 0.00968158]]\n"
       ]
      }
     ],
     "prompt_number": 15
    },
    {
     "cell_type": "code",
     "collapsed": false,
     "input": [
      "F_12 = T_12.T * (_F0_12 + _K_121 * v0)\n",
      "F_13 = T_13.T * (_F0_13 + _K_131 * v0)\n",
      "F_14 = T_14.T * (_F0_14 + _K_141 * v0)\n",
      "print F_12\n",
      "print F_13\n",
      "print F_14"
     ],
     "language": "python",
     "metadata": {},
     "outputs": [
      {
       "output_type": "stream",
       "stream": "stdout",
       "text": [
        "[[ 897.02721028]\n",
        " [  95.33685621]\n",
        " [ 181.60620513]]\n",
        "[[ 656.32805354]\n",
        " [-126.64755961]\n",
        " [-239.82803646]]\n",
        "[[ 799.99999732]\n",
        " [   6.63863901]\n",
        " [  58.22183133]]\n"
       ]
      }
     ],
     "prompt_number": 51
    },
    {
     "cell_type": "code",
     "collapsed": false,
     "input": [
      "w12 = L_12 * sqrt(F_12[0,0]/E/I)\n",
      "w13 = L_13 * sqrt(F_13[0,0]/E/I)\n",
      "w14 = L_14 * sqrt(F_14[0,0]/E/I)\n",
      "print w12, w13, w14"
     ],
     "language": "python",
     "metadata": {},
     "outputs": [
      {
       "output_type": "stream",
       "stream": "stdout",
       "text": [
        "1.8600973353 1.59108487004 2.48423600946\n"
       ]
      }
     ],
     "prompt_number": 17
    },
    {
     "cell_type": "code",
     "collapsed": false,
     "input": [
      "_KI = K(w12, w13, w14)\n",
      "_F0I = F0(w12, w13)"
     ],
     "language": "python",
     "metadata": {},
     "outputs": [],
     "prompt_number": 28
    },
    {
     "cell_type": "code",
     "collapsed": false,
     "input": [
      "print _KI\n",
      "print _F0I"
     ],
     "language": "python",
     "metadata": {},
     "outputs": [
      {
       "output_type": "stream",
       "stream": "stdout",
       "text": [
        "[[  2.33538148e+04   2.30950170e+01  -1.50065874e+02]\n",
        " [  2.30950170e+01   2.35816717e+04  -9.77835444e+02]\n",
        " [ -1.50065874e+02  -9.77835444e+02   1.90413632e+04]]\n",
        "[[ 701.53704408]\n",
        " [-650.        ]\n",
        " [-230.34637451]]\n"
       ]
      }
     ],
     "prompt_number": 52
    },
    {
     "cell_type": "code",
     "collapsed": false,
     "input": [
      "v1 = inv(_KI) * (_P - _F0I)\n",
      "print v1"
     ],
     "language": "python",
     "metadata": {},
     "outputs": [
      {
       "output_type": "stream",
       "stream": "stdout",
       "text": [
        "[[-0.03854618]\n",
        " [ 0.0281505 ]\n",
        " [ 0.01323899]]\n"
       ]
      }
     ],
     "prompt_number": 23
    },
    {
     "cell_type": "code",
     "collapsed": false,
     "input": [
      "#F_12 = T_12.T * (F0_12(w12) + K121(w12) * v0)\n",
      "#F_13 = T_13.T * (F0_13(w13) + K131(w13) * v0)\n",
      "#F_14 = T_14.T * (_F0_14 + _K_141 * v0)\n",
      "F_12 = (F0_12(w12) + K121(w12) * v0)\n",
      "F_13 = (F0_13(w13) + K131(w13) * v0)\n",
      "F_14 = (_F0_14 + K141(w14) * v0)\n",
      "print F_12\n",
      "print F_13\n",
      "print F_14"
     ],
     "language": "python",
     "metadata": {},
     "outputs": [
      {
       "output_type": "stream",
       "stream": "stdout",
       "text": [
        "[[-897.0143956 ]\n",
        " [ -97.82475298]\n",
        " [ 181.74830708]]\n",
        "[[ 135.46897172]\n",
        " [ 656.31867743]\n",
        " [-293.98991933]]\n",
        "[[ 570.15004306]\n",
        " [-561.22080494]\n",
        " [  44.50995291]]\n"
       ]
      }
     ],
     "prompt_number": 53
    },
    {
     "cell_type": "code",
     "collapsed": false,
     "input": [],
     "language": "python",
     "metadata": {},
     "outputs": []
    }
   ],
   "metadata": {}
  }
 ]
}