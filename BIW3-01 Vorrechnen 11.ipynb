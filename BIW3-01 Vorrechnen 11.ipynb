{
 "metadata": {
  "name": ""
 },
 "nbformat": 3,
 "nbformat_minor": 0,
 "worksheets": [
  {
   "cells": [
    {
     "cell_type": "code",
     "collapsed": false,
     "input": [
      "import statik"
     ],
     "language": "python",
     "metadata": {},
     "outputs": [],
     "prompt_number": 1
    },
    {
     "cell_type": "code",
     "collapsed": false,
     "input": [
      "T = statik.T(radians(45))\n",
      "T"
     ],
     "language": "python",
     "metadata": {},
     "outputs": [
      {
       "metadata": {},
       "output_type": "pyout",
       "prompt_number": 14,
       "text": [
        "matrix([[ 0.70710678,  0.70710678,  0.        ],\n",
        "        [-0.70710678,  0.70710678,  0.        ],\n",
        "        [ 0.        ,  0.        ,  1.        ]])"
       ]
      }
     ],
     "prompt_number": 14
    },
    {
     "cell_type": "code",
     "collapsed": false,
     "input": [
      "M = matrix([[1,0,0],[0,2,3],[0,3,4]])\n",
      "M"
     ],
     "language": "python",
     "metadata": {},
     "outputs": [
      {
       "metadata": {},
       "output_type": "pyout",
       "prompt_number": 12,
       "text": [
        "matrix([[1, 0, 0],\n",
        "        [0, 2, 3],\n",
        "        [0, 3, 4]])"
       ]
      }
     ],
     "prompt_number": 12
    },
    {
     "cell_type": "code",
     "collapsed": false,
     "input": [
      "T * M * T.T"
     ],
     "language": "python",
     "metadata": {},
     "outputs": [
      {
       "metadata": {},
       "output_type": "pyout",
       "prompt_number": 10,
       "text": [
        "matrix([[ 2.,  0., -3.],\n",
        "        [ 0.,  1.,  0.],\n",
        "        [-3.,  0.,  4.]])"
       ]
      }
     ],
     "prompt_number": 10
    },
    {
     "cell_type": "code",
     "collapsed": false,
     "input": [
      "def f1(w):\n",
      "    return f2(w) - w**2/12\n",
      "\n",
      "def f2(w):\n",
      "    return 2/3 * f3(w) + 1/3 * f4(w)\n",
      "\n",
      "def f3(w):\n",
      "    return 1/4*w*(sin(w)-w*cos(w))/(2-2*cos(w)-w*sin(w))\n",
      "\n",
      "def f4(w):\n",
      "    return 1/2*w*(w-sin(w))/(2-2*cos(w)-w*sin(w))\n",
      "\n",
      "def f5(w):\n",
      "    return f6(w) - w**2/3\n",
      "\n",
      "def f6(w):\n",
      "    return 1/3 * (4*f3(w)**2 - f4(w)**2)/f3(w)\n",
      "\n",
      "def f7(w):\n",
      "    return (4*f3(w)*f1(w) - 3*f2(w)**2)/f1(w)\n",
      "\n",
      "def f8(w):\n",
      "    return (-2*f4(w)*f1(w) + 3*f2(w)**2)/f1(w)"
     ],
     "language": "python",
     "metadata": {},
     "outputs": [],
     "prompt_number": 2
    },
    {
     "cell_type": "code",
     "collapsed": false,
     "input": [],
     "language": "python",
     "metadata": {},
     "outputs": []
    }
   ],
   "metadata": {}
  }
 ]
}