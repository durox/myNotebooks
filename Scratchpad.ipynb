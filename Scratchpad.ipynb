{
 "metadata": {
  "name": ""
 },
 "nbformat": 3,
 "nbformat_minor": 0,
 "worksheets": [
  {
   "cells": [
    {
     "cell_type": "code",
     "collapsed": false,
     "input": [
      "%pylab"
     ],
     "language": "python",
     "metadata": {},
     "outputs": [
      {
       "output_type": "stream",
       "stream": "stdout",
       "text": [
        "Using matplotlib backend: TkAgg\n",
        "Populating the interactive namespace from numpy and matplotlib\n"
       ]
      }
     ],
     "prompt_number": 1
    },
    {
     "cell_type": "code",
     "collapsed": false,
     "input": [
      "m1 = np.matrix([[11,12],[21,22]])\n",
      "m2 = np.matrix([[31,32],[41,42]])\n",
      "m3 = np.matrix([[13,14],[23,24]])\n",
      "m4 = np.matrix([[33,34],[43,44]])"
     ],
     "language": "python",
     "metadata": {},
     "outputs": [],
     "prompt_number": 2
    },
    {
     "cell_type": "code",
     "collapsed": false,
     "input": [
      "m12 = np.concatenate((m1,m2))\n",
      "m34 = np.concatenate((m3,m4))\n",
      "ma = np.concatenate((m12,m34), axis=1)\n",
      "print ma"
     ],
     "language": "python",
     "metadata": {},
     "outputs": [
      {
       "output_type": "stream",
       "stream": "stdout",
       "text": [
        "[[11 12 13 14]\n",
        " [21 22 23 24]\n",
        " [31 32 33 34]\n",
        " [41 42 43 44]]\n"
       ]
      }
     ],
     "prompt_number": 3
    },
    {
     "cell_type": "code",
     "collapsed": false,
     "input": [
      "np.concatenate(((m1,m2),(m3,m4)))"
     ],
     "language": "python",
     "metadata": {},
     "outputs": [
      {
       "metadata": {},
       "output_type": "pyout",
       "prompt_number": 4,
       "text": [
        "array([[[11, 12],\n",
        "        [21, 22]],\n",
        "\n",
        "       [[31, 32],\n",
        "        [41, 42]],\n",
        "\n",
        "       [[13, 14],\n",
        "        [23, 24]],\n",
        "\n",
        "       [[33, 34],\n",
        "        [43, 44]]])"
       ]
      }
     ],
     "prompt_number": 4
    },
    {
     "cell_type": "code",
     "collapsed": false,
     "input": [
      "m1.reshape((1,4))"
     ],
     "language": "python",
     "metadata": {},
     "outputs": [
      {
       "metadata": {},
       "output_type": "pyout",
       "prompt_number": 5,
       "text": [
        "matrix([[11, 12, 21, 22]])"
       ]
      }
     ],
     "prompt_number": 5
    },
    {
     "cell_type": "code",
     "collapsed": false,
     "input": [
      "ma.__repr__()"
     ],
     "language": "python",
     "metadata": {},
     "outputs": [
      {
       "metadata": {},
       "output_type": "pyout",
       "prompt_number": 6,
       "text": [
        "'matrix([[11, 12, 13, 14],\\n        [21, 22, 23, 24],\\n        [31, 32, 33, 34],\\n        [41, 42, 43, 44]])'"
       ]
      }
     ],
     "prompt_number": 6
    },
    {
     "cell_type": "code",
     "collapsed": false,
     "input": [
      "class test(object):\n",
      "    def __init__(self):\n",
      "        pass\n",
      "    def _repr_latex_(self):\n",
      "        return '$$F_{abc}$$'"
     ],
     "language": "python",
     "metadata": {},
     "outputs": [],
     "prompt_number": 27
    },
    {
     "cell_type": "code",
     "collapsed": false,
     "input": [
      "a = test()"
     ],
     "language": "python",
     "metadata": {},
     "outputs": [],
     "prompt_number": 28
    },
    {
     "cell_type": "code",
     "collapsed": false,
     "input": [
      "a"
     ],
     "language": "python",
     "metadata": {},
     "outputs": [
      {
       "latex": [
        "$$F_{abc}$$"
       ],
       "metadata": {},
       "output_type": "pyout",
       "prompt_number": 29,
       "text": [
        "<__main__.test at 0x3433d50>"
       ]
      }
     ],
     "prompt_number": 29
    },
    {
     "cell_type": "code",
     "collapsed": false,
     "input": [
      "a.__repr_latex__()"
     ],
     "language": "python",
     "metadata": {},
     "outputs": [
      {
       "ename": "AttributeError",
       "evalue": "'test' object has no attribute '__repr_latex__'",
       "output_type": "pyerr",
       "traceback": [
        "\u001b[0;31m---------------------------------------------------------------------------\u001b[0m\n\u001b[0;31mAttributeError\u001b[0m                            Traceback (most recent call last)",
        "\u001b[0;32m<ipython-input-14-1cc13502469b>\u001b[0m in \u001b[0;36m<module>\u001b[0;34m()\u001b[0m\n\u001b[0;32m----> 1\u001b[0;31m \u001b[0ma\u001b[0m\u001b[0;34m.\u001b[0m\u001b[0m__repr_latex__\u001b[0m\u001b[0;34m(\u001b[0m\u001b[0;34m)\u001b[0m\u001b[0;34m\u001b[0m\u001b[0m\n\u001b[0m",
        "\u001b[0;31mAttributeError\u001b[0m: 'test' object has no attribute '__repr_latex__'"
       ]
      }
     ],
     "prompt_number": 14
    },
    {
     "cell_type": "code",
     "collapsed": false,
     "input": [
      "from sympy import Symbol, latex\n",
      "from IPython.display import Latex\n",
      "x= Symbol('x')\n",
      "Latex(' I can have inline latex : $%s$'% latex(x**2))"
     ],
     "language": "python",
     "metadata": {},
     "outputs": [
      {
       "latex": [
        " I can have inline latex : $x^{2}$"
       ],
       "metadata": {},
       "output_type": "pyout",
       "prompt_number": 30,
       "text": [
        "<IPython.core.display.Latex at 0x34c4350>"
       ]
      }
     ],
     "prompt_number": 30
    },
    {
     "cell_type": "code",
     "collapsed": false,
     "input": [
      "latex(ma)"
     ],
     "language": "python",
     "metadata": {},
     "outputs": [
      {
       "metadata": {},
       "output_type": "pyout",
       "prompt_number": 31,
       "text": [
        "'[[11 12 13 14]\\n [21 22 23 24]\\n [31 32 33 34]\\n [41 42 43 44]]'"
       ]
      }
     ],
     "prompt_number": 31
    },
    {
     "cell_type": "markdown",
     "metadata": {},
     "source": [
      "\\begin{bmatrix}\n",
      "  12 & 5 & 2\\\\\n",
      "  20 & 4 & 8\\\\\n",
      "  2 & 4 & 3\\\\\n",
      "  7 & 1 & 10\\\\\n",
      "\\end{bmatrix}"
     ]
    },
    {
     "cell_type": "code",
     "collapsed": false,
     "input": [
      "def bmatrix(a):\n",
      "    \"\"\"Returns a LaTeX bmatrix\n",
      "\n",
      "    :a: numpy array\n",
      "    :returns: LaTeX bmatrix as a string\n",
      "    \"\"\"\n",
      "    if len(a.shape) > 2:\n",
      "        raise ValueError('bmatrix can at most display two dimensions')\n",
      "    lines = str(a).replace('[', '').replace(']', '').splitlines()\n",
      "    rv = [r'\\begin{bmatrix}']\n",
      "    rv += ['  ' + ' & '.join(l.split()) + r'\\\\' for l in lines]\n",
      "    rv +=  [r'\\end{bmatrix}']\n",
      "    return '\\n'.join(rv)"
     ],
     "language": "python",
     "metadata": {},
     "outputs": [],
     "prompt_number": 46
    },
    {
     "cell_type": "code",
     "collapsed": false,
     "input": [
      "print bmatrix(ma)"
     ],
     "language": "python",
     "metadata": {},
     "outputs": [
      {
       "output_type": "stream",
       "stream": "stdout",
       "text": [
        "\\begin{bmatrix}\n",
        "  11 & 12 & 13 & 14\\\\\n",
        "  21 & 22 & 23 & 24\\\\\n",
        "  31 & 32 & 33 & 34\\\\\n",
        "  41 & 42 & 43 & 44\\\\\n",
        "\\end{bmatrix}\n"
       ]
      }
     ],
     "prompt_number": 54
    },
    {
     "cell_type": "code",
     "collapsed": false,
     "input": [
      "print '$$F_{123}$$'"
     ],
     "language": "python",
     "metadata": {},
     "outputs": [
      {
       "output_type": "stream",
       "stream": "stdout",
       "text": [
        "$$F_{123}$$\n"
       ]
      }
     ],
     "prompt_number": 47
    },
    {
     "cell_type": "code",
     "collapsed": false,
     "input": [
      "import IPython1X.IPython.display as d"
     ],
     "language": "python",
     "metadata": {},
     "outputs": [],
     "prompt_number": 50
    },
    {
     "cell_type": "code",
     "collapsed": false,
     "input": [
      "d.Latex('$$F_{123} = ' + bmatrix(ma) + '$$')"
     ],
     "language": "python",
     "metadata": {},
     "outputs": [
      {
       "latex": [
        "$$F_{123} = \\begin{bmatrix}\n",
        "  11 & 12 & 13 & 14\\\\\n",
        "  21 & 22 & 23 & 24\\\\\n",
        "  31 & 32 & 33 & 34\\\\\n",
        "  41 & 42 & 43 & 44\\\\\n",
        "\\end{bmatrix}$$"
       ],
       "metadata": {},
       "output_type": "pyout",
       "prompt_number": 56,
       "text": [
        "<IPython.core.display.Latex at 0x4035c90>"
       ]
      }
     ],
     "prompt_number": 56
    },
    {
     "cell_type": "markdown",
     "metadata": {},
     "source": [
      "$$\\underline{\\tilde{F}}^0$$"
     ]
    },
    {
     "cell_type": "markdown",
     "metadata": {},
     "source": [
      "$$Hallo\n",
      "\\vskip\n",
      "Peter$$"
     ]
    },
    {
     "cell_type": "code",
     "collapsed": false,
     "input": [],
     "language": "python",
     "metadata": {},
     "outputs": []
    }
   ],
   "metadata": {}
  }
 ]
}