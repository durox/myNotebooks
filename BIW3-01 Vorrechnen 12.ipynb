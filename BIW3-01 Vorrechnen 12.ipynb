{
 "metadata": {
  "name": ""
 },
 "nbformat": 3,
 "nbformat_minor": 0,
 "worksheets": [
  {
   "cells": [
    {
     "cell_type": "code",
     "collapsed": false,
     "input": [
      "import statik"
     ],
     "language": "python",
     "metadata": {},
     "outputs": [],
     "prompt_number": 4
    },
    {
     "cell_type": "code",
     "collapsed": false,
     "input": [
      "def f1(w):\n",
      "    return f2(w) - w**2/12.\n",
      "\n",
      "def f2(w):\n",
      "    return 2./3. * f3(w) + 1./3. * f4(w)\n",
      "\n",
      "def f3(w):\n",
      "    return 1./4.*w*(sin(w)-w*cos(w))/(2.-2.*cos(w)-w*sin(w))\n",
      "\n",
      "def f4(w):\n",
      "    return 1./2.*w*(w-sin(w))/(2.-2.*cos(w)-w*sin(w))\n",
      "\n",
      "def f5(w):\n",
      "    return f6(w) - w**2/3.\n",
      "\n",
      "def f6(w):\n",
      "    return 1./3. * (4.*f3(w)**2 - f4(w)**2)/f3(w)\n",
      "\n",
      "def f7(w):\n",
      "    return (4.*f3(w)*f1(w) - 3.*f2(w)**2)/f1(w)\n",
      "\n",
      "def f8(w):\n",
      "    return (-2.*f4(w)*f1(w) + 3.*f2(w)**2)/f1(w)"
     ],
     "language": "python",
     "metadata": {},
     "outputs": [],
     "prompt_number": 5
    },
    {
     "cell_type": "code",
     "collapsed": false,
     "input": [
      "def AA(w):\n",
      "    return sin(0.5*w)/sin(w) - 0.5"
     ],
     "language": "python",
     "metadata": {},
     "outputs": [],
     "prompt_number": 6
    },
    {
     "cell_type": "code",
     "collapsed": false,
     "input": [
      "def K121(w12):\n",
      "    M = matrix([[23333, 0, 0],\n",
      "                [0, 345.7*f1(w12), -1555.6*f2(w12)],\n",
      "                [0, -1555.6*f2(w12), 9333.3*f3(w12)]])\n",
      "    return M\n",
      "\n",
      "def K131(w13):\n",
      "    M = matrix([[86.4*f5(w13), 0, -777.8*f6(w13)],\n",
      "                [0, 23333, 0],\n",
      "                [-777.8*f6(w13), 0, 7000*f6(w13)]])\n",
      "    return M\n",
      "\n",
      "def K141(w14):\n",
      "    M = matrix([[61.1*f1(w14), 61.1*f1(w14), 544.4*f2(w14)],\n",
      "                [61.1*f1(w14), 61.1*f1(w14), 544.4*f2(w14)],\n",
      "                [544.4*f2(w14), 544.4*f2(w14), 6599*f3(w14)]])\n",
      "    return M\n",
      "\n",
      "def K(w12, w13, w14):\n",
      "    M = matrix([[23333+86.4*f5(w13)+61.1*f1(w14), 0+0+61.1*f1(w14), 0-777.8*f6(w13)+544.4*f2(w14)],\n",
      "                [0+0+61.1*f1(w14), 345.7*f1(w12)+23333+61.1*f1(w14), -1555.6*f2(w12)+0+544.4*f2(w14)],\n",
      "                [0-777.8*f6(w13)+544.4*f2(w14), -1555.6*f2(w12)+0+544.4*f2(w14), 9333.3*f3(w12)+7000*f6(w13)+6599*f3(w14)]])\n",
      "    return M\n",
      "\n",
      "def F0(w12, w13):\n",
      "    F = F0_12(w12) + F0_13(w13) + F0_14\n",
      "    #F = matrix([[0+200*(0.5+3*f1(w13)*AA(w13)/f3(w13)/w13**2)+565.7, -90-565.7+0, 135/f2(w12)-1800*3*f1(w13)*AA(w13)/f3(w13)/w13**2+0]]).T\n",
      "    return F\n",
      "\n",
      "def F0_12(w12):\n",
      "    F = matrix([[0, -90, 135/f2(w12)]]).T\n",
      "    return F\n",
      "\n",
      "def F0_13(w13):\n",
      "    F = matrix([[200*(0.5+3*f1(w13)*AA(w13)/f3(w13)/w13**2), 0, -1800*3*f1(w13)*AA(w13)/f3(w13)/w13**2]]).T\n",
      "    return F"
     ],
     "language": "python",
     "metadata": {},
     "outputs": [],
     "prompt_number": 7
    },
    {
     "cell_type": "code",
     "collapsed": false,
     "input": [
      "T_12 = statik.T(pi)\n",
      "T_13 = statik.T(3./2.*pi)\n",
      "T_14 = statik.T(1./4.*pi)\n",
      "print T_12\n",
      "print T_13\n",
      "print T_14"
     ],
     "language": "python",
     "metadata": {},
     "outputs": [
      {
       "output_type": "stream",
       "stream": "stdout",
       "text": [
        "[[-1.  0.  0.]\n",
        " [-0. -1.  0.]\n",
        " [ 0.  0.  1.]]\n",
        "[[-0. -1.  0.]\n",
        " [ 1. -0.  0.]\n",
        " [ 0.  0.  1.]]\n",
        "[[ 0.70710678  0.70710678  0.        ]\n",
        " [-0.70710678  0.70710678  0.        ]\n",
        " [ 0.          0.          1.        ]]\n"
       ]
      }
     ],
     "prompt_number": 8
    },
    {
     "cell_type": "code",
     "collapsed": false,
     "input": [
      "E = 2.1E8\n",
      "I = 1.0E-4\n",
      "A = 1.0E-3\n",
      "\n",
      "q =  0.\n",
      "P1 = 1000.\n",
      "P2 = 0.\n",
      "P3 = 0.\n",
      "\n",
      "L_12 = L_13 = 9.\n",
      "L_14 = sqrt(9**2+9**2)"
     ],
     "language": "python",
     "metadata": {},
     "outputs": [],
     "prompt_number": 9
    },
    {
     "cell_type": "code",
     "collapsed": false,
     "input": [
      "_K_121 = T_12 * statik.K_eingesp(E, A, I, L_12, 'iki') * T_12.T\n",
      "_K_131 = T_13 * statik.K_gelenk(E, A, I, L_13, 'iki') * T_13.T\n",
      "K_14 = matrix([[0, 0, 0], [0, 12*E*I/L_14**3, 6*E*I/L_14**2], [0, 6*E*I/L_14**2, 4*E*I/L_14]])\n",
      "_K_141 = T_14 * K_14 * T_14.T\n",
      "print _K_121\n",
      "print _K_131\n",
      "print _K_141"
     ],
     "language": "python",
     "metadata": {},
     "outputs": [
      {
       "output_type": "stream",
       "stream": "stdout",
       "text": [
        "[[ 23333.33333333      0.              0.        ]\n",
        " [     0.            345.67901235  -1555.55555556]\n",
        " [     0.          -1555.55555556   9333.33333333]]\n",
        "[[    86.41975309      0.           -777.77777778]\n",
        " [     0.          23333.33333333      0.        ]\n",
        " [  -777.77777778      0.           7000.        ]]\n",
        "[[   61.10799323    61.10799323   549.97194   ]\n",
        " [   61.10799323    61.10799323   549.97194   ]\n",
        " [  549.97194      549.97194     6599.66329107]]\n"
       ]
      }
     ],
     "prompt_number": 10
    },
    {
     "cell_type": "code",
     "collapsed": false,
     "input": [
      "_F0_12 = T_12 * matrix([0, q*L_12/2., q*L_12**2/12]).T\n",
      "_F0_13 = T_13 * matrix([0, -11./16.*P2, -3./16.*P2*L_13]).T\n",
      "_F0_14 = T_14 * matrix([P1, 0, 0]).T\n",
      "print _F0_12\n",
      "print _F0_13\n",
      "print _F0_14"
     ],
     "language": "python",
     "metadata": {},
     "outputs": [
      {
       "output_type": "stream",
       "stream": "stdout",
       "text": [
        "[[ 0.]\n",
        " [ 0.]\n",
        " [ 0.]]\n",
        "[[ 0.]\n",
        " [ 0.]\n",
        " [ 0.]]\n",
        "[[ 707.10678]\n",
        " [-707.10678]\n",
        " [   0.     ]]\n"
       ]
      }
     ],
     "prompt_number": 11
    },
    {
     "cell_type": "code",
     "collapsed": false,
     "input": [
      "_P = matrix([-P3, 0, 0]).T\n",
      "print _P"
     ],
     "language": "python",
     "metadata": {},
     "outputs": [
      {
       "output_type": "stream",
       "stream": "stdout",
       "text": [
        "[[-0.]\n",
        " [ 0.]\n",
        " [ 0.]]\n"
       ]
      }
     ],
     "prompt_number": 12
    },
    {
     "cell_type": "code",
     "collapsed": false,
     "input": [
      "_K = _K_121 + _K_131 + _K_141\n",
      "_F0 = _F0_12 + _F0_13 + _F0_14\n",
      "print _K\n",
      "print _F0"
     ],
     "language": "python",
     "metadata": {},
     "outputs": [
      {
       "output_type": "stream",
       "stream": "stdout",
       "text": [
        "[[ 23480.86107965     61.10799323   -227.80583778]\n",
        " [    61.10799323  23740.12033891  -1005.58361556]\n",
        " [  -227.80583778  -1005.58361556  22932.99662441]]\n",
        "[[ 707.10678]\n",
        " [-707.10678]\n",
        " [   0.     ]]\n"
       ]
      }
     ],
     "prompt_number": 13
    },
    {
     "cell_type": "code",
     "collapsed": false,
     "input": [
      "v0 = inv(_K) * (_P - _F0)\n",
      "print v0"
     ],
     "language": "python",
     "metadata": {},
     "outputs": [
      {
       "output_type": "stream",
       "stream": "stdout",
       "text": [
        "[[-0.03018219]\n",
        " [ 0.02990584]\n",
        " [ 0.00101152]]\n"
       ]
      }
     ],
     "prompt_number": 14
    },
    {
     "cell_type": "code",
     "collapsed": false,
     "input": [
      "F_12 = T_12.T * (_F0_12 + _K_121 * v0)\n",
      "F_13 = T_13.T * (_F0_13 + _K_131 * v0)\n",
      "F_14 = T_14.T * (_F0_14 + _K_141 * v0)\n",
      "print F_12\n",
      "print F_13\n",
      "print F_14"
     ],
     "language": "python",
     "metadata": {},
     "outputs": [
      {
       "output_type": "stream",
       "stream": "stdout",
       "text": [
        "[[ 704.25112566]\n",
        " [  -8.76434941]\n",
        " [ -37.07936287]]\n",
        "[[ 697.80301095]\n",
        " [   3.39507399]\n",
        " [  30.55566592]]\n",
        "[[  9.99999997e+02]\n",
        " [  7.62854580e-01]\n",
        " [  6.52369695e+00]]\n"
       ]
      }
     ],
     "prompt_number": 15
    },
    {
     "cell_type": "code",
     "collapsed": false,
     "input": [
      "v = 2.2\n",
      "w12 = L_12 * sqrt(v * F_12[0,0]/E/I)\n",
      "w13 = L_13 * sqrt(v * F_13[0,0]/E/I)\n",
      "w14 = L_14 * sqrt(v * F_14[0,0]/E/I)\n",
      "print w12, w13, w14\n",
      "det(K(w12, w13, w14))"
     ],
     "language": "python",
     "metadata": {},
     "outputs": [
      {
       "output_type": "stream",
       "stream": "stdout",
       "text": [
        "2.44458349525 2.43336647215 4.11963936704\n"
       ]
      },
      {
       "metadata": {},
       "output_type": "pyout",
       "prompt_number": 32,
       "text": [
        "6722438770106.4814"
       ]
      }
     ],
     "prompt_number": 32
    },
    {
     "cell_type": "code",
     "collapsed": false,
     "input": [
      "def detf(v):\n",
      "    w12 = L_12 * sqrt(v * F_12[0,0]/E/I)\n",
      "    w13 = L_13 * sqrt(v * F_13[0,0]/E/I)\n",
      "    w14 = L_14 * sqrt(v * F_14[0,0]/E/I)\n",
      "    return det(K(w12, w13, w14))"
     ],
     "language": "python",
     "metadata": {},
     "outputs": [],
     "prompt_number": 33
    },
    {
     "cell_type": "code",
     "collapsed": false,
     "input": [
      "v = linspace(0, 5, 100)\n",
      "vdetf = vectorize(detf)\n",
      "plot(v, vdetf(v))"
     ],
     "language": "python",
     "metadata": {},
     "outputs": [
      {
       "metadata": {},
       "output_type": "pyout",
       "prompt_number": 47,
       "text": [
        "[<matplotlib.lines.Line2D at 0x4ef7050>]"
       ]
      },
      {
       "metadata": {},
       "output_type": "display_data",
       "png": "[encoded data removed]",
       "text": [
        "<matplotlib.figure.Figure at 0x425b950>"
       ]
      }
     ],
     "prompt_number": 47
    },
    {
     "cell_type": "code",
     "collapsed": false,
     "input": [
      "v = linspace(3.6, 3.7, 10)\n",
      "print v\n",
      "print vdetf(v)"
     ],
     "language": "python",
     "metadata": {},
     "outputs": [
      {
       "output_type": "stream",
       "stream": "stdout",
       "text": [
        "[ 3.6         3.61111111  3.62222222  3.63333333  3.64444444  3.65555556\n",
        "  3.66666667  3.67777778  3.68888889  3.7       ]\n",
        "[  6.03943425e+10  -1.78613580e+10  -9.68494426e+10  -1.76584900e+11\n",
        "  -2.57083158e+11  -3.38360096e+11  -4.20432070e+11  -5.03315921e+11\n",
        "  -5.87029002e+11  -6.71589192e+11]\n"
       ]
      }
     ],
     "prompt_number": 57
    },
    {
     "cell_type": "code",
     "collapsed": false,
     "input": [],
     "language": "python",
     "metadata": {},
     "outputs": []
    }
   ],
   "metadata": {}
  }
 ]
}