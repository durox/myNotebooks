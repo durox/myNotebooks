{
 "metadata": {
  "name": "Herleitung K Kragarm"
 },
 "nbformat": 3,
 "nbformat_minor": 0,
 "worksheets": [
  {
   "cells": [
    {
     "cell_type": "code",
     "collapsed": false,
     "input": [
      "%pylab"
     ],
     "language": "python",
     "metadata": {},
     "outputs": [
      {
       "output_type": "stream",
       "stream": "stdout",
       "text": [
        "\n",
        "Welcome to pylab, a matplotlib-based Python environment [backend: TkAgg].\n",
        "For more information, type 'help(pylab)'.\n"
       ]
      }
     ],
     "prompt_number": 1
    },
    {
     "cell_type": "code",
     "collapsed": false,
     "input": [
      "kq = np.matrix([0, -12, -6, 0, 12, -6]).T\n",
      "KNq = kq * kq.T * 1/12\n",
      "print KNq"
     ],
     "language": "python",
     "metadata": {},
     "outputs": [
      {
       "output_type": "stream",
       "stream": "stdout",
       "text": [
        "[[  0   0   0   0   0   0]\n",
        " [  0  12   6   0 -12   6]\n",
        " [  0   6   3   0  -6   3]\n",
        " [  0   0   0   0   0   0]\n",
        " [  0 -12  -6   0  12  -6]\n",
        " [  0   6   3   0  -6   3]]\n"
       ]
      }
     ],
     "prompt_number": 25
    },
    {
     "cell_type": "code",
     "collapsed": false,
     "input": [
      "km = np.matrix([0, 6, 2, 0, -6, 4]).T\n",
      "KNm = km * km.T * 1/4\n",
      "print KNm"
     ],
     "language": "python",
     "metadata": {},
     "outputs": [
      {
       "output_type": "stream",
       "stream": "stdout",
       "text": [
        "[[ 0  0  0  0  0  0]\n",
        " [ 0  9  3  0 -9  6]\n",
        " [ 0  3  1  0 -3  2]\n",
        " [ 0  0  0  0  0  0]\n",
        " [ 0 -9 -3  0  9 -6]\n",
        " [ 0  6  2  0 -6  4]]\n"
       ]
      }
     ],
     "prompt_number": 26
    },
    {
     "cell_type": "code",
     "collapsed": false,
     "input": [
      "kn = np.matrix([-1, 0, 0, 1, 0, 0]).T\n",
      "KNn = kn * kn.T\n",
      "print KNn"
     ],
     "language": "python",
     "metadata": {},
     "outputs": [
      {
       "output_type": "stream",
       "stream": "stdout",
       "text": [
        "[[ 1  0  0 -1  0  0]\n",
        " [ 0  0  0  0  0  0]\n",
        " [ 0  0  0  0  0  0]\n",
        " [-1  0  0  1  0  0]\n",
        " [ 0  0  0  0  0  0]\n",
        " [ 0  0  0  0  0  0]]\n"
       ]
      }
     ],
     "prompt_number": 27
    },
    {
     "cell_type": "code",
     "collapsed": false,
     "input": [
      "K = np.matrix([[1,0,0,-1,0,0], [0,12,6,0,-12,6], [0,6,4,0,-6,2],\n",
      "               [-1,0,0,1,0,0], [0,-12,-6,0,12,-6], [0,6,2,0,-6,4]])\n",
      "print K"
     ],
     "language": "python",
     "metadata": {},
     "outputs": [
      {
       "output_type": "stream",
       "stream": "stdout",
       "text": [
        "[[  1   0   0  -1   0   0]\n",
        " [  0  12   6   0 -12   6]\n",
        " [  0   6   4   0  -6   2]\n",
        " [ -1   0   0   1   0   0]\n",
        " [  0 -12  -6   0  12  -6]\n",
        " [  0   6   2   0  -6   4]]\n"
       ]
      }
     ],
     "prompt_number": 31
    },
    {
     "cell_type": "code",
     "collapsed": false,
     "input": [
      "K - KNq - KNm - KNn"
     ],
     "language": "python",
     "metadata": {},
     "outputs": [
      {
       "output_type": "pyout",
       "prompt_number": 32,
       "text": [
        "matrix([[ 0,  0,  0,  0,  0,  0],\n",
        "        [ 0, -9, -3,  0,  9, -6],\n",
        "        [ 0, -3,  0,  0,  3, -3],\n",
        "        [ 0,  0,  0,  0,  0,  0],\n",
        "        [ 0,  9,  3,  0, -9,  6],\n",
        "        [ 0, -6, -3,  0,  6, -3]])"
       ]
      }
     ],
     "prompt_number": 32
    },
    {
     "cell_type": "code",
     "collapsed": false,
     "input": [],
     "language": "python",
     "metadata": {},
     "outputs": []
    }
   ],
   "metadata": {}
  }
 ]
}