{
 "metadata": {
  "name": ""
 },
 "nbformat": 3,
 "nbformat_minor": 0,
 "worksheets": [
  {
   "cells": [
    {
     "cell_type": "code",
     "collapsed": false,
     "input": [
      "import statik\n",
      "import sympy as sy"
     ],
     "language": "python",
     "metadata": {},
     "outputs": [],
     "prompt_number": 2
    },
    {
     "cell_type": "code",
     "collapsed": false,
     "input": [
      "E = 2.1E8\n",
      "I = 3.0E-4\n",
      "Af = 5.0E-4\n",
      "u = 1.5       # Stabmasse\n",
      "\n",
      "p0 = 1.0\n",
      "\n",
      "l12 = l13 = sqrt(3**2 + 4**2)\n",
      "l14 = 9.0\n",
      "\n",
      "alpha = 90. - degrees(arctan(4. / 3.))\n",
      "alpha"
     ],
     "language": "python",
     "metadata": {},
     "outputs": [
      {
       "metadata": {},
       "output_type": "pyout",
       "prompt_number": 3,
       "text": [
        "36.86989764584402"
       ]
      }
     ],
     "prompt_number": 3
    },
    {
     "cell_type": "code",
     "collapsed": false,
     "input": [
      "#T12 = statik.T(radians(360. - alpha))\n",
      "T12 = statik.T(radians(-alpha))\n",
      "T13 = statik.T(radians(alpha))\n",
      "T14 = statik.T(radians(90.))\n",
      "\n",
      "print T12\n",
      "print T13\n",
      "print T14"
     ],
     "language": "python",
     "metadata": {},
     "outputs": [
      {
       "output_type": "stream",
       "stream": "stdout",
       "text": [
        "[[ 0.8 -0.6  0. ]\n",
        " [ 0.6  0.8  0. ]\n",
        " [ 0.   0.   1. ]]\n",
        "[[ 0.8  0.6  0. ]\n",
        " [-0.6  0.8  0. ]\n",
        " [ 0.   0.   1. ]]\n",
        "[[ 0.  1.  0.]\n",
        " [-1.  0.  0.]\n",
        " [ 0.  0.  1.]]\n"
       ]
      }
     ],
     "prompt_number": 4
    },
    {
     "cell_type": "code",
     "collapsed": false,
     "input": [
      "def getA(E, Af, I, l, u, w):\n",
      "    lam = l * (u * w**2 / E / I) ** (1/4)\n",
      "    eps = l * sqrt(u * w**2 / E / Af)\n",
      "    \n",
      "    #return (E * Af / l * eps / tan(eps))\n",
      "    return E*I*Af/I/l * eps / tan(eps)\n",
      "\n",
      "def getB(E, Af, I, l, u, w):\n",
      "    lam = l * (u * w**2 / E / I) ** (1/4)\n",
      "    eps = l * sqrt(u * w**2 / E / Af)\n",
      "    \n",
      "    o1 = (np.cosh(lam) + np.cos(lam)) / 2\n",
      "    o2 = (np.sinh(lam) + np.sin(lam)) / 2\n",
      "    o3 = (np.cosh(lam) - np.cos(lam)) / 2\n",
      "    o4 = (np.sinh(lam) - np.sin(lam)) / 2\n",
      "    \n",
      "    #return (E * I * lam**3 / l**3 * (o1**2 - o2*o4) / (o2*o3 - o1*o4))\n",
      "    return E*I* lam**3/l**3 * (1+cosh(lam)*cos(lam)) / (cosh(lam)*sin(lam) - sinh(lam)*cos(lam))"
     ],
     "language": "python",
     "metadata": {},
     "outputs": [],
     "prompt_number": 5
    },
    {
     "cell_type": "code",
     "collapsed": false,
     "input": [
      "def T1(we):\n",
      "    return 1.28 * getA(E, Af, I, l12, u, we) + 0.72 * getB(E, Af, I, l12, u, we) + getB(E, Af, I, l14, u, we)\n",
      "\n",
      "def T2(we):\n",
      "    return 0.72 * getA(E, Af, I, l12, u, we) + 1.28 * getB(E, Af, I, l12, u, we) + getB(E, Af, I, l14, u, we)\n",
      "\n",
      "def D(we):\n",
      "    return T1(we) * T2(we)"
     ],
     "language": "python",
     "metadata": {},
     "outputs": [],
     "prompt_number": 8
    },
    {
     "cell_type": "code",
     "collapsed": false,
     "input": [
      "vD = vectorize(D)\n",
      "vT1 = vectorize(T1)\n",
      "vT2 = vectorize(T2)\n",
      "x = linspace(1, 100, 1000)\n",
      "#y = vD(x)\n",
      "y = vD(x)\n",
      "plot(x, y)"
     ],
     "language": "python",
     "metadata": {},
     "outputs": [
      {
       "metadata": {},
       "output_type": "pyout",
       "prompt_number": 9,
       "text": [
        "[<matplotlib.lines.Line2D at 0x37574d0>]"
       ]
      },
      {
       "metadata": {},
       "output_type": "display_data",
       "png": "[encoded data removed]",
       "text": [
        "<matplotlib.figure.Figure at 0x355d390>"
       ]
      }
     ],
     "prompt_number": 9
    },
    {
     "cell_type": "code",
     "collapsed": false,
     "input": [
      "A,B = sy.symbols('A B')\n",
      "M = sy.Matrix([[A, 0, 0], [0, B, 0], [0, 0, 0]])\n",
      "print M\n",
      "T12 * M * T12.T + T13 * M * T13.T"
     ],
     "language": "python",
     "metadata": {},
     "outputs": [
      {
       "output_type": "stream",
       "stream": "stdout",
       "text": [
        "[A, 0, 0]\n",
        "[0, B, 0]\n",
        "[0, 0, 0]\n"
       ]
      },
      {
       "metadata": {},
       "output_type": "pyout",
       "prompt_number": 11,
       "text": [
        "[1.28*A + 0.72*B,               0, 0]\n",
        "[              0, 0.72*A + 1.28*B, 0]\n",
        "[              0,               0, 0]"
       ]
      }
     ],
     "prompt_number": 11
    },
    {
     "cell_type": "code",
     "collapsed": false,
     "input": [
      "T14 * M + T14.T"
     ],
     "language": "python",
     "metadata": {},
     "outputs": [
      {
       "metadata": {},
       "output_type": "pyout",
       "prompt_number": 74,
       "text": [
        "[           0, 1.0*B - 1.0,   0]\n",
        "[-1.0*A + 1.0,           0,   0]\n",
        "[           0,           0, 1.0]"
       ]
      }
     ],
     "prompt_number": 74
    },
    {
     "cell_type": "code",
     "collapsed": false,
     "input": [
      "T14 * M * T14.T"
     ],
     "language": "python",
     "metadata": {},
     "outputs": [
      {
       "metadata": {},
       "output_type": "pyout",
       "prompt_number": 75,
       "text": [
        "[1.0*B,     0, 0]\n",
        "[    0, 1.0*A, 0]\n",
        "[    0,     0, 0]"
       ]
      }
     ],
     "prompt_number": 75
    },
    {
     "cell_type": "code",
     "collapsed": false,
     "input": [
      "_ * T14.T"
     ],
     "language": "python",
     "metadata": {},
     "outputs": [
      {
       "metadata": {},
       "output_type": "pyout",
       "prompt_number": 72,
       "text": [
        "[1.0*B,     0, 0]\n",
        "[    0, 1.0*A, 0]\n",
        "[    0,     0, 0]"
       ]
      }
     ],
     "prompt_number": 72
    },
    {
     "cell_type": "code",
     "collapsed": false,
     "input": [
      "w1 = 0.9 * 36.7\n",
      "K = matrix([[T1(w1), 0], [0, T2(w1)]])\n",
      "print K"
     ],
     "language": "python",
     "metadata": {},
     "outputs": [
      {
       "output_type": "stream",
       "stream": "stdout",
       "text": [
        "[[-49547.69268631      0.        ]\n",
        " [     0.         -30919.654679  ]]\n"
       ]
      }
     ],
     "prompt_number": 85
    },
    {
     "cell_type": "code",
     "collapsed": false,
     "input": [
      "lam14 = l14 * (u * w1**2 / E / I) ** (1/4)\n",
      "o1 = (np.cosh(lam14) + np.cos(lam14)) / 2\n",
      "o2 = (np.sinh(lam14) + np.sin(lam14)) / 2\n",
      "o3 = (np.cosh(lam14) - np.cos(lam14)) / 2\n",
      "o4 = (np.sinh(lam14) - np.sin(lam14)) / 2\n",
      "F = matrix([0, p0 * l14 / lam14 * (o1**2 - o1 - o2*o4) / (o2*o3 - o1*o4), 0]).T\n",
      "print F\n",
      "_F = T14 * F\n",
      "print _F"
     ],
     "language": "python",
     "metadata": {},
     "outputs": [
      {
       "output_type": "stream",
       "stream": "stdout",
       "text": [
        "[[ 0.        ]\n",
        " [-1.44391491]\n",
        " [ 0.        ]]\n",
        "[[-1.44391491]\n",
        " [ 0.        ]\n",
        " [ 0.        ]]\n"
       ]
      }
     ],
     "prompt_number": 94
    },
    {
     "cell_type": "code",
     "collapsed": false,
     "input": [
      "inv(K) * -_F[:2]"
     ],
     "language": "python",
     "metadata": {},
     "outputs": [
      {
       "metadata": {},
       "output_type": "pyout",
       "prompt_number": 93,
       "text": [
        "matrix([[ -2.91419203e-05],\n",
        "        [  0.00000000e+00]])"
       ]
      }
     ],
     "prompt_number": 93
    },
    {
     "cell_type": "code",
     "collapsed": false,
     "input": [],
     "language": "python",
     "metadata": {},
     "outputs": []
    }
   ],
   "metadata": {}
  }
 ]
}