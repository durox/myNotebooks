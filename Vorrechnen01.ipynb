{
 "metadata": {
  "name": "Vorrechnen01"
 }, 
 "nbformat": 2, 
 "worksheets": [
  {
   "cells": [
    {
     "cell_type": "code", 
     "collapsed": false, 
     "input": [
      "%pylab"
     ], 
     "language": "python", 
     "outputs": [
      {
       "output_type": "stream", 
       "stream": "stdout", 
       "text": [
        "", 
        "Welcome to pylab, a matplotlib-based Python environment [backend: TkAgg].", 
        "For more information, type 'help(pylab)'."
       ]
      }
     ], 
     "prompt_number": 1
    }, 
    {
     "cell_type": "code", 
     "collapsed": true, 
     "input": [
      "def K_eingesp(E, A, I, l, element='all'):", 
      "    \"\"\"Stabsteifigkeitsmatrix f\u00fcr beidseitig eingespannten Stab\"\"\"", 
      "    K = np.matrix([[E*A/l, 0, 0, -E*A/l, 0, 0],", 
      "                  [0, 12*E*I/(l**3), 6*E*I/(l**2), 0, -12*E*I/(l**3), 6*E*I/(l**2)],", 
      "                  [0, 6*E*I/(l**2), 4*E*I/l, 0, -6*E*I/(l**2), 2*E*I/l],", 
      "                  [-E*A/l, 0, 0, E*A/l, 0, 0],", 
      "                  [0, -12*E*I/(l**3), -6*E*I/(l**2), 0, 12*E*I/(l**3), -6*E*I/(l**2)],", 
      "                  [0, 6*E*I/(l**2), 2*E*I/l, 0, -6*E*I/(l**2), 4*E*I/l]])", 
      "    if element=='iki':", 
      "        return K[0:3, 0:3]", 
      "    elif element=='ikk':", 
      "        return K[0:3, 3:]", 
      "    elif element=='kii':", 
      "        return K[3:, 0:3]", 
      "    elif element=='kik':", 
      "        return K[3:, 3:]", 
      "    elif element=='all':", 
      "        return K"
     ], 
     "language": "python", 
     "outputs": [], 
     "prompt_number": 2
    }, 
    {
     "cell_type": "code", 
     "collapsed": true, 
     "input": [
      "def T(alpha):", 
      "    \"\"\"Transformationsmatrix in Abh\u00e4ngigkeit von Drehwinkel Alpha (rad)\"\"\"", 
      "    c = np.cos(alpha)", 
      "    s = np.sin(alpha)", 
      "    T = np.matrix([[c, s, 0], [-s, c, 0], [0, 0, 1]])", 
      "    return T"
     ], 
     "language": "python", 
     "outputs": [], 
     "prompt_number": 3
    }, 
    {
     "cell_type": "code", 
     "collapsed": true, 
     "input": [
      "E = 2.1E8       # Stoffgr\u00f6\u00dfen", 
      "I = 1.E-4", 
      "A = 1.E-3", 
      "", 
      "_v_3 = np.matrix([[-5.E-3], [2.E-3], [0.5E-3]])    # gegebene Verschiebung Knoten 3", 
      "", 
      "l_12 = l_14 = np.sqrt(3 ** 2 + 3 ** 2)", 
      "l_13 = 3."
     ], 
     "language": "python", 
     "outputs": [], 
     "prompt_number": 4
    }, 
    {
     "cell_type": "code", 
     "collapsed": false, 
     "input": [
      "# lokale Steifigkeitsmatrizen", 
      "K_121 = K_eingesp(E, A, I, l_12, 'kik')", 
      "print '\\tK(12,1)\\n' + str(K_121) + '\\n'", 
      "K_131 = K_eingesp(E, A, I, l_13, 'kik')", 
      "print '\\tK(13,1)\\n' + str(K_131) + '\\n'", 
      "K_141 = K_eingesp(E, A, I, l_14, 'iki')", 
      "print '\\tK(14,1)\\n' + str(K_141) + '\\n'", 
      "K_133 = K_eingesp(E, A, I, l_13, 'kii')", 
      "print '\\tK(13,3)\\n' + str(K_133) + '\\n'", 
      "", 
      "K_211 = K_eingesp(E, A, I, l_12, 'ikk')", 
      "K_411 = K_eingesp(E, A, I, l_14, 'kii')", 
      "K_311 = K_eingesp(E, A, I, l_13, 'ikk')", 
      "K_313 = K_eingesp(E, A, I, l_13, 'iki')", 
      "print 'zus\u00e4tzlich:'", 
      "print '\\tK(21,1)\\n' + str(K_211) + '\\n'", 
      "print '\\tK(41,1)\\n' + str(K_411) + '\\n'", 
      "print '\\tK(31,1)\\n' + str(K_311) + '\\n'", 
      "print '\\tK(31,3)\\n' + str(K_313) + '\\n'"
     ], 
     "language": "python", 
     "outputs": [
      {
       "output_type": "stream", 
       "stream": "stdout", 
       "text": [
        "\tK(12,1)", 
        "[[ 49497.47468306      0.              0.        ]", 
        " [     0.           3299.83164554  -7000.        ]", 
        " [     0.          -7000.          19798.98987322]]", 
        "", 
        "\tK(13,1)", 
        "[[ 70000.              0.              0.        ]", 
        " [     0.           9333.33333333 -14000.        ]", 
        " [     0.         -14000.          28000.        ]]", 
        "", 
        "\tK(14,1)", 
        "[[ 49497.47468306      0.              0.        ]", 
        " [     0.           3299.83164554   7000.        ]", 
        " [     0.           7000.          19798.98987322]]", 
        "", 
        "\tK(13,3)", 
        "[[-70000.              0.              0.        ]", 
        " [     0.          -9333.33333333 -14000.        ]", 
        " [     0.          14000.          14000.        ]]", 
        "", 
        "zus\u00e4tzlich:", 
        "\tK(21,1)", 
        "[[-49497.47468306      0.              0.        ]", 
        " [     0.          -3299.83164554   7000.        ]", 
        " [     0.          -7000.           9899.49493661]]", 
        "", 
        "\tK(41,1)", 
        "[[-49497.47468306      0.              0.        ]", 
        " [     0.          -3299.83164554  -7000.        ]", 
        " [     0.           7000.           9899.49493661]]", 
        "", 
        "\tK(31,1)", 
        "[[-70000.              0.              0.        ]", 
        " [     0.          -9333.33333333  14000.        ]", 
        " [     0.         -14000.          14000.        ]]", 
        "", 
        "\tK(31,3)", 
        "[[ 70000.              0.              0.        ]", 
        " [     0.           9333.33333333  14000.        ]", 
        " [     0.          14000.          28000.        ]]", 
        ""
       ]
      }
     ], 
     "prompt_number": 19
    }, 
    {
     "cell_type": "code", 
     "collapsed": false, 
     "input": [
      "# Transformationsmatrizen", 
      "T_21 = T(np.radians(315))", 
      "print '\\tT(21)\\n' + str(T_21)", 
      "T_14 = T(np.radians(315))", 
      "T_31 = T(np.radians(0))"
     ], 
     "language": "python", 
     "outputs": [
      {
       "output_type": "stream", 
       "stream": "stdout", 
       "text": [
        "\tT(21)", 
        "[[ 0.70710678 -0.70710678  0.        ]", 
        " [ 0.70710678  0.70710678  0.        ]", 
        " [ 0.          0.          1.        ]]"
       ]
      }
     ], 
     "prompt_number": 15
    }, 
    {
     "cell_type": "code", 
     "collapsed": true, 
     "input": [
      "# Transformation in globale Steifigkeiten", 
      "_K_121 = T_21 * K_121 * T_21.T", 
      "_K_131 = T_31 * K_131 * T_31.T", 
      "_K_141 = T_14 * K_141 * T_14.T", 
      "_K_133 = K_133"
     ], 
     "language": "python", 
     "outputs": [], 
     "prompt_number": 7
    }, 
    {
     "cell_type": "code", 
     "collapsed": false, 
     "input": [
      "print '\\tK(12,1) global\\n' + str(_K_121) + '\\n'", 
      "print '\\tK(13,1) global\\n' + str(_K_131) + '\\n'", 
      "print '\\tK(14,1) global\\n' + str(_K_141) + '\\n'"
     ], 
     "language": "python", 
     "outputs": [
      {
       "output_type": "stream", 
       "stream": "stdout", 
       "text": [
        "\tK(12,1) global", 
        "[[ 26398.6531643   23098.82151876   4949.74746831]", 
        " [ 23098.82151876  26398.6531643   -4949.74746831]", 
        " [  4949.74746831  -4949.74746831  19798.98987322]]", 
        "", 
        "\tK(13,1) global", 
        "[[ 70000.              0.              0.        ]", 
        " [     0.           9333.33333333 -14000.        ]", 
        " [     0.         -14000.          28000.        ]]", 
        "", 
        "\tK(14,1) global", 
        "[[ 26398.6531643   23098.82151876  -4949.74746831]", 
        " [ 23098.82151876  26398.6531643    4949.74746831]", 
        " [ -4949.74746831   4949.74746831  19798.98987322]]", 
        ""
       ]
      }
     ], 
     "prompt_number": 16
    }, 
    {
     "cell_type": "code", 
     "collapsed": false, 
     "input": [
      "_K_133 * _v_3"
     ], 
     "language": "python", 
     "outputs": [
      {
       "output_type": "pyout", 
       "prompt_number": 26, 
       "text": [
        "matrix([[ 350.        ],", 
        "        [ -25.66666667],", 
        "        [  35.        ]])"
       ]
      }
     ], 
     "prompt_number": 26
    }, 
    {
     "cell_type": "code", 
     "collapsed": true, 
     "input": [
      "_v_1 = inv(_K_121+_K_131+_K_141) * -(_K_133 * _v_3)"
     ], 
     "language": "python", 
     "outputs": [], 
     "prompt_number": 8
    }, 
    {
     "cell_type": "code", 
     "collapsed": false, 
     "input": [
      "_K_133 * _v_3"
     ], 
     "language": "python", 
     "outputs": [
      {
       "output_type": "pyout", 
       "prompt_number": 28, 
       "text": [
        "matrix([[ 350.        ],", 
        "        [ -25.66666667],", 
        "        [  35.        ]])"
       ]
      }
     ], 
     "prompt_number": 28
    }, 
    {
     "cell_type": "code", 
     "collapsed": false, 
     "input": [
      "_K_121+_K_131+_K_141"
     ], 
     "language": "python", 
     "outputs": [
      {
       "output_type": "pyout", 
       "prompt_number": 29, 
       "text": [
        "matrix([[ 122797.3063286 ,   46197.64303752,       0.        ],", 
        "        [  46197.64303752,   62130.63966193,  -14000.        ],", 
        "        [      0.        ,  -14000.        ,   67597.97974645]])"
       ]
      }
     ], 
     "prompt_number": 29
    }, 
    {
     "cell_type": "code", 
     "collapsed": false, 
     "input": [
      "print '\\tVerschiebung v(1) global\\n' + str(_v_1)"
     ], 
     "language": "python", 
     "outputs": [
      {
       "output_type": "stream", 
       "stream": "stdout", 
       "text": [
        "\tVerschiebung v(1) global", 
        "[[-0.00419944]", 
        " [ 0.00358632]", 
        " [ 0.00022499]]"
       ]
      }
     ], 
     "prompt_number": 17
    }, 
    {
     "cell_type": "code", 
     "collapsed": false, 
     "input": [
      "# Randschnittkr\u00e4fte", 
      "", 
      "F_21 = K_211 * (T_21.T * _v_1)", 
      "F_12 = K_121 * (T_21.T * _v_1)", 
      "print '\\tF(21)'", 
      "print F_21", 
      "print '\\tF(12)'", 
      "print F_12", 
      "", 
      "F_41 = K_411 * (T_14.T * _v_1)", 
      "F_14 = K_141 * (T_14.T * _v_1)", 
      "print '\\tF(41)'", 
      "print F_41", 
      "print '\\tF(14)'", 
      "print F_14", 
      "", 
      "F_13 = K_131 * _v_1 + K_133 * _v_3", 
      "F_31 = K_311 * _v_1 + K_313 * _v_3", 
      "print '\\tF(13)'", 
      "print F_13", 
      "print '\\tF(31)'", 
      "print F_31"
     ], 
     "language": "python", 
     "outputs": [
      {
       "output_type": "stream", 
       "stream": "stdout", 
       "text": [
        "\tF(21)", 
        "[[ 21.45899831]", 
        " [-16.5918836 ]", 
        " [-36.31031966]]", 
        "\tF(12)", 
        "[[-21.45899831]", 
        " [ 16.5918836 ]", 
        " [-34.08308079]]", 
        "\tF(41)", 
        "[[ 21.45899831]", 
        " [-19.74167501]", 
        " [ 40.76479738]]", 
        "\tF(14)", 
        "[[-21.45899831]", 
        " [ 19.74167501]", 
        " [ 42.99203624]]", 
        "\tF(13)", 
        "[[ 56.03931212]", 
        " [  4.65590076]", 
        " [ -8.90895544]]", 
        "\tF(31)", 
        "[[-56.03931212]", 
        " [ -4.65590076]", 
        " [ -5.05874685]]"
       ]
      }
     ], 
     "prompt_number": 24
    }
   ]
  }
 ]
}