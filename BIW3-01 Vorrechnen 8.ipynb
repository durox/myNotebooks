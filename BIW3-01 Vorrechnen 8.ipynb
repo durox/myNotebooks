{
 "metadata": {
  "name": ""
 },
 "nbformat": 3,
 "nbformat_minor": 0,
 "worksheets": [
  {
   "cells": [
    {
     "cell_type": "code",
     "collapsed": false,
     "input": [
      "import statik\n",
      "import sympy as sy"
     ],
     "language": "python",
     "metadata": {},
     "outputs": [],
     "prompt_number": 1
    },
    {
     "cell_type": "code",
     "collapsed": false,
     "input": [
      "def positive(a):\n",
      "    l = list()\n",
      "    for i in a:\n",
      "        if i > 0:\n",
      "            l.append(i)\n",
      "    return array(l, dtype=float64)"
     ],
     "language": "python",
     "metadata": {},
     "outputs": [],
     "prompt_number": 2
    },
    {
     "cell_type": "code",
     "collapsed": false,
     "input": [
      "E = 2.1E8\n",
      "I = 3.0E-4\n",
      "A = 5.0E-4\n",
      "u = 1.5       # Stabmasse\n",
      "\n",
      "p0 = 1.0\n",
      "\n",
      "l12 = l13 = sqrt(3**2 + 4**2)\n",
      "l14 = 9.0\n",
      "\n",
      "alpha = degrees(arctan(4. / 3.))"
     ],
     "language": "python",
     "metadata": {},
     "outputs": [],
     "prompt_number": 3
    },
    {
     "cell_type": "code",
     "collapsed": false,
     "input": [
      "K121 = statik.KT_gelenk(E, A, I, l12, u, 'kik')\n",
      "K131 = statik.KT_gelenk(E, A, I, l13, u, 'kik')\n",
      "K141 = statik.KT_eingesp(E, A, I, l14, u, 'iki')\n",
      "\n",
      "print K121\n",
      "print K131\n",
      "print K141\n",
      "\n",
      "M121 = statik.MT_gelenk(E, A, I, l12, u, 'kik')\n",
      "M131 = statik.MT_gelenk(E, A, I, l13, u, 'kik')\n",
      "M141 = statik.MT_eingesp(E, A, I, l14, u, 'iki')\n",
      "\n",
      "print M121\n",
      "print M131\n",
      "print M141"
     ],
     "language": "python",
     "metadata": {},
     "outputs": [
      {
       "output_type": "stream",
       "stream": "stdout",
       "text": [
        "[[ 21000.      0.      0.]\n",
        " [     0.   1512.      0.]\n",
        " [     0.      0.      0.]]\n",
        "[[ 21000.      0.      0.]\n",
        " [     0.   1512.      0.]\n",
        " [     0.      0.      0.]]\n",
        "[[ 11666.66666667      0.              0.        ]\n",
        " [     0.           1037.03703704   4666.66666667]\n",
        " [     0.           4666.66666667  28000.        ]]\n",
        "[[ 2.5         0.          0.        ]\n",
        " [ 0.          1.76785714  0.        ]\n",
        " [ 0.          0.          0.        ]]\n",
        "[[ 2.5         0.          0.        ]\n",
        " [ 0.          1.76785714  0.        ]\n",
        " [ 0.          0.          0.        ]]\n",
        "[[  4.5          0.           0.        ]\n",
        " [  0.           5.01428571   6.36428571]\n",
        " [  0.           6.36428571  10.41428571]]\n"
       ]
      }
     ],
     "prompt_number": 4
    },
    {
     "cell_type": "code",
     "collapsed": false,
     "input": [
      "T12 = statik.T(radians(360. - alpha))\n",
      "T13 = statik.T(radians(alpha))\n",
      "T14 = statik.T(radians(0))"
     ],
     "language": "python",
     "metadata": {},
     "outputs": [],
     "prompt_number": 5
    },
    {
     "cell_type": "code",
     "collapsed": false,
     "input": [
      "_K121 = T12 * K121 * T12.T\n",
      "_K131 = T13 * K131 * T13.T\n",
      "_K141 = T14 * K141 * T14.T\n",
      "#_K141 = K141\n",
      "\n",
      "print _K121\n",
      "print _K131\n",
      "print _K141\n",
      "\n",
      "_M121 = T12 * M121 * T12.T\n",
      "_M131 = T13 * M131 * T13.T\n",
      "_M141 = T14 * M141 * T14.T\n",
      "#_M141 = M141\n",
      "\n",
      "print _M121\n",
      "print _M131\n",
      "print _M141"
     ],
     "language": "python",
     "metadata": {},
     "outputs": [
      {
       "output_type": "stream",
       "stream": "stdout",
       "text": [
        "[[  8527.68   9354.24      0.  ]\n",
        " [  9354.24  13984.32      0.  ]\n",
        " [     0.        0.        0.  ]]\n",
        "[[  8527.68  -9354.24      0.  ]\n",
        " [ -9354.24  13984.32      0.  ]\n",
        " [     0.        0.        0.  ]]\n",
        "[[ 11666.66666667      0.              0.        ]\n",
        " [     0.           1037.03703704   4666.66666667]\n",
        " [     0.           4666.66666667  28000.        ]]\n",
        "[[ 2.03142857  0.35142857  0.        ]\n",
        " [ 0.35142857  2.23642857  0.        ]\n",
        " [ 0.          0.          0.        ]]\n",
        "[[ 2.03142857 -0.35142857  0.        ]\n",
        " [-0.35142857  2.23642857  0.        ]\n",
        " [ 0.          0.          0.        ]]\n",
        "[[  4.5          0.           0.        ]\n",
        " [  0.           5.01428571   6.36428571]\n",
        " [  0.           6.36428571  10.41428571]]\n"
       ]
      }
     ],
     "prompt_number": 6
    },
    {
     "cell_type": "code",
     "collapsed": false,
     "input": [
      "_K = _K121 + _K131 + _K141\n",
      "_M = _M121 + _M131 + _M141\n",
      "print _K\n",
      "print _M"
     ],
     "language": "python",
     "metadata": {},
     "outputs": [
      {
       "output_type": "stream",
       "stream": "stdout",
       "text": [
        "[[ 28722.02666667      0.              0.        ]\n",
        " [     0.          29005.67703704   4666.66666667]\n",
        " [     0.           4666.66666667  28000.        ]]\n",
        "[[  8.56285714   0.           0.        ]\n",
        " [  0.           9.48714286   6.36428571]\n",
        " [  0.           6.36428571  10.41428571]]\n"
       ]
      }
     ],
     "prompt_number": 7
    },
    {
     "cell_type": "code",
     "collapsed": false,
     "input": [
      "w = sy.Symbol('w')\n",
      "W = sy.Matrix(_K) - w**2 * sy.Matrix(_M)\n",
      "#print W\n",
      "#d = W.det()\n",
      "d = W[0,0]*W[1,1]*W[2,2] - W[0,2] * W[1,1] * W[2,0]\n",
      "print d.simplify()\n",
      "sy.solve(d)"
     ],
     "language": "python",
     "metadata": {},
     "outputs": [
      {
       "output_type": "stream",
       "stream": "stdout",
       "text": [
        "-846.025838658892*w**6 + 7699037.21403429*w**4 - 23260280770.0002*w**2 + 23326851221590.0\n"
       ]
      },
      {
       "metadata": {},
       "output_type": "pyout",
       "prompt_number": 8,
       "text": [
        "[57.9159508985184,\n",
        " 51.8518518518519,\n",
        " 55.2934621058652,\n",
        " -51.8518518518519,\n",
        " -57.9159508985184,\n",
        " -55.2934621058652]"
       ]
      }
     ],
     "prompt_number": 8
    },
    {
     "cell_type": "code",
     "collapsed": false,
     "input": [
      "# C=0 (symmetrisch)\n",
      "T1 = W[1,1]\n",
      "print T1\n",
      "wT1 = sy.solve(T1)\n",
      "print wT1"
     ],
     "language": "python",
     "metadata": {},
     "outputs": [
      {
       "output_type": "stream",
       "stream": "stdout",
       "text": [
        "-9.48714285714286*w**2 + 29005.677037037\n",
        "[-55.2934621058652, 55.2934621058652]"
       ]
      },
      {
       "output_type": "stream",
       "stream": "stdout",
       "text": [
        "\n"
       ]
      }
     ],
     "prompt_number": 9
    },
    {
     "cell_type": "code",
     "collapsed": false,
     "input": [
      "# AD-B**2 = 0\n",
      "T2 = W[0,0] * W[2,2] - W[0,2]**2\n",
      "print T2.simplify()\n",
      "wT2 = sy.solve(T2)\n",
      "print wT2"
     ],
     "language": "python",
     "metadata": {},
     "outputs": [
      {
       "output_type": "stream",
       "stream": "stdout",
       "text": [
        "89.1760408163265*w**4 - 538879.392*w**2 + 804216746.666667\n",
        "[-57.9159508985184, -51.8518518518519, 57.9159508985184, 51.8518518518519]"
       ]
      },
      {
       "output_type": "stream",
       "stream": "stdout",
       "text": [
        "\n"
       ]
      }
     ],
     "prompt_number": 10
    },
    {
     "cell_type": "code",
     "collapsed": false,
     "input": [
      "wE = positive(concatenate([wT1, wT2]))\n",
      "print wE"
     ],
     "language": "python",
     "metadata": {},
     "outputs": [
      {
       "output_type": "stream",
       "stream": "stdout",
       "text": [
        "[ 55.29346211  57.9159509   51.85185185]\n"
       ]
      }
     ],
     "prompt_number": 11
    },
    {
     "cell_type": "code",
     "collapsed": false,
     "input": [
      "we1 = wE[2]\n",
      "we2 = wE[0]\n",
      "we3 = wE[1]"
     ],
     "language": "python",
     "metadata": {},
     "outputs": [],
     "prompt_number": 12
    },
    {
     "cell_type": "code",
     "collapsed": false,
     "input": [
      "w1 = 0.9 * we1\n",
      "_KE1 = _K - w1**2 * _M\n",
      "print _KE1"
     ],
     "language": "python",
     "metadata": {},
     "outputs": [
      {
       "output_type": "stream",
       "stream": "stdout",
       "text": [
        "[[ 10074.02666667      0.              0.        ]\n",
        " [     0.           8344.78814815  -9193.33333333]\n",
        " [     0.          -9193.33333333   5320.        ]]\n"
       ]
      }
     ],
     "prompt_number": 16
    },
    {
     "cell_type": "code",
     "collapsed": false,
     "input": [
      "F14 = _F14 = matrix(statik.F_eingesp(E, I, l14, u, w1, p0)).T\n",
      "\n",
      "print _F14"
     ],
     "language": "python",
     "metadata": {},
     "outputs": [
      {
       "output_type": "stream",
       "stream": "stdout",
       "text": [
        "[[ 0.        ]\n",
        " [-1.64488823]\n",
        " [-0.64529427]]\n"
       ]
      }
     ],
     "prompt_number": 19
    },
    {
     "cell_type": "code",
     "collapsed": false,
     "input": [
      "inv(_KE1) * -_F14"
     ],
     "language": "python",
     "metadata": {},
     "outputs": [
      {
       "metadata": {},
       "output_type": "pyout",
       "prompt_number": 20,
       "text": [
        "matrix([[ 0.        ],\n",
        "        [-0.00036595],\n",
        "        [-0.0005111 ]])"
       ]
      }
     ],
     "prompt_number": 20
    },
    {
     "cell_type": "code",
     "collapsed": false,
     "input": [],
     "language": "python",
     "metadata": {},
     "outputs": []
    }
   ],
   "metadata": {}
  }
 ]
}