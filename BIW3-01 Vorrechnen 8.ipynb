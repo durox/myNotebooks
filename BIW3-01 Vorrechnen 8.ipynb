{
 "metadata": {
  "name": ""
 },
 "nbformat": 3,
 "nbformat_minor": 0,
 "worksheets": [
  {
   "cells": [
    {
     "cell_type": "code",
     "collapsed": false,
     "input": [
      "import statik\n",
      "import sympy as sy"
     ],
     "language": "python",
     "metadata": {},
     "outputs": [],
     "prompt_number": 1
    },
    {
     "cell_type": "code",
     "collapsed": false,
     "input": [
      "E = 2.1E8\n",
      "I = 3.0E-4\n",
      "A = 5.0E-4\n",
      "u = 1.5       # Stabmasse\n",
      "\n",
      "px = 1.0\n",
      "\n",
      "l12 = l13 = sqrt(3**2 + 4**2)\n",
      "l14 = 9.0\n",
      "\n",
      "alpha = degrees(arctan(4. / 3.))"
     ],
     "language": "python",
     "metadata": {},
     "outputs": [],
     "prompt_number": 2
    },
    {
     "cell_type": "code",
     "collapsed": false,
     "input": [
      "K121 = statik.KT_gelenk(E, A, I, l12, u, 'kik')\n",
      "K131 = statik.KT_gelenk(E, A, I, l13, u, 'kik')\n",
      "K141 = statik.KT_eingesp(E, A, I, l14, u, 'kik')\n",
      "\n",
      "print K121\n",
      "print K131\n",
      "print K141\n",
      "\n",
      "M121 = statik.MT_gelenk(E, A, I, l12, u, 'kik')\n",
      "M131 = statik.MT_gelenk(E, A, I, l13, u, 'kik')\n",
      "M141 = statik.MT_eingesp(E, A, I, l14, u, 'kik')\n",
      "\n",
      "print M121\n",
      "print M131\n",
      "print M141"
     ],
     "language": "python",
     "metadata": {},
     "outputs": [
      {
       "output_type": "stream",
       "stream": "stdout",
       "text": [
        "[[  1.40000000e+19   0.00000000e+00   0.00000000e+00]\n",
        " [  0.00000000e+00   1.51200000e+03   0.00000000e+00]\n",
        " [  0.00000000e+00   0.00000000e+00   0.00000000e+00]]\n",
        "[[  1.40000000e+19   0.00000000e+00   0.00000000e+00]\n",
        " [  0.00000000e+00   1.51200000e+03   0.00000000e+00]\n",
        " [  0.00000000e+00   0.00000000e+00   0.00000000e+00]]\n",
        "[[  2.52000000e+19   0.00000000e+00   0.00000000e+00]\n",
        " [  0.00000000e+00   1.03703704e+03  -4.66666667e+03]\n",
        " [  0.00000000e+00  -4.66666667e+03   2.80000000e+04]]\n",
        "[[ 2.5         0.          0.        ]\n",
        " [ 0.          1.76785714  0.        ]\n",
        " [ 0.          0.          0.        ]]\n",
        "[[ 2.5         0.          0.        ]\n",
        " [ 0.          1.76785714  0.        ]\n",
        " [ 0.          0.          0.        ]]\n",
        "[[  4.5          0.           0.        ]\n",
        " [  0.           5.01428571  -6.36428571]\n",
        " [  0.          -6.36428571  10.41428571]]\n"
       ]
      }
     ],
     "prompt_number": 3
    },
    {
     "cell_type": "code",
     "collapsed": false,
     "input": [
      "T12 = statik.T(radians(360. - alpha))\n",
      "T13 = statik.T(radians(alpha))\n",
      "T14 = statik.T(radians(90.))"
     ],
     "language": "python",
     "metadata": {},
     "outputs": [],
     "prompt_number": 4
    },
    {
     "cell_type": "code",
     "collapsed": false,
     "input": [
      "_K121 = T12 * K121 * T12.T\n",
      "_K131 = T13 * K131 * T13.T\n",
      "_K141 = T14 * K141 * T14.T\n",
      "\n",
      "print _K121\n",
      "print _K131\n",
      "print _K141\n",
      "\n",
      "_M121 = T12 * M121 * T12.T\n",
      "_M131 = T13 * M131 * T13.T\n",
      "_M141 = T14 * M141 * T14.T\n",
      "\n",
      "print _M121\n",
      "print _M131\n",
      "print _M141"
     ],
     "language": "python",
     "metadata": {},
     "outputs": [
      {
       "output_type": "stream",
       "stream": "stdout",
       "text": [
        "[[  5.04000000e+18   6.72000000e+18   0.00000000e+00]\n",
        " [  6.72000000e+18   8.96000000e+18   0.00000000e+00]\n",
        " [  0.00000000e+00   0.00000000e+00   0.00000000e+00]]\n",
        "[[  5.04000000e+18  -6.72000000e+18   0.00000000e+00]\n",
        " [ -6.72000000e+18   8.96000000e+18   0.00000000e+00]\n",
        " [  0.00000000e+00   0.00000000e+00   0.00000000e+00]]\n",
        "[[  1.03703704e+03   0.00000000e+00  -4.66666667e+03]\n",
        " [  0.00000000e+00   2.52000000e+19   0.00000000e+00]\n",
        " [ -4.66666667e+03   0.00000000e+00   2.80000000e+04]]\n",
        "[[ 2.03142857  0.35142857  0.        ]\n",
        " [ 0.35142857  2.23642857  0.        ]\n",
        " [ 0.          0.          0.        ]]\n",
        "[[ 2.03142857 -0.35142857  0.        ]\n",
        " [-0.35142857  2.23642857  0.        ]\n",
        " [ 0.          0.          0.        ]]\n",
        "[[  5.01428571   0.          -6.36428571]\n",
        " [  0.           4.5          0.        ]\n",
        " [ -6.36428571   0.          10.41428571]]\n"
       ]
      }
     ],
     "prompt_number": 5
    },
    {
     "cell_type": "code",
     "collapsed": false,
     "input": [
      "_K = _K121 + _K131 + _K141\n",
      "_M = _M121 + _M131 + _M141\n",
      "print _K\n",
      "print _M"
     ],
     "language": "python",
     "metadata": {},
     "outputs": [
      {
       "output_type": "stream",
       "stream": "stdout",
       "text": [
        "[[  1.00800000e+19   0.00000000e+00  -4.66666667e+03]\n",
        " [  0.00000000e+00   4.31200000e+19   0.00000000e+00]\n",
        " [ -4.66666667e+03   0.00000000e+00   2.80000000e+04]]\n",
        "[[  9.07714286   0.          -6.36428571]\n",
        " [  0.           8.97285714   0.        ]\n",
        " [ -6.36428571   0.          10.41428571]]\n"
       ]
      }
     ],
     "prompt_number": 6
    },
    {
     "cell_type": "code",
     "collapsed": false,
     "input": [
      "w = sy.Symbol('w')\n",
      "W = sy.Matrix(_K) - w**2 * sy.Matrix(_M)\n",
      "#print W\n",
      "#d = W.det()\n",
      "d = W[0,0]*W[1,1]*W[2,2] - W[0,2] * W[1,1] * W[2,0]\n",
      "print d.simplify()"
     ],
     "language": "python",
     "metadata": {},
     "outputs": [
      {
       "output_type": "stream",
       "stream": "stdout",
       "text": [
        "-484.783969198251*w**6 + 3.27161453142857e+21*w**4 - 4.52656512000001e+39*w**2 + 1.21701888e+43\n"
       ]
      }
     ],
     "prompt_number": 11
    },
    {
     "cell_type": "code",
     "collapsed": false,
     "input": [
      "# C=0 (symmetrisch)\n",
      "T1 = W[1,1]\n",
      "print T1\n",
      "sy.solve(T1)"
     ],
     "language": "python",
     "metadata": {},
     "outputs": [
      {
       "output_type": "stream",
       "stream": "stdout",
       "text": [
        "-8.97285714285714*w**2 + 4.312e+19\n"
       ]
      },
      {
       "metadata": {},
       "output_type": "pyout",
       "prompt_number": 13,
       "text": [
        "[2192168835.45779, -2192168835.45779]"
       ]
      }
     ],
     "prompt_number": 13
    },
    {
     "cell_type": "code",
     "collapsed": false,
     "input": [
      "# AD-B**2 = 0\n",
      "T2 = W[0,0] * W[2,2] - W[0,2]**2\n",
      "print T2.simplify()\n",
      "sy.solve(T2)"
     ],
     "language": "python",
     "metadata": {},
     "outputs": [
      {
       "output_type": "stream",
       "stream": "stdout",
       "text": [
        "54.0278265306122*w**4 - 1.04976e+20*w**2 + 2.8224e+23\n"
       ]
      },
      {
       "metadata": {},
       "output_type": "pyout",
       "prompt_number": 17,
       "text": [
        "[-51.8518518518518, 1393914904.44813, 51.8518518518518, -1393914904.44813]"
       ]
      }
     ],
     "prompt_number": 17
    },
    {
     "cell_type": "code",
     "collapsed": false,
     "input": [
      "sy.lambdify(w, T2)(51.85)"
     ],
     "language": "python",
     "metadata": {},
     "outputs": [
      {
       "metadata": {},
       "output_type": "pyout",
       "prompt_number": 24,
       "text": [
        "2.0159640000215683e+19"
       ]
      }
     ],
     "prompt_number": 24
    },
    {
     "cell_type": "code",
     "collapsed": false,
     "input": [],
     "language": "python",
     "metadata": {},
     "outputs": []
    }
   ],
   "metadata": {}
  }
 ]
}