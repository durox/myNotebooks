{
 "metadata": {
  "name": ""
 },
 "nbformat": 3,
 "nbformat_minor": 0,
 "worksheets": [
  {
   "cells": [
    {
     "cell_type": "code",
     "collapsed": false,
     "input": [
      "import statik"
     ],
     "language": "python",
     "metadata": {},
     "outputs": [],
     "prompt_number": 1
    },
    {
     "cell_type": "code",
     "collapsed": false,
     "input": [
      "E = 2.1E8\n",
      "I = 3.0E-4\n",
      "A = 5.0E-4\n",
      "my = 1.5       # Stabmasse\n",
      "\n",
      "px = 1.0\n",
      "\n",
      "l12 = l13 = sqrt(3**2 + 4**2)\n",
      "l14 = 9.0\n",
      "\n",
      "alpha = degrees(arctan(4. / 3.))"
     ],
     "language": "python",
     "metadata": {},
     "outputs": [],
     "prompt_number": 2
    },
    {
     "cell_type": "code",
     "collapsed": false,
     "input": [
      "K121 = statik.K_gelenk(E, A, I, l12, 'kik')\n",
      "K131 = statik.K_gelenk(E, A, I, l13, 'kik')\n",
      "K141 = statik.K_eingesp(E, A, I, l14, 'kik')"
     ],
     "language": "python",
     "metadata": {},
     "outputs": [],
     "prompt_number": 3
    },
    {
     "cell_type": "code",
     "collapsed": false,
     "input": [
      "T12 = statik.T(radians(360. - alpha))\n",
      "T13 = statik.T(radians(alpha))\n",
      "T14 = statik.T(radians(90.))"
     ],
     "language": "python",
     "metadata": {},
     "outputs": [],
     "prompt_number": 4
    },
    {
     "cell_type": "code",
     "collapsed": false,
     "input": [
      "_K121 = T12 * K121 * T12.T\n",
      "_K131 = T13 * K131 * T13.T\n",
      "_K141 = T14 * K141 * T14.T"
     ],
     "language": "python",
     "metadata": {},
     "outputs": [],
     "prompt_number": 5
    },
    {
     "cell_type": "code",
     "collapsed": false,
     "input": [
      "_K = _K121 + _K131 + _K141\n",
      "_K"
     ],
     "language": "python",
     "metadata": {},
     "outputs": [
      {
       "metadata": {},
       "output_type": "pyout",
       "prompt_number": 7,
       "text": [
        "matrix([[ 18092.39703704,      0.        ,  -4666.66666667],\n",
        "        [     0.        ,  39635.30666667,      0.        ],\n",
        "        [ -4666.66666667,      0.        ,  28000.        ]])"
       ]
      }
     ],
     "prompt_number": 7
    },
    {
     "cell_type": "code",
     "collapsed": false,
     "input": [],
     "language": "python",
     "metadata": {},
     "outputs": []
    }
   ],
   "metadata": {}
  }
 ]
}