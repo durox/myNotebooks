{
 "metadata": {
  "name": ""
 },
 "nbformat": 3,
 "nbformat_minor": 0,
 "worksheets": [
  {
   "cells": [
    {
     "cell_type": "code",
     "collapsed": false,
     "input": [
      "import statik\n",
      "import sympy as sy"
     ],
     "language": "python",
     "metadata": {},
     "outputs": [],
     "prompt_number": 1
    },
    {
     "cell_type": "code",
     "collapsed": false,
     "input": [
      "def positive(a):\n",
      "    l = list()\n",
      "    for i in a:\n",
      "        if i > 0:\n",
      "            l.append(i)\n",
      "    return array(l, dtype=float64)"
     ],
     "language": "python",
     "metadata": {},
     "outputs": [],
     "prompt_number": 2
    },
    {
     "cell_type": "code",
     "collapsed": false,
     "input": [
      "E = 2.1E8\n",
      "I = 3.0E-4\n",
      "A = 5.0E-4\n",
      "u = 1.5       # Stabmasse\n",
      "\n",
      "p0 = 1.0\n",
      "\n",
      "l12 = l13 = sqrt(3**2 + 4**2)\n",
      "l14 = 9.0\n",
      "\n",
      "alpha = degrees(arctan(4. / 3.))"
     ],
     "language": "python",
     "metadata": {},
     "outputs": [],
     "prompt_number": 3
    },
    {
     "cell_type": "code",
     "collapsed": false,
     "input": [
      "K121 = statik.KT_gelenk(E, A, I, l12, u, 'kik')\n",
      "K131 = statik.KT_gelenk(E, A, I, l13, u, 'kik')\n",
      "K141 = statik.KT_eingesp(E, A, I, l14, u, 'iki')\n",
      "\n",
      "print K121\n",
      "print K131\n",
      "print K141\n",
      "\n",
      "M121 = statik.MT_gelenk(E, A, I, l12, u, 'kik')\n",
      "M131 = statik.MT_gelenk(E, A, I, l13, u, 'kik')\n",
      "M141 = statik.MT_eingesp(E, A, I, l14, u, 'iki')\n",
      "\n",
      "print M121\n",
      "print M131\n",
      "print M141"
     ],
     "language": "python",
     "metadata": {},
     "outputs": [
      {
       "output_type": "stream",
       "stream": "stdout",
       "text": [
        "[[ 21000.      0.      0.]\n",
        " [     0.   1512.      0.]\n",
        " [     0.      0.      0.]]\n",
        "[[ 21000.      0.      0.]\n",
        " [     0.   1512.      0.]\n",
        " [     0.      0.      0.]]\n",
        "[[ 11666.66666667      0.              0.        ]\n",
        " [     0.           1037.03703704   4666.66666667]\n",
        " [     0.           4666.66666667  28000.        ]]\n",
        "[[ 2.5         0.          0.        ]\n",
        " [ 0.          1.76785714  0.        ]\n",
        " [ 0.          0.          0.        ]]\n",
        "[[ 2.5         0.          0.        ]\n",
        " [ 0.          1.76785714  0.        ]\n",
        " [ 0.          0.          0.        ]]\n",
        "[[  4.5          0.           0.        ]\n",
        " [  0.           5.01428571   6.36428571]\n",
        " [  0.           6.36428571  10.41428571]]\n"
       ]
      }
     ],
     "prompt_number": 4
    },
    {
     "cell_type": "code",
     "collapsed": false,
     "input": [
      "T12 = statik.T(radians(360. - alpha))\n",
      "T13 = statik.T(radians(alpha))\n",
      "T14 = statik.T(radians(270.))"
     ],
     "language": "python",
     "metadata": {},
     "outputs": [],
     "prompt_number": 5
    },
    {
     "cell_type": "code",
     "collapsed": false,
     "input": [
      "_K121 = T12 * K121 * T12.T\n",
      "_K131 = T13 * K131 * T13.T\n",
      "_K141 = T14 * K141 * T14.T\n",
      "#_K141 = K141\n",
      "\n",
      "print _K121\n",
      "print _K131\n",
      "print _K141\n",
      "\n",
      "_M121 = T12 * M121 * T12.T\n",
      "_M131 = T13 * M131 * T13.T\n",
      "_M141 = T14 * M141 * T14.T\n",
      "#_M141 = M141\n",
      "\n",
      "print _M121\n",
      "print _M131\n",
      "print _M141"
     ],
     "language": "python",
     "metadata": {},
     "outputs": [
      {
       "output_type": "stream",
       "stream": "stdout",
       "text": [
        "[[  8527.68   9354.24      0.  ]\n",
        " [  9354.24  13984.32      0.  ]\n",
        " [     0.        0.        0.  ]]\n",
        "[[  8527.68  -9354.24      0.  ]\n",
        " [ -9354.24  13984.32      0.  ]\n",
        " [     0.        0.        0.  ]]\n",
        "[[  1037.03703704      0.          -4666.66666667]\n",
        " [     0.          11666.66666667      0.        ]\n",
        " [ -4666.66666667      0.          28000.        ]]\n",
        "[[ 2.03142857  0.35142857  0.        ]\n",
        " [ 0.35142857  2.23642857  0.        ]\n",
        " [ 0.          0.          0.        ]]\n",
        "[[ 2.03142857 -0.35142857  0.        ]\n",
        " [-0.35142857  2.23642857  0.        ]\n",
        " [ 0.          0.          0.        ]]\n",
        "[[  5.01428571   0.          -6.36428571]\n",
        " [  0.           4.5          0.        ]\n",
        " [ -6.36428571   0.          10.41428571]]\n"
       ]
      }
     ],
     "prompt_number": 6
    },
    {
     "cell_type": "code",
     "collapsed": false,
     "input": [
      "_K = _K121 + _K131 + _K141\n",
      "_M = _M121 + _M131 + _M141\n",
      "print _K\n",
      "print _M"
     ],
     "language": "python",
     "metadata": {},
     "outputs": [
      {
       "output_type": "stream",
       "stream": "stdout",
       "text": [
        "[[ 18092.39703704      0.          -4666.66666667]\n",
        " [     0.          39635.30666667      0.        ]\n",
        " [ -4666.66666667      0.          28000.        ]]\n",
        "[[  9.07714286   0.          -6.36428571]\n",
        " [  0.           8.97285714   0.        ]\n",
        " [ -6.36428571   0.          10.41428571]]\n"
       ]
      }
     ],
     "prompt_number": 7
    },
    {
     "cell_type": "code",
     "collapsed": false,
     "input": [
      "w = sy.Symbol('w')\n",
      "W = sy.Matrix(_K) - w**2 * sy.Matrix(_M)\n",
      "#print W\n",
      "#d = W.det()\n",
      "d = W[0,0]*W[1,1]*W[2,2] - W[0,2] * W[1,1] * W[1,0]\n",
      "print d.simplify()\n",
      "sy.solve(d)"
     ],
     "language": "python",
     "metadata": {},
     "outputs": [
      {
       "output_type": "stream",
       "stream": "stdout",
       "text": [
        "-848.221765189504*w**6 + 7718004.85083429*w**4 - 22087303757.8521*w**2 + 20078735737145.5\n"
       ]
      },
      {
       "metadata": {},
       "output_type": "pyout",
       "prompt_number": 8,
       "text": [
        "[44.6450660317911,\n",
        " -44.6450660317911,\n",
        " -66.4623563560394,\n",
        " 66.4623563560394,\n",
        " 51.8518518518519,\n",
        " -51.8518518518519]"
       ]
      }
     ],
     "prompt_number": 8
    },
    {
     "cell_type": "code",
     "collapsed": false,
     "input": [
      "# C=0 (symmetrisch)\n",
      "T1 = W[1,1]\n",
      "print T1\n",
      "wT1 = sy.solve(T1)\n",
      "print wT1"
     ],
     "language": "python",
     "metadata": {},
     "outputs": [
      {
       "output_type": "stream",
       "stream": "stdout",
       "text": [
        "-8.97285714285714*w**2 + 39635.3066666667\n",
        "[66.4623563560394, -66.4623563560394]"
       ]
      },
      {
       "output_type": "stream",
       "stream": "stdout",
       "text": [
        "\n"
       ]
      }
     ],
     "prompt_number": 9
    },
    {
     "cell_type": "code",
     "collapsed": false,
     "input": [
      "# AD-B**2 = 0\n",
      "T2 = W[0,0] * W[2,2] - W[0,2]**2\n",
      "print T2.simplify()\n",
      "wT2 = sy.solve(T2)\n",
      "print wT2"
     ],
     "language": "python",
     "metadata": {},
     "outputs": [
      {
       "output_type": "stream",
       "stream": "stdout",
       "text": [
        "54.0278265306122*w**4 - 383179.392*w**2 + 484809339.259259\n",
        "[-40.5994151289076, -73.7831110272991, 73.7831110272991, 40.5994151289076]"
       ]
      },
      {
       "output_type": "stream",
       "stream": "stdout",
       "text": [
        "\n"
       ]
      }
     ],
     "prompt_number": 10
    },
    {
     "cell_type": "code",
     "collapsed": false,
     "input": [
      "wE = positive(concatenate([wT1, wT2]))\n",
      "print wE"
     ],
     "language": "python",
     "metadata": {},
     "outputs": [
      {
       "output_type": "stream",
       "stream": "stdout",
       "text": [
        "[ 66.46235636  73.78311103  40.59941513]\n"
       ]
      }
     ],
     "prompt_number": 11
    },
    {
     "cell_type": "code",
     "collapsed": false,
     "input": [
      "we1 = wE[2]\n",
      "we2 = wE[0]\n",
      "we3 = wE[1]"
     ],
     "language": "python",
     "metadata": {},
     "outputs": [],
     "prompt_number": 12
    },
    {
     "cell_type": "code",
     "collapsed": false,
     "input": [
      "KEV1 = _K - we1**2 * _M\n",
      "ve1 = matrix([1, 0, -KEV1[0,2]/KEV1[2,2]]).T\n",
      "print ve1 / max(ve1)"
     ],
     "language": "python",
     "metadata": {},
     "outputs": [
      {
       "output_type": "stream",
       "stream": "stdout",
       "text": [
        "[[ 1.        ]\n",
        " [ 0.        ]\n",
        " [-0.53753588]]\n"
       ]
      }
     ],
     "prompt_number": 13
    },
    {
     "cell_type": "code",
     "collapsed": false,
     "input": [
      "KEV2 = _K - we2**2 * _M\n",
      "ve2 = matrix([1, 0, -KEV2[0,2]/KEV2[2,2]]).T\n",
      "print ve2 / max(absolute(ve2))"
     ],
     "language": "python",
     "metadata": {},
     "outputs": [
      {
       "output_type": "stream",
       "stream": "stdout",
       "text": [
        "[[ 0.76782797]\n",
        " [ 0.        ]\n",
        " [ 1.        ]]\n"
       ]
      }
     ],
     "prompt_number": 14
    },
    {
     "cell_type": "code",
     "collapsed": false,
     "input": [
      "w1 = 0.9 * we1\n",
      "_KE1 = _K - w1**2 * _M\n",
      "print _KE1"
     ],
     "language": "python",
     "metadata": {},
     "outputs": [
      {
       "output_type": "stream",
       "stream": "stdout",
       "text": [
        "[[  5973.20286334      0.           3830.50205285]\n",
        " [     0.          27655.34780532      0.        ]\n",
        " [  3830.50205285      0.          14095.54209533]]\n"
       ]
      }
     ],
     "prompt_number": 15
    },
    {
     "cell_type": "code",
     "collapsed": false,
     "input": [
      "F14 = matrix(statik.F_eingesp(E, I, l14, u, w1, p0)).T\n",
      "_F14 = T14 * F14\n",
      "\n",
      "print _F14"
     ],
     "language": "python",
     "metadata": {},
     "outputs": [
      {
       "output_type": "stream",
       "stream": "stdout",
       "text": [
        "[[ 1.64488823]\n",
        " [ 0.        ]\n",
        " [-0.64529427]]\n"
       ]
      }
     ],
     "prompt_number": 16
    },
    {
     "cell_type": "code",
     "collapsed": false,
     "input": [
      "inv(_KE1) * -_F14"
     ],
     "language": "python",
     "metadata": {},
     "outputs": [
      {
       "metadata": {},
       "output_type": "pyout",
       "prompt_number": 17,
       "text": [
        "matrix([[-0.00036905],\n",
        "        [ 0.        ],\n",
        "        [ 0.00014607]])"
       ]
      }
     ],
     "prompt_number": 17
    },
    {
     "cell_type": "code",
     "collapsed": false,
     "input": [],
     "language": "python",
     "metadata": {},
     "outputs": []
    }
   ],
   "metadata": {}
  }
 ]
}