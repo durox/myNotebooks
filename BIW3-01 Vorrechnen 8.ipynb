{
 "metadata": {
  "name": ""
 },
 "nbformat": 3,
 "nbformat_minor": 0,
 "worksheets": [
  {
   "cells": [
    {
     "cell_type": "code",
     "collapsed": false,
     "input": [
      "import statik\n",
      "import sympy as sy"
     ],
     "language": "python",
     "metadata": {},
     "outputs": [],
     "prompt_number": 1
    },
    {
     "cell_type": "code",
     "collapsed": false,
     "input": [
      "def positive(a):\n",
      "    l = list()\n",
      "    for i in a:\n",
      "        if i > 0:\n",
      "            l.append(i)\n",
      "    return array(l, dtype=float64)"
     ],
     "language": "python",
     "metadata": {},
     "outputs": [],
     "prompt_number": 2
    },
    {
     "cell_type": "code",
     "collapsed": false,
     "input": [
      "E = 2.1E8\n",
      "I = 3.0E-4\n",
      "A = 5.0E-4\n",
      "u = 1.5       # Stabmasse\n",
      "\n",
      "p0 = 1.0\n",
      "\n",
      "l12 = l13 = sqrt(3**2 + 4**2)\n",
      "l14 = 9.0\n",
      "\n",
      "alpha = degrees(arctan(4. / 3.))"
     ],
     "language": "python",
     "metadata": {},
     "outputs": [],
     "prompt_number": 3
    },
    {
     "cell_type": "code",
     "collapsed": false,
     "input": [
      "K121 = statik.KT_gelenk(E, A, I, l12, u, 'kik')\n",
      "K131 = statik.KT_gelenk(E, A, I, l13, u, 'kik')\n",
      "K141 = statik.KT_eingesp(E, A, I, l14, u, 'iki')\n",
      "\n",
      "print K121\n",
      "print K131\n",
      "print K141\n",
      "\n",
      "M121 = statik.MT_gelenk(E, A, I, l12, u, 'kik')\n",
      "M131 = statik.MT_gelenk(E, A, I, l13, u, 'kik')\n",
      "M141 = statik.MT_eingesp(E, A, I, l14, u, 'iki')\n",
      "\n",
      "print M121\n",
      "print M131\n",
      "print M141"
     ],
     "language": "python",
     "metadata": {},
     "outputs": [
      {
       "output_type": "stream",
       "stream": "stdout",
       "text": [
        "[[ 21000.      0.      0.]\n",
        " [     0.   1512.      0.]\n",
        " [     0.      0.      0.]]\n",
        "[[ 21000.      0.      0.]\n",
        " [     0.   1512.      0.]\n",
        " [     0.      0.      0.]]\n",
        "[[ 11666.66666667      0.              0.        ]\n",
        " [     0.           1037.03703704   4666.66666667]\n",
        " [     0.           4666.66666667  28000.        ]]\n",
        "[[ 2.5         0.          0.        ]\n",
        " [ 0.          1.76785714  0.        ]\n",
        " [ 0.          0.          0.        ]]\n",
        "[[ 2.5         0.          0.        ]\n",
        " [ 0.          1.76785714  0.        ]\n",
        " [ 0.          0.          0.        ]]\n",
        "[[  4.5          0.           0.        ]\n",
        " [  0.           5.01428571   6.36428571]\n",
        " [  0.           6.36428571  10.41428571]]\n"
       ]
      }
     ],
     "prompt_number": 4
    },
    {
     "cell_type": "code",
     "collapsed": false,
     "input": [
      "T12 = statik.T(radians(360. - alpha))\n",
      "T13 = statik.T(radians(alpha))\n",
      "T14 = statik.T(radians(0))"
     ],
     "language": "python",
     "metadata": {},
     "outputs": [],
     "prompt_number": 5
    },
    {
     "cell_type": "code",
     "collapsed": false,
     "input": [
      "_K121 = T12 * K121 * T12.T\n",
      "_K131 = T13 * K131 * T13.T\n",
      "_K141 = T14 * K141 * T14.T\n",
      "#_K141 = K141\n",
      "\n",
      "print _K121\n",
      "print _K131\n",
      "print _K141\n",
      "\n",
      "_M121 = T12 * M121 * T12.T\n",
      "_M131 = T13 * M131 * T13.T\n",
      "_M141 = T14 * M141 * T14.T\n",
      "#_M141 = M141\n",
      "\n",
      "print _M121\n",
      "print _M131\n",
      "print _M141"
     ],
     "language": "python",
     "metadata": {},
     "outputs": [
      {
       "output_type": "stream",
       "stream": "stdout",
       "text": [
        "[[  8527.68   9354.24      0.  ]\n",
        " [  9354.24  13984.32      0.  ]\n",
        " [     0.        0.        0.  ]]\n",
        "[[  8527.68  -9354.24      0.  ]\n",
        " [ -9354.24  13984.32      0.  ]\n",
        " [     0.        0.        0.  ]]\n",
        "[[ 11666.66666667      0.              0.        ]\n",
        " [     0.           1037.03703704   4666.66666667]\n",
        " [     0.           4666.66666667  28000.        ]]\n",
        "[[ 2.03142857  0.35142857  0.        ]\n",
        " [ 0.35142857  2.23642857  0.        ]\n",
        " [ 0.          0.          0.        ]]\n",
        "[[ 2.03142857 -0.35142857  0.        ]\n",
        " [-0.35142857  2.23642857  0.        ]\n",
        " [ 0.          0.          0.        ]]\n",
        "[[  4.5          0.           0.        ]\n",
        " [  0.           5.01428571   6.36428571]\n",
        " [  0.           6.36428571  10.41428571]]\n"
       ]
      }
     ],
     "prompt_number": 6
    },
    {
     "cell_type": "code",
     "collapsed": false,
     "input": [
      "_K = _K121 + _K131 + _K141\n",
      "_M = _M121 + _M131 + _M141\n",
      "print _K\n",
      "print _M"
     ],
     "language": "python",
     "metadata": {},
     "outputs": [
      {
       "output_type": "stream",
       "stream": "stdout",
       "text": [
        "[[ 28722.02666667      0.              0.        ]\n",
        " [     0.          29005.67703704   4666.66666667]\n",
        " [     0.           4666.66666667  28000.        ]]\n",
        "[[  8.56285714   0.           0.        ]\n",
        " [  0.           9.48714286   6.36428571]\n",
        " [  0.           6.36428571  10.41428571]]\n"
       ]
      }
     ],
     "prompt_number": 7
    },
    {
     "cell_type": "code",
     "collapsed": false,
     "input": [
      "w = sy.Symbol('w')\n",
      "W = sy.Matrix(_K) - w**2 * sy.Matrix(_M)\n",
      "#print W\n",
      "#d = W.det()\n",
      "d = W[0,0]*W[1,1]*W[2,2] - W[1,1] * W[1,2]**2\n",
      "print d.simplify()\n",
      "sy.solve(d)"
     ],
     "language": "python",
     "metadata": {},
     "outputs": [
      {
       "output_type": "stream",
       "stream": "stdout",
       "text": [
        "-461.757345874636*w**6 + 5960651.13792*w**4 - 21330734665.1113*w**2 + 22695172032783.4\n"
       ]
      },
      {
       "metadata": {},
       "output_type": "pyout",
       "prompt_number": 32,
       "text": [
        "[45.4368181014529,\n",
        " 55.2934621058652,\n",
        " -88.2425681575579,\n",
        " 88.2425681575579,\n",
        " -45.4368181014529,\n",
        " -55.2934621058652]"
       ]
      }
     ],
     "prompt_number": 32
    },
    {
     "cell_type": "code",
     "collapsed": false,
     "input": [
      "# A=0 (symmetrisch)\n",
      "T1 = W[0,0]\n",
      "print T1\n",
      "wT1 = sy.solve(T1)\n",
      "print wT1"
     ],
     "language": "python",
     "metadata": {},
     "outputs": [
      {
       "output_type": "stream",
       "stream": "stdout",
       "text": [
        "-8.56285714285714*w**2 + 28722.0266666667\n",
        "[-57.9159508985184, 57.9159508985184]"
       ]
      },
      {
       "output_type": "stream",
       "stream": "stdout",
       "text": [
        "\n"
       ]
      }
     ],
     "prompt_number": 40
    },
    {
     "cell_type": "code",
     "collapsed": false,
     "input": [
      "# BD-C**2 = 0\n",
      "T2 = W[1,1] * W[2,2] - W[1,2]**2\n",
      "print T2.simplify()\n",
      "wT2 = sy.solve(T2)\n",
      "print wT2"
     ],
     "language": "python",
     "metadata": {},
     "outputs": [
      {
       "output_type": "stream",
       "stream": "stdout",
       "text": [
        "58.2976836734694*w**4 - 508313.408*w**2 + 790381179.259259\n",
        "[-45.0042235194905, -81.8162127759847, 81.8162127759847, 45.0042235194905]"
       ]
      },
      {
       "output_type": "stream",
       "stream": "stdout",
       "text": [
        "\n"
       ]
      }
     ],
     "prompt_number": 41
    },
    {
     "cell_type": "code",
     "collapsed": false,
     "input": [
      "wE = positive(concatenate([wT1, wT2]))\n",
      "print wE"
     ],
     "language": "python",
     "metadata": {},
     "outputs": [
      {
       "output_type": "stream",
       "stream": "stdout",
       "text": [
        "[ 57.9159509   81.81621278  45.00422352]\n"
       ]
      }
     ],
     "prompt_number": 42
    },
    {
     "cell_type": "code",
     "collapsed": false,
     "input": [
      "we1 = wE[2]\n",
      "we2 = wE[0]\n",
      "we3 = wE[1]"
     ],
     "language": "python",
     "metadata": {},
     "outputs": [],
     "prompt_number": 43
    },
    {
     "cell_type": "code",
     "collapsed": false,
     "input": [
      "KEV1 = _K - we1**2 * _M\n",
      "ve1 = matrix([0, 1, -KEV1[1,2]/KEV1[2,2]]).T\n",
      "print ve1 / max(ve1)"
     ],
     "language": "python",
     "metadata": {},
     "outputs": [
      {
       "output_type": "stream",
       "stream": "stdout",
       "text": [
        "[[ 0.        ]\n",
        " [ 0.83993073]\n",
        " [ 1.        ]]\n"
       ]
      }
     ],
     "prompt_number": 50
    },
    {
     "cell_type": "code",
     "collapsed": false,
     "input": [
      "KEV2 = _K - we2**2 * _M\n",
      "ve2 = matrix([0, 1, -KEV2[1,2]/KEV2[2,2]]).T\n",
      "print ve2 / max(absolute(ve2))"
     ],
     "language": "python",
     "metadata": {},
     "outputs": [
      {
       "output_type": "stream",
       "stream": "stdout",
       "text": [
        "[[ 0.        ]\n",
        " [ 0.41557962]\n",
        " [-1.        ]]\n"
       ]
      }
     ],
     "prompt_number": 52
    },
    {
     "cell_type": "code",
     "collapsed": false,
     "input": [
      "w1 = 0.9 * we1\n",
      "_KE1 = _K - w1**2 * _M\n",
      "print _KE1"
     ],
     "language": "python",
     "metadata": {},
     "outputs": [
      {
       "output_type": "stream",
       "stream": "stdout",
       "text": [
        "[[ 14674.16365715      0.              0.        ]\n",
        " [     0.          13441.46978875  -5774.31259717]\n",
        " [     0.          -5774.31259717  10914.76120464]]\n"
       ]
      }
     ],
     "prompt_number": 44
    },
    {
     "cell_type": "code",
     "collapsed": false,
     "input": [
      "F14 = _F14 = matrix(statik.F_eingesp(E, I, l14, u, w1, p0)).T\n",
      "\n",
      "print _F14"
     ],
     "language": "python",
     "metadata": {},
     "outputs": [
      {
       "output_type": "stream",
       "stream": "stdout",
       "text": [
        "[[ 0.        ]\n",
        " [-1.64488823]\n",
        " [-0.64529427]]\n"
       ]
      }
     ],
     "prompt_number": 45
    },
    {
     "cell_type": "code",
     "collapsed": false,
     "input": [
      "inv(_KE1) * -_F14"
     ],
     "language": "python",
     "metadata": {},
     "outputs": [
      {
       "metadata": {},
       "output_type": "pyout",
       "prompt_number": 46,
       "text": [
        "matrix([[ 0.        ],\n",
        "        [ 0.00019123],\n",
        "        [ 0.00016029]])"
       ]
      }
     ],
     "prompt_number": 46
    },
    {
     "cell_type": "code",
     "collapsed": false,
     "input": [],
     "language": "python",
     "metadata": {},
     "outputs": []
    }
   ],
   "metadata": {}
  }
 ]
}