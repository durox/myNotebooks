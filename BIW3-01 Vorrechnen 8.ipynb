{
 "metadata": {
  "name": ""
 },
 "nbformat": 3,
 "nbformat_minor": 0,
 "worksheets": [
  {
   "cells": [
    {
     "cell_type": "code",
     "collapsed": false,
     "input": [
      "import statik\n",
      "import sympy as sy"
     ],
     "language": "python",
     "metadata": {},
     "outputs": [],
     "prompt_number": 1
    },
    {
     "cell_type": "code",
     "collapsed": false,
     "input": [
      "E = 2.1E8\n",
      "I = 3.0E-4\n",
      "A = 5.0E-4\n",
      "u = 1.5       # Stabmasse\n",
      "\n",
      "px = 1.0\n",
      "\n",
      "l12 = l13 = sqrt(3**2 + 4**2)\n",
      "l14 = 9.0\n",
      "\n",
      "alpha = degrees(arctan(4. / 3.))"
     ],
     "language": "python",
     "metadata": {},
     "outputs": [],
     "prompt_number": 2
    },
    {
     "cell_type": "code",
     "collapsed": false,
     "input": [
      "K121 = statik.KT_gelenk(E, A, I, l12, u, 'kik')\n",
      "K131 = statik.KT_gelenk(E, A, I, l13, u, 'kik')\n",
      "K141 = statik.KT_eingesp(E, A, I, l14, u, 'kik')\n",
      "\n",
      "M121 = statik.MT_gelenk(E, A, I, l12, u, 'kik')\n",
      "M131 = statik.MT_gelenk(E, A, I, l13, u, 'kik')\n",
      "M141 = statik.MT_eingesp(E, A, I, l14, u, 'kik')"
     ],
     "language": "python",
     "metadata": {},
     "outputs": [],
     "prompt_number": 24
    },
    {
     "cell_type": "code",
     "collapsed": false,
     "input": [
      "T12 = statik.T(radians(360. - alpha))\n",
      "T13 = statik.T(radians(alpha))\n",
      "T14 = statik.T(radians(90.))"
     ],
     "language": "python",
     "metadata": {},
     "outputs": [],
     "prompt_number": 25
    },
    {
     "cell_type": "code",
     "collapsed": false,
     "input": [
      "_K121 = T12 * K121 * T12.T\n",
      "_K131 = T13 * K131 * T13.T\n",
      "_K141 = T14 * K141 * T14.T\n",
      "\n",
      "_M121 = T12 * M121 * T12.T\n",
      "_M131 = T13 * M131 * T13.T\n",
      "_M141 = T14 * M141 * T14.T"
     ],
     "language": "python",
     "metadata": {},
     "outputs": [],
     "prompt_number": 26
    },
    {
     "cell_type": "code",
     "collapsed": false,
     "input": [
      "_K = _K121 + _K131 + _K141\n",
      "_M = _M121 + _M131 + _M141\n",
      "print _K, _M"
     ],
     "language": "python",
     "metadata": {},
     "outputs": [
      {
       "output_type": "stream",
       "stream": "stdout",
       "text": [
        "[[  1.00800000e+19   0.00000000e+00  -4.66666667e+03]\n",
        " [  0.00000000e+00   4.31200000e+19   0.00000000e+00]\n",
        " [ -4.66666667e+03   0.00000000e+00   2.80000000e+04]] [[  9.07714286   0.          -6.36428571]\n",
        " [  0.           8.97285714   0.        ]\n",
        " [ -6.36428571   0.          10.41428571]]\n"
       ]
      }
     ],
     "prompt_number": 27
    },
    {
     "cell_type": "code",
     "collapsed": false,
     "input": [
      "w = sy.Symbol('w')\n",
      "W = sy.Matrix(_K) - w**2 * sy.Matrix(_M)\n",
      "W.det()"
     ],
     "language": "python",
     "metadata": {},
     "outputs": [
      {
       "metadata": {},
       "output_type": "pyout",
       "prompt_number": 28,
       "text": [
        "-484.783969198251*w**6 + 3.27161453142857e+21*w**4 - 4.52656512000001e+39*w**2 + 1.21701888e+43"
       ]
      }
     ],
     "prompt_number": 28
    },
    {
     "cell_type": "code",
     "collapsed": false,
     "input": [],
     "language": "python",
     "metadata": {},
     "outputs": []
    }
   ],
   "metadata": {}
  }
 ]
}