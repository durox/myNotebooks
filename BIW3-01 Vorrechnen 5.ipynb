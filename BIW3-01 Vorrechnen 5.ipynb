{
 "metadata": {
  "name": ""
 },
 "nbformat": 3,
 "nbformat_minor": 0,
 "worksheets": [
  {
   "cells": [
    {
     "cell_type": "code",
     "collapsed": false,
     "input": [
      "%pylab\n",
      "import statik\n",
      "import sympy as sp"
     ],
     "language": "python",
     "metadata": {},
     "outputs": [
      {
       "output_type": "stream",
       "stream": "stdout",
       "text": [
        "Using matplotlib backend: TkAgg\n",
        "Populating the interactive namespace from numpy and matplotlib\n"
       ]
      }
     ],
     "prompt_number": 19
    },
    {
     "cell_type": "code",
     "collapsed": false,
     "input": [
      "EI = 4.E3\n",
      "M1 = 3.\n",
      "M2 = 2.\n",
      "M3 = 1.\n",
      "l = 3."
     ],
     "language": "python",
     "metadata": {},
     "outputs": [],
     "prompt_number": 147
    },
    {
     "cell_type": "code",
     "collapsed": false,
     "input": [
      "out = statik.Output()\n",
      "out.addText('EI_R = \\infty')\n",
      "out.addText('EA = \\infty')\n",
      "out.addValue(EI, 'EI_S', 'kNm^2')\n",
      "out.addValue(M1, 'M_r(1)', 't')\n",
      "out.addValue(M2, 'M_r(2)', 't')\n",
      "out.addValue(M3, 'M_r(3)', 't')\n",
      "out.latex()"
     ],
     "language": "python",
     "metadata": {},
     "outputs": [
      {
       "latex": [
        "$$EI_R = \\infty$$\n",
        "$$EA = \\infty$$\n",
        "$$EI_S = 4000.0 kNm^2$$\n",
        "$$M_r(1) = 3.0 t$$\n",
        "$$M_r(2) = 2.0 t$$\n",
        "$$M_r(3) = 1.0 t$$"
       ],
       "metadata": {},
       "output_type": "pyout",
       "prompt_number": 148,
       "text": [
        "<IPython.core.display.Latex at 0x47d2610>"
       ]
      }
     ],
     "prompt_number": 148
    },
    {
     "cell_type": "code",
     "collapsed": false,
     "input": [
      "K_ges = array([[2*12*2*EI/l**3, -12*2*EI/l**3, 0],\n",
      "                [-12*2*EI/l**3, 2*12*2*EI/l**3, -12*2*EI/l**3],\n",
      "                [0, -12*2*EI/l**3, 12*2*EI/l**3]])"
     ],
     "language": "python",
     "metadata": {},
     "outputs": [],
     "prompt_number": 149
    },
    {
     "cell_type": "code",
     "collapsed": false,
     "input": [
      "out = statik.Output()\n",
      "out.addMatrix(K_ges, '\\underline{\\widetilde K}_{ges}')\n",
      "out.latex()"
     ],
     "language": "python",
     "metadata": {},
     "outputs": [
      {
       "latex": [
        "$$\\underline{\\widetilde K}_{ges} = \\begin{bmatrix}\n",
        "  7111.1 & -3555.6 & 0.\\\\\n",
        "  -3555.6 & 7111.1 & -3555.6\\\\\n",
        "  0. & -3555.6 & 3555.6\\\\\n",
        "\\end{bmatrix}$$"
       ],
       "metadata": {},
       "output_type": "pyout",
       "prompt_number": 150,
       "text": [
        "<IPython.core.display.Latex at 0x47d27d0>"
       ]
      }
     ],
     "prompt_number": 150
    },
    {
     "cell_type": "code",
     "collapsed": false,
     "input": [
      "w = sp.symbols('w')\n",
      "\n",
      "K = sp.Matrix(K_ges)\n",
      "M = sp.diag(3, 2, 1)\n",
      "M"
     ],
     "language": "python",
     "metadata": {},
     "outputs": [
      {
       "metadata": {},
       "output_type": "pyout",
       "prompt_number": 173,
       "text": [
        "[3, 0, 0]\n",
        "[0, 2, 0]\n",
        "[0, 0, 1]"
       ]
      }
     ],
     "prompt_number": 173
    },
    {
     "cell_type": "code",
     "collapsed": false,
     "input": [
      "n = (K-w**2*M)\n",
      "n.det()\n",
      "det = n[0,0]*n[1,1]*n[2,2]-n[0,0]*n[1,2]*n[2,1]-n[0,1]*n[1,0]*n[2,2]\n",
      "sp.simplify(det)"
     ],
     "language": "python",
     "metadata": {},
     "outputs": [
      {
       "metadata": {},
       "output_type": "pyout",
       "prompt_number": 155,
       "text": [
        "-6.0*w**6 + 56888.8888888889*w**4 - 126419753.08642*w**2 + 44949245541.8381"
       ]
      }
     ],
     "prompt_number": 155
    },
    {
     "cell_type": "code",
     "collapsed": false,
     "input": [
      "w = sp.solve(det)\n",
      "w"
     ],
     "language": "python",
     "metadata": {},
     "outputs": [
      {
       "metadata": {},
       "output_type": "pyout",
       "prompt_number": 156,
       "text": [
        "[-79.6771484204524,\n",
        " -51.9152738762203,\n",
        " 20.9245750117827,\n",
        " 79.6771484204524,\n",
        " 51.9152738762203,\n",
        " -20.9245750117827]"
       ]
      }
     ],
     "prompt_number": 156
    },
    {
     "cell_type": "code",
     "collapsed": false,
     "input": [
      "w1 = float(w[2])\n",
      "w2 = float(w[3])\n",
      "w3 = float(w[4])"
     ],
     "language": "python",
     "metadata": {},
     "outputs": [],
     "prompt_number": 160
    },
    {
     "cell_type": "code",
     "collapsed": false,
     "input": [
      "out = statik.Output()\n",
      "out.addValue(w1, '\\omega_{E1}', 's^{-1}')\n",
      "out.addValue(w2, '\\omega_{E2}', 's^{-1}')\n",
      "out.addValue(w3, '\\omega_{E3}', 's^{-1}')\n",
      "out.latex()"
     ],
     "language": "python",
     "metadata": {},
     "outputs": [
      {
       "latex": [
        "$$\\omega_{E1} = 20.9 s^{-1}$$\n",
        "$$\\omega_{E2} = 79.7 s^{-1}$$\n",
        "$$\\omega_{E3} = 51.9 s^{-1}$$"
       ],
       "metadata": {},
       "output_type": "pyout",
       "prompt_number": 161,
       "text": [
        "<IPython.core.display.Latex at 0x47d2150>"
       ]
      }
     ],
     "prompt_number": 161
    },
    {
     "cell_type": "code",
     "collapsed": false,
     "input": [
      "m1 = K - w1**2 * M\n",
      "m1"
     ],
     "language": "python",
     "metadata": {},
     "outputs": [
      {
       "metadata": {},
       "output_type": "pyout",
       "prompt_number": 195,
       "text": [
        "[ 5797.59759283995, -3555.55555555556,                 0]\n",
        "[-3555.55555555556,  6235.43543226367, -3555.55555555556]\n",
        "[                0, -3555.55555555556,  3117.71771613184]"
       ]
      }
     ],
     "prompt_number": 195
    },
    {
     "cell_type": "code",
     "collapsed": false,
     "input": [
      "x1 = -m1[0,1]/(m1[1,1]*m1[0,0]/-m1[0,1] + m1[0,1])\n",
      "x2 = m1[0,0]/-m1[0,1] * x1\n",
      "x3 = 1\n",
      "print x1, x2, x3"
     ],
     "language": "python",
     "metadata": {},
     "outputs": [
      {
       "output_type": "stream",
       "stream": "stdout",
       "text": [
        "0.537760281945443 0.876858107662079 1\n"
       ]
      }
     ],
     "prompt_number": 196
    },
    {
     "cell_type": "code",
     "collapsed": false,
     "input": [
      "m1 = K - w2**2 * M\n",
      "m1"
     ],
     "language": "python",
     "metadata": {},
     "outputs": [
      {
       "metadata": {},
       "output_type": "pyout",
       "prompt_number": 197,
       "text": [
        "[-11934.2328301333, -3555.55555555556,                 0]\n",
        "[-3555.55555555556, -5585.78484971849, -3555.55555555556]\n",
        "[                0, -3555.55555555556, -2792.89242485925]"
       ]
      }
     ],
     "prompt_number": 197
    },
    {
     "cell_type": "code",
     "collapsed": false,
     "input": [
      "x1 = -m1[0,1]/(m1[1,1]*m1[0,0]/-m1[0,1] + m1[0,1])\n",
      "x2 = m1[0,0]/-m1[0,1] * x1\n",
      "x3 = 1\n",
      "print x1, x2, x3"
     ],
     "language": "python",
     "metadata": {},
     "outputs": [
      {
       "output_type": "stream",
       "stream": "stdout",
       "text": [
        "0.234023624694780 -0.785500994491661 1\n"
       ]
      }
     ],
     "prompt_number": 198
    },
    {
     "cell_type": "code",
     "collapsed": false,
     "input": [
      "m1 = K - w3**2 * M\n",
      "m1.det()"
     ],
     "language": "python",
     "metadata": {},
     "outputs": [
      {
       "metadata": {},
       "output_type": "pyout",
       "prompt_number": 207,
       "text": [
        "-4.40942163418149e-5"
       ]
      }
     ],
     "prompt_number": 207
    },
    {
     "cell_type": "code",
     "collapsed": false,
     "input": [
      "x1 = -m1[0,1]/(m1[1,1]*m1[0,0]/-m1[0,1] + m1[0,1])\n",
      "x2 = m1[0,0]/-m1[0,1] * x1\n",
      "x3 = 1\n",
      "print x1, x2, x3"
     ],
     "language": "python",
     "metadata": {},
     "outputs": [
      {
       "output_type": "stream",
       "stream": "stdout",
       "text": [
        "-0.882895017751335 0.241976220162916 1\n"
       ]
      }
     ],
     "prompt_number": 200
    }
   ],
   "metadata": {}
  }
 ]
}