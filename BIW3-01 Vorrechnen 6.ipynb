{
 "metadata": {
  "name": ""
 },
 "nbformat": 3,
 "nbformat_minor": 0,
 "worksheets": [
  {
   "cells": [
    {
     "cell_type": "code",
     "collapsed": false,
     "input": [
      "import statik\n",
      "import sympy as sp\n",
      "\n",
      "%pylab"
     ],
     "language": "python",
     "metadata": {},
     "outputs": [
      {
       "output_type": "stream",
       "stream": "stdout",
       "text": [
        "Using matplotlib backend: Qt4Agg\n",
        "Populating the interactive namespace from numpy and matplotlib\n"
       ]
      }
     ],
     "prompt_number": 1
    },
    {
     "cell_type": "code",
     "collapsed": false,
     "input": [
      "EIs = 2.E4"
     ],
     "language": "python",
     "metadata": {},
     "outputs": [],
     "prompt_number": 2
    },
    {
     "cell_type": "markdown",
     "metadata": {},
     "source": [
      "Gesamtsteifigkeitsmatrix\n",
      "------------------------\n",
      "\n",
      "$$K = \n",
      "\\begin{bmatrix}\n",
      "k_1 + k_2 + k_3 & -k_2 \\\\\n",
      "-k_2 & k_4 + k_5\n",
      "\\end{bmatrix}$$\n",
      "\n",
      "$k_i$ entspricht dem mittleren Element der Stabsteifigkeitsmatrix"
     ]
    },
    {
     "cell_type": "code",
     "collapsed": false,
     "input": [
      "k1 = k3 = 12 * EIs / 5\n",
      "k2 = 12 * EIs / 2\n",
      "k4 = k5 = 12 * EIs / 3\n",
      "K = matrix([[k1+k2+k3, -k2], [-k2, k4+k5]])"
     ],
     "language": "python",
     "metadata": {},
     "outputs": [],
     "prompt_number": 3
    },
    {
     "cell_type": "code",
     "collapsed": false,
     "input": [
      "out = statik.Output()\n",
      "out.addMatrix(K, 'K')\n",
      "out.latex()"
     ],
     "language": "python",
     "metadata": {},
     "outputs": [
      {
       "latex": [
        "$$K = \\begin{bmatrix}\n",
        "  216000. & -120000.\\\\\n",
        "  -120000. & 160000.\\\\\n",
        "\\end{bmatrix}$$"
       ],
       "metadata": {},
       "output_type": "pyout",
       "prompt_number": 4,
       "text": [
        "<IPython.core.display.Latex at 0x43ac510>"
       ]
      }
     ],
     "prompt_number": 4
    },
    {
     "cell_type": "markdown",
     "metadata": {},
     "source": [
      "Massenmatrix\n",
      "------------"
     ]
    },
    {
     "cell_type": "code",
     "collapsed": false,
     "input": [
      "M = diag([20., 10.])"
     ],
     "language": "python",
     "metadata": {},
     "outputs": [],
     "prompt_number": 5
    },
    {
     "cell_type": "code",
     "collapsed": false,
     "input": [
      "out = statik.Output()\n",
      "out.addMatrix(M, 'M')\n",
      "out.latex()"
     ],
     "language": "python",
     "metadata": {},
     "outputs": [
      {
       "latex": [
        "$$M = \\begin{bmatrix}\n",
        "  20. & 0.\\\\\n",
        "  0. & 10.\\\\\n",
        "\\end{bmatrix}$$"
       ],
       "metadata": {},
       "output_type": "pyout",
       "prompt_number": 6,
       "text": [
        "<IPython.core.display.Latex at 0x43ac490>"
       ]
      }
     ],
     "prompt_number": 6
    },
    {
     "cell_type": "markdown",
     "metadata": {},
     "source": [
      "##Eigenwertproblem\n",
      "$$(\\underline K - \\omega^2 \\underline M) * \\underline v = 0$$\n",
      "\n",
      "\n",
      "### Eigenwerte\n",
      "$$\\det {|(\\underline K - \\omega_e ^2 \\underline M)|} = 0$$"
     ]
    },
    {
     "cell_type": "code",
     "collapsed": false,
     "input": [
      "w = sp.symbols('w')\n",
      "q = sp.Matrix((K - w**2 * M)).det()\n",
      "q"
     ],
     "language": "python",
     "metadata": {},
     "outputs": [
      {
       "metadata": {},
       "output_type": "pyout",
       "prompt_number": 7,
       "text": [
        "200.0*w**4 - 5360000.0*w**2 + 20160000000.0"
       ]
      }
     ],
     "prompt_number": 7
    },
    {
     "cell_type": "code",
     "collapsed": false,
     "input": [
      "w_all = sp.solve(q)\n",
      "w1 = float(w_all[2])\n",
      "w2 = float(w_all[3])"
     ],
     "language": "python",
     "metadata": {},
     "outputs": [],
     "prompt_number": 8
    },
    {
     "cell_type": "code",
     "collapsed": false,
     "input": [
      "out = statik.Output()\n",
      "out.addValue(w1, '\\omega_1', 's^{-1}')\n",
      "out.addValue(w2, '\\omega_2', 's^{-1}')\n",
      "out.latex()"
     ],
     "language": "python",
     "metadata": {},
     "outputs": [
      {
       "latex": [
        "$$\\omega_1 = 67.3 s^{-1}$$\n",
        "$$\\omega_2 = 149.2 s^{-1}$$"
       ],
       "metadata": {},
       "output_type": "pyout",
       "prompt_number": 9,
       "text": [
        "<IPython.core.display.Latex at 0x43f7b90>"
       ]
      }
     ],
     "prompt_number": 9
    },
    {
     "cell_type": "markdown",
     "metadata": {},
     "source": [
      "###Eigenvektoren"
     ]
    },
    {
     "cell_type": "code",
     "collapsed": false,
     "input": [
      "G1 = (K - w1**2 * M)\n",
      "G2 = (K - w2**2 * M)"
     ],
     "language": "python",
     "metadata": {},
     "outputs": [],
     "prompt_number": 10
    },
    {
     "cell_type": "code",
     "collapsed": false,
     "input": [
      "x2 = 1\n",
      "x1 = - G1[0, 1] / G1[0, 0]\n",
      "v1 = matrix([x1, x2]).T\n",
      "\n",
      "x1 = - G2[0, 1] / G2[0, 0]\n",
      "v2 = matrix([x1, x2]).T"
     ],
     "language": "python",
     "metadata": {},
     "outputs": [],
     "prompt_number": 11
    },
    {
     "cell_type": "code",
     "collapsed": false,
     "input": [
      "out = statik.Output(decimals = 4)\n",
      "out.addMatrix(v1, 'v_1')\n",
      "out.addMatrix(v2, 'v_2')\n",
      "out.latex()"
     ],
     "language": "python",
     "metadata": {},
     "outputs": [
      {
       "latex": [
        "$$v_1 = \\begin{bmatrix}\n",
        "  0.9562\\\\\n",
        "  1.\\\\\n",
        "\\end{bmatrix}$$\n",
        "$$v_2 = \\begin{bmatrix}\n",
        "  -0.5229\\\\\n",
        "  1.\\\\\n",
        "\\end{bmatrix}$$"
       ],
       "metadata": {},
       "output_type": "pyout",
       "prompt_number": 12,
       "text": [
        "<IPython.core.display.Latex at 0x4411110>"
       ]
      }
     ],
     "prompt_number": 12
    },
    {
     "cell_type": "markdown",
     "metadata": {},
     "source": [
      "###Modalmatrix (N1-normiert)"
     ]
    },
    {
     "cell_type": "code",
     "collapsed": false,
     "input": [
      "V_N1 = concatenate((v1, v2), 1)"
     ],
     "language": "python",
     "metadata": {},
     "outputs": [],
     "prompt_number": 13
    },
    {
     "cell_type": "code",
     "collapsed": false,
     "input": [
      "out = statik.Output(decimals = 4)\n",
      "out.addMatrix(V_N1, '\\underline V ^{N1}')\n",
      "out.latex()"
     ],
     "language": "python",
     "metadata": {},
     "outputs": [
      {
       "latex": [
        "$$\\underline V ^{N1} = \\begin{bmatrix}\n",
        "  0.9562 & -0.5229\\\\\n",
        "  1. & 1.\\\\\n",
        "\\end{bmatrix}$$"
       ],
       "metadata": {},
       "output_type": "pyout",
       "prompt_number": 14,
       "text": [
        "<IPython.core.display.Latex at 0x3614150>"
       ]
      }
     ],
     "prompt_number": 14
    },
    {
     "cell_type": "markdown",
     "metadata": {},
     "source": [
      "###generalisierte Masse (N1 - normiert)\n",
      "$$M_{gi}^{N1} = \\underline v_{Ei} ^{N1T} * \\underline M * \\underline v_{Ei} ^{N1}$$"
     ]
    },
    {
     "cell_type": "code",
     "collapsed": false,
     "input": [
      "Mg_N1 = V_N1.T * M * V_N1"
     ],
     "language": "python",
     "metadata": {},
     "outputs": [],
     "prompt_number": 15
    },
    {
     "cell_type": "code",
     "collapsed": false,
     "input": [
      "out = statik.Output(decimals = 4)\n",
      "out.addMatrix(Mg_N1, '\\underline M_g ^{N1}')\n",
      "out.latex()"
     ],
     "language": "python",
     "metadata": {},
     "outputs": [
      {
       "latex": [
        "$$\\underline M_g ^{N1} = \\begin{bmatrix}\n",
        "  28.2873 & 0.\\\\\n",
        "  0. & 15.4683\\\\\n",
        "\\end{bmatrix}$$"
       ],
       "metadata": {},
       "output_type": "pyout",
       "prompt_number": 16,
       "text": [
        "<IPython.core.display.Latex at 0x43b61d0>"
       ]
      }
     ],
     "prompt_number": 16
    },
    {
     "cell_type": "markdown",
     "metadata": {},
     "source": [
      "###generalisierte Steifigkeit (N1 - normiert)\n",
      "$$K_{gi}^{N1} = \\underline v_{Ei} ^{N1T} * \\underline K * \\underline v_{Ei} ^{N1}$$"
     ]
    },
    {
     "cell_type": "code",
     "collapsed": false,
     "input": [
      "Kg_N1 = V_N1.T * K * V_N1"
     ],
     "language": "python",
     "metadata": {},
     "outputs": [],
     "prompt_number": 17
    },
    {
     "cell_type": "code",
     "collapsed": false,
     "input": [
      "out = statik.Output(decimals = 4)\n",
      "out.addMatrix(Kg_N1, '\\underline K_g ^{N1}')\n",
      "out.latex()"
     ],
     "language": "python",
     "metadata": {},
     "outputs": [
      {
       "latex": [
        "$$\\underline K_g ^{N1} = \\begin{bmatrix}\n",
        "  128008.8663 & 0.\\\\\n",
        "  0. & 344551.1337\\\\\n",
        "\\end{bmatrix}$$"
       ],
       "metadata": {},
       "output_type": "pyout",
       "prompt_number": 18,
       "text": [
        "<IPython.core.display.Latex at 0x43b6090>"
       ]
      }
     ],
     "prompt_number": 18
    },
    {
     "cell_type": "markdown",
     "metadata": {},
     "source": [
      "###Modalmatrix (N2-normiert)"
     ]
    },
    {
     "cell_type": "code",
     "collapsed": false,
     "input": [
      "m1 = 1 / sqrt(Mg_N1[0,0])\n",
      "m2 = 1 / sqrt(Mg_N1[1,1])\n",
      "print m1, m2"
     ],
     "language": "python",
     "metadata": {},
     "outputs": [
      {
       "output_type": "stream",
       "stream": "stdout",
       "text": [
        "0.188020184057 0.254260516768\n"
       ]
      }
     ],
     "prompt_number": 19
    },
    {
     "cell_type": "code",
     "collapsed": false,
     "input": [
      "V_N2 = concatenate((v1 * m1, v2 * m2), 1)"
     ],
     "language": "python",
     "metadata": {},
     "outputs": [],
     "prompt_number": 20
    },
    {
     "cell_type": "code",
     "collapsed": false,
     "input": [
      "out = statik.Output(decimals = 4)\n",
      "out.addMatrix(V_N2, '\\underline V ^{N2}')\n",
      "out.latex()"
     ],
     "language": "python",
     "metadata": {},
     "outputs": [
      {
       "latex": [
        "$$\\underline V ^{N2} = \\begin{bmatrix}\n",
        "  0.1798 & -0.133\\\\\n",
        "  0.188 & 0.2543\\\\\n",
        "\\end{bmatrix}$$"
       ],
       "metadata": {},
       "output_type": "pyout",
       "prompt_number": 21,
       "text": [
        "<IPython.core.display.Latex at 0x43b6050>"
       ]
      }
     ],
     "prompt_number": 21
    },
    {
     "cell_type": "markdown",
     "metadata": {},
     "source": [
      "###generalisierte Masse (N2 - normiert)\n",
      "$$M_{gi}^{N2} = \\underline v_{Ei} ^{N2T} * \\underline M * \\underline v_{Ei} ^{N2}$$"
     ]
    },
    {
     "cell_type": "code",
     "collapsed": false,
     "input": [
      "Mg_N2 = V_N2.T * M * V_N2"
     ],
     "language": "python",
     "metadata": {},
     "outputs": [],
     "prompt_number": 22
    },
    {
     "cell_type": "code",
     "collapsed": false,
     "input": [
      "out = statik.Output(decimals = 4)\n",
      "out.addMatrix(Mg_N2, '\\underline M_g ^{N2} = \\underline E')\n",
      "out.latex()"
     ],
     "language": "python",
     "metadata": {},
     "outputs": [
      {
       "latex": [
        "$$\\underline M_g ^{N2} = \\underline E = \\begin{bmatrix}\n",
        "  1. & 0.\\\\\n",
        "  0. & 1.\\\\\n",
        "\\end{bmatrix}$$"
       ],
       "metadata": {},
       "output_type": "pyout",
       "prompt_number": 23,
       "text": [
        "<IPython.core.display.Latex at 0x43b6890>"
       ]
      }
     ],
     "prompt_number": 23
    },
    {
     "cell_type": "markdown",
     "metadata": {},
     "source": [
      "###generalisierte Steifigkeit (N2 - normiert)\n",
      "$$K_{gi}^{N2} = \\underline v_{Ei} ^{N2T} * \\underline K * \\underline v_{Ei} ^{N2}$$"
     ]
    },
    {
     "cell_type": "code",
     "collapsed": false,
     "input": [
      "Kg_N2 = V_N2.T * K * V_N2"
     ],
     "language": "python",
     "metadata": {},
     "outputs": [],
     "prompt_number": 24
    },
    {
     "cell_type": "code",
     "collapsed": false,
     "input": [
      "out = statik.Output(decimals = 4)\n",
      "out.addMatrix(Kg_N2, '\\underline K_g ^{N2} = \\Lambda_0')\n",
      "out.latex()"
     ],
     "language": "python",
     "metadata": {},
     "outputs": [
      {
       "latex": [
        "$$\\underline K_g ^{N2} = \\Lambda_0 = \\begin{bmatrix}\n",
        "  4525.3169 & 0.\\\\\n",
        "  0. & 22274.6831\\\\\n",
        "\\end{bmatrix}$$"
       ],
       "metadata": {},
       "output_type": "pyout",
       "prompt_number": 25,
       "text": [
        "<IPython.core.display.Latex at 0x43b6210>"
       ]
      }
     ],
     "prompt_number": 25
    },
    {
     "cell_type": "code",
     "collapsed": false,
     "input": [],
     "language": "python",
     "metadata": {},
     "outputs": [],
     "prompt_number": 25
    }
   ],
   "metadata": {}
  }
 ]
}