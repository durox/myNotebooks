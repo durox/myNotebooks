{
 "metadata": {
  "name": ""
 },
 "nbformat": 3,
 "nbformat_minor": 0,
 "worksheets": [
  {
   "cells": [
    {
     "cell_type": "code",
     "collapsed": false,
     "input": [
      "import statik\n",
      "import sympy as sp\n",
      "from sympy.utilities import lambdify\n",
      "\n",
      "%pylab"
     ],
     "language": "python",
     "metadata": {},
     "outputs": [
      {
       "output_type": "stream",
       "stream": "stdout",
       "text": [
        "Using matplotlib backend: module://IPython.kernel.zmq.pylab.backend_inline\n",
        "Populating the interactive namespace from numpy and matplotlib\n"
       ]
      }
     ],
     "prompt_number": 51
    },
    {
     "cell_type": "code",
     "collapsed": false,
     "input": [
      "EIs = 2.E4"
     ],
     "language": "python",
     "metadata": {},
     "outputs": [],
     "prompt_number": 52
    },
    {
     "cell_type": "markdown",
     "metadata": {},
     "source": [
      "Gesamtsteifigkeitsmatrix\n",
      "------------------------\n",
      "\n",
      "$$K = \n",
      "\\begin{bmatrix}\n",
      "k_1 + k_2 + k_3 & -k_2 \\\\\n",
      "-k_2 & k_4 + k_5\n",
      "\\end{bmatrix}$$\n",
      "\n",
      "$k_i$ entspricht dem mittleren Element der Stabsteifigkeitsmatrix"
     ]
    },
    {
     "cell_type": "code",
     "collapsed": false,
     "input": [
      "k1 = k3 = 12 * EIs / 5\n",
      "k2 = 12 * EIs / 2\n",
      "k4 = k5 = 12 * EIs / 3\n",
      "K = matrix([[k1+k2+k3, -k2], [-k2, k4+k5]])"
     ],
     "language": "python",
     "metadata": {},
     "outputs": [],
     "prompt_number": 53
    },
    {
     "cell_type": "code",
     "collapsed": false,
     "input": [
      "out = statik.Output()\n",
      "out.addMatrix(K, 'K')\n",
      "out.latex()"
     ],
     "language": "python",
     "metadata": {},
     "outputs": [
      {
       "latex": [
        "$$K = \\begin{bmatrix}\n",
        "  216000. & -120000.\\\\\n",
        "  -120000. & 160000.\\\\\n",
        "\\end{bmatrix}$$"
       ],
       "metadata": {},
       "output_type": "pyout",
       "prompt_number": 54,
       "text": [
        "<IPython.core.display.Latex at 0x375b5d0>"
       ]
      }
     ],
     "prompt_number": 54
    },
    {
     "cell_type": "markdown",
     "metadata": {},
     "source": [
      "Massenmatrix\n",
      "------------"
     ]
    },
    {
     "cell_type": "code",
     "collapsed": false,
     "input": [
      "M = diag([20., 10.])"
     ],
     "language": "python",
     "metadata": {},
     "outputs": [],
     "prompt_number": 55
    },
    {
     "cell_type": "code",
     "collapsed": false,
     "input": [
      "out = statik.Output()\n",
      "out.addMatrix(M, 'M')\n",
      "out.latex()"
     ],
     "language": "python",
     "metadata": {},
     "outputs": [
      {
       "latex": [
        "$$M = \\begin{bmatrix}\n",
        "  20. & 0.\\\\\n",
        "  0. & 10.\\\\\n",
        "\\end{bmatrix}$$"
       ],
       "metadata": {},
       "output_type": "pyout",
       "prompt_number": 56,
       "text": [
        "<IPython.core.display.Latex at 0x3cec290>"
       ]
      }
     ],
     "prompt_number": 56
    },
    {
     "cell_type": "markdown",
     "metadata": {},
     "source": [
      "##Eigenwertproblem\n",
      "$$(\\underline K - \\omega^2 \\underline M) * \\underline v = 0$$\n",
      "\n",
      "\n",
      "### Eigenwerte\n",
      "$$\\det {|(\\underline K - \\omega_e ^2 \\underline M)|} = 0$$"
     ]
    },
    {
     "cell_type": "code",
     "collapsed": false,
     "input": [
      "w = sp.symbols('w')\n",
      "q = sp.Matrix((K - w**2 * M)).det()\n",
      "q"
     ],
     "language": "python",
     "metadata": {},
     "outputs": [
      {
       "metadata": {},
       "output_type": "pyout",
       "prompt_number": 57,
       "text": [
        "200.0*w**4 - 5360000.0*w**2 + 20160000000.0"
       ]
      }
     ],
     "prompt_number": 57
    },
    {
     "cell_type": "code",
     "collapsed": false,
     "input": [
      "w_all = sp.solve(q)\n",
      "w1 = float(w_all[0])\n",
      "w2 = float(w_all[2])"
     ],
     "language": "python",
     "metadata": {},
     "outputs": [],
     "prompt_number": 58
    },
    {
     "cell_type": "code",
     "collapsed": false,
     "input": [
      "out = statik.Output()\n",
      "out.addValue(w1, '\\omega_1', 's^{-1}')\n",
      "out.addValue(w2, '\\omega_2', 's^{-1}')\n",
      "out.latex()"
     ],
     "language": "python",
     "metadata": {},
     "outputs": [
      {
       "latex": [
        "$$\\omega_1 = 67.3 s^{-1}$$\n",
        "$$\\omega_2 = 149.2 s^{-1}$$"
       ],
       "metadata": {},
       "output_type": "pyout",
       "prompt_number": 59,
       "text": [
        "<IPython.core.display.Latex at 0x3e857d0>"
       ]
      }
     ],
     "prompt_number": 59
    },
    {
     "cell_type": "markdown",
     "metadata": {},
     "source": [
      "###Eigenvektoren"
     ]
    },
    {
     "cell_type": "code",
     "collapsed": false,
     "input": [
      "G1 = (K - w1**2 * M)\n",
      "G2 = (K - w2**2 * M)"
     ],
     "language": "python",
     "metadata": {},
     "outputs": [],
     "prompt_number": 60
    },
    {
     "cell_type": "code",
     "collapsed": false,
     "input": [
      "x2 = 1\n",
      "x1 = - G1[0, 1] / G1[0, 0]\n",
      "v1 = matrix([x1, x2]).T\n",
      "\n",
      "x1 = - G2[0, 1] / G2[0, 0]\n",
      "v2 = matrix([x1, x2]).T"
     ],
     "language": "python",
     "metadata": {},
     "outputs": [],
     "prompt_number": 61
    },
    {
     "cell_type": "code",
     "collapsed": false,
     "input": [
      "out = statik.Output(decimals = 4)\n",
      "out.addMatrix(v1, 'v_1')\n",
      "out.addMatrix(v2, 'v_2')\n",
      "out.latex()"
     ],
     "language": "python",
     "metadata": {},
     "outputs": [
      {
       "latex": [
        "$$v_1 = \\begin{bmatrix}\n",
        "  0.9562\\\\\n",
        "  1.\\\\\n",
        "\\end{bmatrix}$$\n",
        "$$v_2 = \\begin{bmatrix}\n",
        "  -0.5229\\\\\n",
        "  1.\\\\\n",
        "\\end{bmatrix}$$"
       ],
       "metadata": {},
       "output_type": "pyout",
       "prompt_number": 62,
       "text": [
        "<IPython.core.display.Latex at 0x42bdf90>"
       ]
      }
     ],
     "prompt_number": 62
    },
    {
     "cell_type": "markdown",
     "metadata": {},
     "source": [
      "###Modalmatrix (N1-normiert)"
     ]
    },
    {
     "cell_type": "code",
     "collapsed": false,
     "input": [
      "V_N1 = concatenate((v1, v2), 1)"
     ],
     "language": "python",
     "metadata": {},
     "outputs": [],
     "prompt_number": 63
    },
    {
     "cell_type": "code",
     "collapsed": false,
     "input": [
      "out = statik.Output(decimals = 4)\n",
      "out.addMatrix(V_N1, '\\underline V ^{N1}')\n",
      "out.latex()"
     ],
     "language": "python",
     "metadata": {},
     "outputs": [
      {
       "latex": [
        "$$\\underline V ^{N1} = \\begin{bmatrix}\n",
        "  0.9562 & -0.5229\\\\\n",
        "  1. & 1.\\\\\n",
        "\\end{bmatrix}$$"
       ],
       "metadata": {},
       "output_type": "pyout",
       "prompt_number": 64,
       "text": [
        "<IPython.core.display.Latex at 0x463a610>"
       ]
      }
     ],
     "prompt_number": 64
    },
    {
     "cell_type": "markdown",
     "metadata": {},
     "source": [
      "###generalisierte Masse (N1 - normiert)\n",
      "$$M_{gi}^{N1} = \\underline v_{Ei} ^{N1T} * \\underline M * \\underline v_{Ei} ^{N1}$$"
     ]
    },
    {
     "cell_type": "code",
     "collapsed": false,
     "input": [
      "Mg_N1 = V_N1.T * M * V_N1"
     ],
     "language": "python",
     "metadata": {},
     "outputs": [],
     "prompt_number": 65
    },
    {
     "cell_type": "code",
     "collapsed": false,
     "input": [
      "out = statik.Output(decimals = 4)\n",
      "out.addMatrix(Mg_N1, '\\underline M_g ^{N1}')\n",
      "out.latex()"
     ],
     "language": "python",
     "metadata": {},
     "outputs": [
      {
       "latex": [
        "$$\\underline M_g ^{N1} = \\begin{bmatrix}\n",
        "  28.2873 & 0.\\\\\n",
        "  0. & 15.4683\\\\\n",
        "\\end{bmatrix}$$"
       ],
       "metadata": {},
       "output_type": "pyout",
       "prompt_number": 66,
       "text": [
        "<IPython.core.display.Latex at 0x42cbf90>"
       ]
      }
     ],
     "prompt_number": 66
    },
    {
     "cell_type": "markdown",
     "metadata": {},
     "source": [
      "###generalisierte Steifigkeit (N1 - normiert)\n",
      "$$K_{gi}^{N1} = \\underline v_{Ei} ^{N1T} * \\underline K * \\underline v_{Ei} ^{N1}$$"
     ]
    },
    {
     "cell_type": "code",
     "collapsed": false,
     "input": [
      "Kg_N1 = V_N1.T * K * V_N1"
     ],
     "language": "python",
     "metadata": {},
     "outputs": [],
     "prompt_number": 67
    },
    {
     "cell_type": "code",
     "collapsed": false,
     "input": [
      "out = statik.Output(decimals = 4)\n",
      "out.addMatrix(Kg_N1, '\\underline K_g ^{N1}')\n",
      "out.latex()"
     ],
     "language": "python",
     "metadata": {},
     "outputs": [
      {
       "latex": [
        "$$\\underline K_g ^{N1} = \\begin{bmatrix}\n",
        "  128008.8663 & 0.\\\\\n",
        "  0. & 344551.1337\\\\\n",
        "\\end{bmatrix}$$"
       ],
       "metadata": {},
       "output_type": "pyout",
       "prompt_number": 68,
       "text": [
        "<IPython.core.display.Latex at 0x3eb71d0>"
       ]
      }
     ],
     "prompt_number": 68
    },
    {
     "cell_type": "markdown",
     "metadata": {},
     "source": [
      "###Modalmatrix (N2-normiert)"
     ]
    },
    {
     "cell_type": "code",
     "collapsed": false,
     "input": [
      "m1 = 1 / sqrt(Mg_N1[0,0])\n",
      "m2 = 1 / sqrt(Mg_N1[1,1])\n",
      "print m1, m2"
     ],
     "language": "python",
     "metadata": {},
     "outputs": [
      {
       "output_type": "stream",
       "stream": "stdout",
       "text": [
        "0.188020184057 0.254260516768\n"
       ]
      }
     ],
     "prompt_number": 69
    },
    {
     "cell_type": "code",
     "collapsed": false,
     "input": [
      "V_N2 = concatenate((v1 * m1, v2 * m2), 1)"
     ],
     "language": "python",
     "metadata": {},
     "outputs": [],
     "prompt_number": 70
    },
    {
     "cell_type": "code",
     "collapsed": false,
     "input": [
      "out = statik.Output(decimals = 4)\n",
      "out.addMatrix(V_N2, '\\underline V ^{N2}')\n",
      "out.latex()"
     ],
     "language": "python",
     "metadata": {},
     "outputs": [
      {
       "latex": [
        "$$\\underline V ^{N2} = \\begin{bmatrix}\n",
        "  0.1798 & -0.133\\\\\n",
        "  0.188 & 0.2543\\\\\n",
        "\\end{bmatrix}$$"
       ],
       "metadata": {},
       "output_type": "pyout",
       "prompt_number": 71,
       "text": [
        "<IPython.core.display.Latex at 0x3eb7390>"
       ]
      }
     ],
     "prompt_number": 71
    },
    {
     "cell_type": "markdown",
     "metadata": {},
     "source": [
      "###generalisierte Masse (N2 - normiert)\n",
      "$$M_{gi}^{N2} = \\underline v_{Ei} ^{N2T} * \\underline M * \\underline v_{Ei} ^{N2}$$"
     ]
    },
    {
     "cell_type": "code",
     "collapsed": false,
     "input": [
      "Mg_N2 = V_N2.T * M * V_N2"
     ],
     "language": "python",
     "metadata": {},
     "outputs": [],
     "prompt_number": 72
    },
    {
     "cell_type": "code",
     "collapsed": false,
     "input": [
      "out = statik.Output(decimals = 4)\n",
      "out.addMatrix(Mg_N2, '\\underline M_g ^{N2} = \\underline E')\n",
      "out.latex()"
     ],
     "language": "python",
     "metadata": {},
     "outputs": [
      {
       "latex": [
        "$$\\underline M_g ^{N2} = \\underline E = \\begin{bmatrix}\n",
        "  1. & 0.\\\\\n",
        "  0. & 1.\\\\\n",
        "\\end{bmatrix}$$"
       ],
       "metadata": {},
       "output_type": "pyout",
       "prompt_number": 73,
       "text": [
        "<IPython.core.display.Latex at 0x39f7190>"
       ]
      }
     ],
     "prompt_number": 73
    },
    {
     "cell_type": "markdown",
     "metadata": {},
     "source": [
      "###generalisierte Steifigkeit (N2 - normiert)\n",
      "$$K_{gi}^{N2} = \\underline v_{Ei} ^{N2T} * \\underline K * \\underline v_{Ei} ^{N2}$$"
     ]
    },
    {
     "cell_type": "code",
     "collapsed": false,
     "input": [
      "Kg_N2 = V_N2.T * K * V_N2"
     ],
     "language": "python",
     "metadata": {},
     "outputs": [],
     "prompt_number": 74
    },
    {
     "cell_type": "code",
     "collapsed": false,
     "input": [
      "out = statik.Output(decimals = 4)\n",
      "out.addMatrix(Kg_N2, '\\underline K_g ^{N2} = \\underline \\Lambda')\n",
      "out.latex()"
     ],
     "language": "python",
     "metadata": {},
     "outputs": [
      {
       "latex": [
        "$$\\underline K_g ^{N2} = \\underline \\Lambda = \\begin{bmatrix}\n",
        "  4525.3169 & 0.\\\\\n",
        "  0. & 22274.6831\\\\\n",
        "\\end{bmatrix}$$"
       ],
       "metadata": {},
       "output_type": "pyout",
       "prompt_number": 75,
       "text": [
        "<IPython.core.display.Latex at 0x4a0ce50>"
       ]
      }
     ],
     "prompt_number": 75
    },
    {
     "cell_type": "markdown",
     "metadata": {},
     "source": [
      "##DGL-System\n",
      "\n",
      "###frei, unged\u00e4mpft\n",
      "$$\\underline {\\ddot{q}} (t) + \\underline \\Lambda \\underline {{q}} (t) = 0$$\n",
      "\n",
      "$$\\underline q_0 = {(\\underline V ^{N2})}^{-1} * \\underline v _0 = {(\\underline V ^{N2})}^{T} * \\underline M * \\underline v _0$$\n",
      "\n",
      "$$\\underline {\\dot{q}} _0 = {(\\underline V ^{N2})}^{-1} * \\underline {\\dot{v}} _0 = {(\\underline V ^{N2})}^{T} * \\underline M * \\underline {\\dot{v}} _0$$"
     ]
    },
    {
     "cell_type": "code",
     "collapsed": false,
     "input": [
      "v0 = matrix(zeros(2)).T\n",
      "dv0 = matrix([1, 0]).T"
     ],
     "language": "python",
     "metadata": {},
     "outputs": [],
     "prompt_number": 76
    },
    {
     "cell_type": "code",
     "collapsed": false,
     "input": [
      "q0 = V_N2.T * M * v0\n",
      "dq0 = V_N2.T * M * dv0"
     ],
     "language": "python",
     "metadata": {},
     "outputs": [],
     "prompt_number": 77
    },
    {
     "cell_type": "code",
     "collapsed": false,
     "input": [
      "out = statik.Output(decimals = 4)\n",
      "out.addMatrix(q0, 'q_0')\n",
      "out.addMatrix(dq0, '\\dot{q} _0')\n",
      "out.latex()"
     ],
     "language": "python",
     "metadata": {},
     "outputs": [
      {
       "latex": [
        "$$q_0 = \\begin{bmatrix}\n",
        "  0.\\\\\n",
        "  0.\\\\\n",
        "\\end{bmatrix}$$\n",
        "$$\\dot{q} _0 = \\begin{bmatrix}\n",
        "  3.5958\\\\\n",
        "  -2.659\\\\\n",
        "\\end{bmatrix}$$"
       ],
       "metadata": {},
       "output_type": "pyout",
       "prompt_number": 78,
       "text": [
        "<IPython.core.display.Latex at 0x39cf310>"
       ]
      }
     ],
     "prompt_number": 78
    },
    {
     "cell_type": "markdown",
     "metadata": {},
     "source": [
      "$$q_i (t) = \\frac{\\dot{q_{i0}}}{\\omega _i} * \\sin{\\omega _i t}$$"
     ]
    },
    {
     "cell_type": "code",
     "collapsed": false,
     "input": [
      "t = sp.symbols('t')\n",
      "q = sp.Matrix([[dq0[0]/w1 * sp.sin(w1*t)], [dq0[1]/w2 * sp.sin(w2*t)]])\n",
      "q"
     ],
     "language": "python",
     "metadata": {},
     "outputs": [
      {
       "metadata": {},
       "output_type": "pyout",
       "prompt_number": 79,
       "text": [
        "[ 0.0534526725435593*sin(67.2704757458016*t)]\n",
        "[-0.0178161435937802*sin(149.247053883598*t)]"
       ]
      }
     ],
     "prompt_number": 79
    },
    {
     "cell_type": "code",
     "collapsed": false,
     "input": [
      "out = statik.Output()\n",
      "out.addSPMatrix(q, '\\underline q')\n",
      "out.latex()"
     ],
     "language": "python",
     "metadata": {},
     "outputs": [
      {
       "latex": [
        "$$\\underline q = \\begin{bmatrix}\n",
        "  0.0534526725435593*sin(67.2704757458016*t)\\\\\n",
        "  -0.0178161435937802*sin(149.247053883598*t)\\\\\n",
        "\\end{bmatrix}$$"
       ],
       "metadata": {},
       "output_type": "pyout",
       "prompt_number": 80,
       "text": [
        "<IPython.core.display.Latex at 0x4646b90>"
       ]
      }
     ],
     "prompt_number": 80
    },
    {
     "cell_type": "code",
     "collapsed": false,
     "input": [
      "v = sp.Matrix(V_N2) * q"
     ],
     "language": "python",
     "metadata": {},
     "outputs": [],
     "prompt_number": 81
    },
    {
     "cell_type": "code",
     "collapsed": false,
     "input": [
      "out = statik.Output()\n",
      "out.addSPMatrix(v, '\\underline v')\n",
      "out.latex()"
     ],
     "language": "python",
     "metadata": {},
     "outputs": [
      {
       "latex": [
        "$$\\underline v = \\begin{bmatrix}\n",
        "  0.00961022048235633*sin(67.2704757458016*t) & + & 0.00236866247561282*sin(149.247053883598*t)\\\\\n",
        "  0.0100501813300008*sin(67.2704757458016*t) & - & 0.00452994187696342*sin(149.247053883598*t)\\\\\n",
        "\\end{bmatrix}$$"
       ],
       "metadata": {},
       "output_type": "pyout",
       "prompt_number": 82,
       "text": [
        "<IPython.core.display.Latex at 0x37724d0>"
       ]
      }
     ],
     "prompt_number": 82
    },
    {
     "cell_type": "code",
     "collapsed": false,
     "input": [
      "vt1 = lambdify(t, v[0], modules=['numpy'])\n",
      "vt2 = lambdify(t, v[1], modules=['numpy'])\n",
      "tp = linspace(0, 0.5, num=10000)\n",
      "plot(tp, vt1(tp), 'k')\n",
      "plot(tp, vt2(tp), 'r')"
     ],
     "language": "python",
     "metadata": {},
     "outputs": [
      {
       "metadata": {},
       "output_type": "pyout",
       "prompt_number": 83,
       "text": [
        "[<matplotlib.lines.Line2D at 0x4a14bd0>]"
       ]
      },
      {
       "metadata": {},
       "output_type": "display_data",
       "png": "[encoded data removed]",
       "text": [
        "<matplotlib.figure.Figure at 0x4a18110>"
       ]
      }
     ],
     "prompt_number": 83
    },
    {
     "cell_type": "code",
     "collapsed": false,
     "input": [
      "A1 = V_N2[:,0].T * M * v0\n",
      "A2 = V_N2[:,1].T * M * v0\n",
      "print A1, A2\n",
      "B1 = V_N2[:,0].T * M * dv0 / w1\n",
      "B2 = V_N2[:,1].T * M * dv0 / w2\n",
      "print B1, B2"
     ],
     "language": "python",
     "metadata": {},
     "outputs": [
      {
       "output_type": "stream",
       "stream": "stdout",
       "text": [
        "[[ 0.]] [[ 0.]]\n",
        "[[ 0.05345267]] [[-0.01781614]]\n"
       ]
      }
     ],
     "prompt_number": 84
    },
    {
     "cell_type": "markdown",
     "metadata": {},
     "source": [
      "###frei, ged\u00e4mpft\n",
      "\n",
      "$$\\underline {\\ddot{q}} (t) + {(\\underline V ^{N2})}^{T} * \\underline D * {\\underline V ^{N2}} \\underline {\\dot{q}} (t) + \\underline \\Lambda \\underline {{q}} (t) = 0$$"
     ]
    },
    {
     "cell_type": "markdown",
     "metadata": {},
     "source": [
      "####homogene L\u00f6sung"
     ]
    },
    {
     "cell_type": "code",
     "collapsed": false,
     "input": [
      "d = d1 = d2 = 0.05"
     ],
     "language": "python",
     "metadata": {},
     "outputs": [],
     "prompt_number": 85
    },
    {
     "cell_type": "code",
     "collapsed": false,
     "input": [
      "delta1 = d1 * w1\n",
      "delta2 = d2 * w2\n",
      "print delta1, delta2\n",
      "wd1 = w1 * sqrt(1-d1**2)\n",
      "wd2 = w2 * sqrt(1-d2**2)\n",
      "print wd1, wd2"
     ],
     "language": "python",
     "metadata": {},
     "outputs": [
      {
       "output_type": "stream",
       "stream": "stdout",
       "text": [
        "3.36352378729 7.46235269418\n",
        "67.1863350303 149.060378321\n"
       ]
      }
     ],
     "prompt_number": 86
    },
    {
     "cell_type": "code",
     "collapsed": false,
     "input": [
      "A1 = V_N2[:,0].T * M * v0\n",
      "A2 = V_N2[:,1].T * M * v0\n",
      "print A1, A2\n",
      "B1 = V_N2[:,0].T * M * (dv0 + delta1*v0) / wd1\n",
      "B2 = V_N2[:,1].T * M * (dv0 + delta2*v0) / wd2\n",
      "print B1, B2"
     ],
     "language": "python",
     "metadata": {},
     "outputs": [
      {
       "output_type": "stream",
       "stream": "stdout",
       "text": [
        "[[ 0.]] [[ 0.]]\n",
        "[[ 0.05351961]] [[-0.01783846]]\n"
       ]
      }
     ],
     "prompt_number": 87
    },
    {
     "cell_type": "code",
     "collapsed": false,
     "input": [
      "t = sp.symbols('t')\n",
      "q = sp.Matrix([[sp.exp(-delta1*t) * (A1 * sp.cos(wd1*t) + B1 * sp.sin(wd1*t))],\n",
      "               [sp.exp(-delta2*t) * (A2 * sp.cos(wd2*t) + B2 * sp.sin(wd2*t))]])\n",
      "q"
     ],
     "language": "python",
     "metadata": {},
     "outputs": [
      {
       "metadata": {},
       "output_type": "pyout",
       "prompt_number": 88,
       "text": [
        "[ 0.0535196139255117*exp(-3.36352378729008*t)*sin(67.1863350302635*t)]\n",
        "[-0.0178384556170425*exp(-7.46235269417989*t)*sin(149.060378321005*t)]"
       ]
      }
     ],
     "prompt_number": 88
    },
    {
     "cell_type": "code",
     "collapsed": false,
     "input": [
      "v = sp.Matrix(V_N2) * q"
     ],
     "language": "python",
     "metadata": {},
     "outputs": [],
     "prompt_number": 89
    },
    {
     "cell_type": "code",
     "collapsed": false,
     "input": [
      "out = statik.Output()\n",
      "out.addSPMatrix(v, '\\underline v')\n",
      "out.latex()"
     ],
     "language": "python",
     "metadata": {},
     "outputs": [
      {
       "latex": [
        "$$\\underline v = \\begin{bmatrix}\n",
        "  0.00237162886685111*exp(-7.46235269417989*t)*sin(149.060378321005*t) & + & 0.00962225582894131*exp(-3.36352378729008*t)*sin(67.1863350302635*t)\\\\\n",
        "  -0.00453561494352825*exp(-7.46235269417989*t)*sin(149.060378321005*t) & + & 0.0100627676609565*exp(-3.36352378729008*t)*sin(67.1863350302635*t)\\\\\n",
        "\\end{bmatrix}$$"
       ],
       "metadata": {},
       "output_type": "pyout",
       "prompt_number": 90,
       "text": [
        "<IPython.core.display.Latex at 0x4a1e850>"
       ]
      }
     ],
     "prompt_number": 90
    },
    {
     "cell_type": "code",
     "collapsed": false,
     "input": [
      "vt1 = lambdify(t, v[0], modules=['numpy'])\n",
      "vt2 = lambdify(t, v[1], modules=['numpy'])\n",
      "tp = linspace(0, 2, num=1000)\n",
      "plot(tp, vt1(tp), 'k')\n",
      "plot(tp, vt2(tp), 'r')"
     ],
     "language": "python",
     "metadata": {},
     "outputs": [
      {
       "metadata": {},
       "output_type": "pyout",
       "prompt_number": 91,
       "text": [
        "[<matplotlib.lines.Line2D at 0x4635bd0>]"
       ]
      },
      {
       "metadata": {},
       "output_type": "display_data",
       "png": "[encoded data removed]",
       "text": [
        "<matplotlib.figure.Figure at 0x3cd4210>"
       ]
      }
     ],
     "prompt_number": 91
    },
    {
     "cell_type": "code",
     "collapsed": false,
     "input": [],
     "language": "python",
     "metadata": {},
     "outputs": [],
     "prompt_number": 91
    }
   ],
   "metadata": {}
  }
 ]
}