{
 "metadata": {
  "name": ""
 },
 "nbformat": 3,
 "nbformat_minor": 0,
 "worksheets": [
  {
   "cells": [
    {
     "cell_type": "code",
     "collapsed": false,
     "input": [
      "import statik\n",
      "import sympy as sp\n",
      "from sympy.utilities import lambdify\n",
      "\n",
      "%pylab"
     ],
     "language": "python",
     "metadata": {},
     "outputs": [
      {
       "output_type": "stream",
       "stream": "stdout",
       "text": [
        "Using matplotlib backend: module://IPython.kernel.zmq.pylab.backend_inline\n",
        "Populating the interactive namespace from numpy and matplotlib\n"
       ]
      }
     ],
     "prompt_number": 1
    },
    {
     "cell_type": "code",
     "collapsed": false,
     "input": [
      "EIs = 2.E4"
     ],
     "language": "python",
     "metadata": {},
     "outputs": [],
     "prompt_number": 151
    },
    {
     "cell_type": "markdown",
     "metadata": {},
     "source": [
      "Gesamtsteifigkeitsmatrix\n",
      "------------------------\n",
      "\n",
      "$$K = \n",
      "\\begin{bmatrix}\n",
      "k_1 + k_2 + k_3 & -k_2 \\\\\n",
      "-k_2 & k_4 + k_5\n",
      "\\end{bmatrix}$$\n",
      "\n",
      "$k_i$ entspricht dem mittleren Element der Stabsteifigkeitsmatrix"
     ]
    },
    {
     "cell_type": "code",
     "collapsed": false,
     "input": [
      "k1 = k3 = 12 * EIs / (5**3)\n",
      "k2 = 12 * EIs / (2**3)\n",
      "k4 = k5 = 12 * EIs / (3**3)\n",
      "K = matrix([[k1+k2+k3, -k2], [-k2, k4+k5]])"
     ],
     "language": "python",
     "metadata": {},
     "outputs": [],
     "prompt_number": 183
    },
    {
     "cell_type": "code",
     "collapsed": false,
     "input": [
      "out = statik.Output()\n",
      "out.addMatrix(K, 'K')\n",
      "out.latex()"
     ],
     "language": "python",
     "metadata": {},
     "outputs": [
      {
       "latex": [
        "$$K = \\begin{bmatrix}\n",
        "  33840. & -30000.\\\\\n",
        "  -30000. & 17777.8\\\\\n",
        "\\end{bmatrix}$$"
       ],
       "metadata": {},
       "output_type": "pyout",
       "prompt_number": 184,
       "text": [
        "<IPython.core.display.Latex at 0x4cbdc90>"
       ]
      }
     ],
     "prompt_number": 184
    },
    {
     "cell_type": "markdown",
     "metadata": {},
     "source": [
      "Massenmatrix\n",
      "------------"
     ]
    },
    {
     "cell_type": "code",
     "collapsed": false,
     "input": [
      "M = diag([20., 10.])\n",
      "#M = diag([10., 20.])"
     ],
     "language": "python",
     "metadata": {},
     "outputs": [],
     "prompt_number": 185
    },
    {
     "cell_type": "code",
     "collapsed": false,
     "input": [
      "out = statik.Output()\n",
      "out.addMatrix(M, 'M')\n",
      "out.latex()"
     ],
     "language": "python",
     "metadata": {},
     "outputs": [
      {
       "latex": [
        "$$M = \\begin{bmatrix}\n",
        "  20. & 0.\\\\\n",
        "  0. & 10.\\\\\n",
        "\\end{bmatrix}$$"
       ],
       "metadata": {},
       "output_type": "pyout",
       "prompt_number": 186,
       "text": [
        "<IPython.core.display.Latex at 0x4cbd310>"
       ]
      }
     ],
     "prompt_number": 186
    },
    {
     "cell_type": "markdown",
     "metadata": {},
     "source": [
      "##Eigenwertproblem\n",
      "$$(\\underline K - \\omega^2 \\underline M) * \\underline v = 0$$\n",
      "\n",
      "\n",
      "### Eigenwerte\n",
      "$$\\det {|(\\underline K - \\omega_e ^2 \\underline M)|} = 0$$"
     ]
    },
    {
     "cell_type": "code",
     "collapsed": false,
     "input": [
      "w = sp.symbols('w')\n",
      "#q = sp.Matrix((K - w**2 * M)).det()\n",
      "eM = sp.Matrix((K - w**2 * M))\n",
      "q  = eM[0,0] * eM[1,1] - eM[0,1] * eM[1,0]\n",
      "#\n",
      "q.simplify()\n",
      "#q\n",
      "#(K - w**2 * M)\n",
      "#eM"
     ],
     "language": "python",
     "metadata": {},
     "outputs": [
      {
       "metadata": {},
       "output_type": "pyout",
       "prompt_number": 187,
       "text": [
        "200.0*w**4 - 693955.555555556*w**2 - 298400000.0"
       ]
      }
     ],
     "prompt_number": 187
    },
    {
     "cell_type": "code",
     "collapsed": false,
     "input": [
      "w_all = sp.solve(q)\n",
      "#sp.solve(\n",
      "#w1 = float(w_all[0])\n",
      "#w2 = float(w_all[2])\n",
      "print w_all\n",
      "w1 = 24.735\n",
      "#w1 = 62.101873\n",
      "w2 = 76.537"
     ],
     "language": "python",
     "metadata": {},
     "outputs": [
      {
       "output_type": "stream",
       "stream": "stdout",
       "text": [
        "[-62.1018739835934, 62.1018739835934, -19.668883407462*I, 19.668883407462*I]\n"
       ]
      }
     ],
     "prompt_number": 188
    },
    {
     "cell_type": "code",
     "collapsed": false,
     "input": [
      "out = statik.Output()\n",
      "out.addValue(w1, '\\omega_1', 's^{-1}')\n",
      "out.addValue(w2, '\\omega_2', 's^{-1}')\n",
      "out.latex()"
     ],
     "language": "python",
     "metadata": {},
     "outputs": [
      {
       "latex": [
        "$$\\omega_1 = 24.7 s^{-1}$$\n",
        "$$\\omega_2 = 76.5 s^{-1}$$"
       ],
       "metadata": {},
       "output_type": "pyout",
       "prompt_number": 189,
       "text": [
        "<IPython.core.display.Latex at 0x4df35d0>"
       ]
      }
     ],
     "prompt_number": 189
    },
    {
     "cell_type": "markdown",
     "metadata": {},
     "source": [
      "###Eigenvektoren"
     ]
    },
    {
     "cell_type": "code",
     "collapsed": false,
     "input": [
      "G1 = (K - w1**2 * M)\n",
      "G2 = (K - w2**2 * M)\n",
      "det(G1)"
     ],
     "language": "python",
     "metadata": {},
     "outputs": [
      {
       "metadata": {},
       "output_type": "pyout",
       "prompt_number": 160,
       "text": [
        "-648111246.5961895"
       ]
      }
     ],
     "prompt_number": 160
    },
    {
     "cell_type": "code",
     "collapsed": false,
     "input": [
      "x2 = 1\n",
      "x1 = - G1[0, 1] / G1[0, 0]\n",
      "v1 = matrix([x1, x2]).T\n",
      "\n",
      "x1 = - G2[0, 1] / G2[0, 0]\n",
      "v2 = matrix([x1, x2]).T"
     ],
     "language": "python",
     "metadata": {},
     "outputs": [],
     "prompt_number": 161
    },
    {
     "cell_type": "code",
     "collapsed": false,
     "input": [
      "out = statik.Output(decimals = 4)\n",
      "out.addMatrix(v1, 'v_1')\n",
      "out.addMatrix(v2, 'v_2')\n",
      "out.latex()"
     ],
     "language": "python",
     "metadata": {},
     "outputs": [
      {
       "latex": [
        "$$v_1 = \\begin{bmatrix}\n",
        "  1.3887\\\\\n",
        "  1.\\\\\n",
        "\\end{bmatrix}$$\n",
        "$$v_2 = \\begin{bmatrix}\n",
        "  -0.3601\\\\\n",
        "  1.\\\\\n",
        "\\end{bmatrix}$$"
       ],
       "metadata": {},
       "output_type": "pyout",
       "prompt_number": 162,
       "text": [
        "<IPython.core.display.Latex at 0x481e990>"
       ]
      }
     ],
     "prompt_number": 162
    },
    {
     "cell_type": "markdown",
     "metadata": {},
     "source": [
      "###Modalmatrix (N1-normiert)"
     ]
    },
    {
     "cell_type": "code",
     "collapsed": false,
     "input": [
      "V_N1 = concatenate((v1/v1[0], v2), 1)\n",
      "V_N1[0,0] = 1\n",
      "V_N1[1,1] = 1"
     ],
     "language": "python",
     "metadata": {},
     "outputs": [],
     "prompt_number": 198
    },
    {
     "cell_type": "code",
     "collapsed": false,
     "input": [
      "out = statik.Output(decimals = 4)\n",
      "out.addMatrix(V_N1, '\\underline V ^{N1}')\n",
      "out.latex()"
     ],
     "language": "python",
     "metadata": {},
     "outputs": [
      {
       "latex": [
        "$$\\underline V ^{N1} = \\begin{bmatrix}\n",
        "  1. & -0.3601\\\\\n",
        "  0.7201 & 1.\\\\\n",
        "\\end{bmatrix}$$"
       ],
       "metadata": {},
       "output_type": "pyout",
       "prompt_number": 199,
       "text": [
        "<IPython.core.display.Latex at 0x4df3690>"
       ]
      }
     ],
     "prompt_number": 199
    },
    {
     "cell_type": "markdown",
     "metadata": {},
     "source": [
      "###generalisierte Masse (N1 - normiert)\n",
      "$$M_{gi}^{N1} = \\underline v_{Ei} ^{N1T} * \\underline M * \\underline v_{Ei} ^{N1}$$"
     ]
    },
    {
     "cell_type": "code",
     "collapsed": false,
     "input": [
      "Mg_N1 = V_N1.T * M * V_N1"
     ],
     "language": "python",
     "metadata": {},
     "outputs": [],
     "prompt_number": 200
    },
    {
     "cell_type": "code",
     "collapsed": false,
     "input": [
      "out = statik.Output(decimals = 4)\n",
      "out.addMatrix(Mg_N1, '\\underline M_g ^{N1}')\n",
      "out.latex()"
     ],
     "language": "python",
     "metadata": {},
     "outputs": [
      {
       "latex": [
        "$$\\underline M_g ^{N1} = \\begin{bmatrix}\n",
        "  2.51857000e+01 & -1.00000000e-04\\\\\n",
        "  -1.00000000e-04 & 1.25929000e+01\\\\\n",
        "\\end{bmatrix}$$"
       ],
       "metadata": {},
       "output_type": "pyout",
       "prompt_number": 201,
       "text": [
        "<IPython.core.display.Latex at 0x4df3890>"
       ]
      }
     ],
     "prompt_number": 201
    },
    {
     "cell_type": "markdown",
     "metadata": {},
     "source": [
      "###generalisierte Steifigkeit (N1 - normiert)\n",
      "$$K_{gi}^{N1} = \\underline v_{Ei} ^{N1T} * \\underline K * \\underline v_{Ei} ^{N1}$$"
     ]
    },
    {
     "cell_type": "code",
     "collapsed": false,
     "input": [
      "Kg_N1 = V_N1.T * K * V_N1\n",
      "K"
     ],
     "language": "python",
     "metadata": {},
     "outputs": [
      {
       "metadata": {},
       "output_type": "pyout",
       "prompt_number": 202,
       "text": [
        "matrix([[ 33840.        , -30000.        ],\n",
        "        [-30000.        ,  17777.77777778]])"
       ]
      }
     ],
     "prompt_number": 202
    },
    {
     "cell_type": "code",
     "collapsed": false,
     "input": [
      "out = statik.Output(decimals = 4)\n",
      "out.addMatrix(Kg_N1, '\\underline K_g ^{N1}')\n",
      "out.latex()"
     ],
     "language": "python",
     "metadata": {},
     "outputs": [
      {
       "latex": [
        "$$\\underline K_g ^{N1} = \\begin{bmatrix}\n",
        "  -148.1226 & -21603.7726\\\\\n",
        "  -21603.7726 & 43768.9411\\\\\n",
        "\\end{bmatrix}$$"
       ],
       "metadata": {},
       "output_type": "pyout",
       "prompt_number": 203,
       "text": [
        "<IPython.core.display.Latex at 0x4df3a90>"
       ]
      }
     ],
     "prompt_number": 203
    },
    {
     "cell_type": "code",
     "collapsed": false,
     "input": [],
     "language": "python",
     "metadata": {},
     "outputs": [],
     "prompt_number": 74
    },
    {
     "cell_type": "markdown",
     "metadata": {},
     "source": [
      "###Modalmatrix (N2-normiert)"
     ]
    },
    {
     "cell_type": "code",
     "collapsed": false,
     "input": [
      "m1 = 1 / sqrt(Mg_N1[0,0])\n",
      "m2 = 1 / sqrt(Mg_N1[1,1])\n",
      "print m1, m2"
     ],
     "language": "python",
     "metadata": {},
     "outputs": [
      {
       "output_type": "stream",
       "stream": "stdout",
       "text": [
        "0.199261209902 0.281797058174\n"
       ]
      }
     ],
     "prompt_number": 204
    },
    {
     "cell_type": "code",
     "collapsed": false,
     "input": [
      "V_N2 = concatenate((V_N1[:,0] * m1, v2 * m2), 1)"
     ],
     "language": "python",
     "metadata": {},
     "outputs": [],
     "prompt_number": 207
    },
    {
     "cell_type": "code",
     "collapsed": false,
     "input": [
      "out = statik.Output(decimals = 4)\n",
      "out.addMatrix(V_N2, '\\underline V ^{N2}')\n",
      "out.latex()"
     ],
     "language": "python",
     "metadata": {},
     "outputs": [
      {
       "latex": [
        "$$\\underline V ^{N2} = \\begin{bmatrix}\n",
        "  0.1993 & -0.1015\\\\\n",
        "  0.1435 & 0.2818\\\\\n",
        "\\end{bmatrix}$$"
       ],
       "metadata": {},
       "output_type": "pyout",
       "prompt_number": 208,
       "text": [
        "<IPython.core.display.Latex at 0x4df36d0>"
       ]
      }
     ],
     "prompt_number": 208
    },
    {
     "cell_type": "markdown",
     "metadata": {},
     "source": [
      "###generalisierte Masse (N2 - normiert)\n",
      "$$M_{gi}^{N2} = \\underline v_{Ei} ^{N2T} * \\underline M * \\underline v_{Ei} ^{N2}$$"
     ]
    },
    {
     "cell_type": "code",
     "collapsed": false,
     "input": [
      "Mg_N2 = V_N2.T * M * V_N2"
     ],
     "language": "python",
     "metadata": {},
     "outputs": [],
     "prompt_number": 209
    },
    {
     "cell_type": "code",
     "collapsed": false,
     "input": [
      "out = statik.Output(decimals = 4)\n",
      "out.addMatrix(Mg_N2, '\\underline M_g ^{N2} = \\underline E')\n",
      "out.latex()xxxxxxxxxxxxxxxxxxxxxxxxx"
     ],
     "language": "python",
     "metadata": {},
     "outputs": [
      {
       "latex": [
        "$$\\underline M_g ^{N2} = \\underline E = \\begin{bmatrix}\n",
        "  1. & -0.\\\\\n",
        "  -0. & 1.\\\\\n",
        "\\end{bmatrix}$$"
       ],
       "metadata": {},
       "output_type": "pyout",
       "prompt_number": 210,
       "text": [
        "<IPython.core.display.Latex at 0x4df3990>"
       ]
      }
     ],
     "prompt_number": 210
    },
    {
     "cell_type": "markdown",
     "metadata": {},
     "source": [
      "###generalisierte Steifigkeit (N2 - normiert)\n",
      "$$K_{gi}^{N2} = \\underline v_{Ei} ^{N2T} * \\underline K * \\underline v_{Ei} ^{N2}$$"
     ]
    },
    {
     "cell_type": "code",
     "collapsed": false,
     "input": [
      "Kg_N2 = V_N2.T * K * V_N2"
     ],
     "language": "python",
     "metadata": {},
     "outputs": [],
     "prompt_number": 211
    },
    {
     "cell_type": "code",
     "collapsed": false,
     "input": [
      "out = statik.Output(decimals = 4)\n",
      "out.addMatrix(Kg_N2, '\\underline K_g ^{N2} = \\underline \\Lambda')\n",
      "out.latex()"
     ],
     "language": "python",
     "metadata": {},
     "outputs": [
      {
       "latex": [
        "$$\\underline K_g ^{N2} = \\underline \\Lambda = \\begin{bmatrix}\n",
        "  -5.8812 & -1213.0782\\\\\n",
        "  -1213.0782 & 3475.6733\\\\\n",
        "\\end{bmatrix}$$"
       ],
       "metadata": {},
       "output_type": "pyout",
       "prompt_number": 212,
       "text": [
        "<IPython.core.display.Latex at 0x4df3410>"
       ]
      }
     ],
     "prompt_number": 212
    },
    {
     "cell_type": "markdown",
     "metadata": {},
     "source": [
      "##DGL-System\n",
      "\n",
      "###frei, unged\u00e4mpft\n",
      "$$\\underline {\\ddot{q}} (t) + \\underline \\Lambda \\underline {{q}} (t) = 0$$\n",
      "\n",
      "$$\\underline q_0 = {(\\underline V ^{N2})}^{-1} * \\underline v _0 = {(\\underline V ^{N2})}^{T} * \\underline M * \\underline v _0$$\n",
      "\n",
      "$$\\underline {\\dot{q}} _0 = {(\\underline V ^{N2})}^{-1} * \\underline {\\dot{v}} _0 = {(\\underline V ^{N2})}^{T} * \\underline M * \\underline {\\dot{v}} _0$$"
     ]
    },
    {
     "cell_type": "code",
     "collapsed": false,
     "input": [
      "v0 = matrix(zeros(2)).T\n",
      "dv0 = matrix([1, 0]).T"
     ],
     "language": "python",
     "metadata": {},
     "outputs": [],
     "prompt_number": 213
    },
    {
     "cell_type": "code",
     "collapsed": false,
     "input": [
      "q0 = V_N2.T * M * v0\n",
      "dq0 = V_N2.T * M * dv0"
     ],
     "language": "python",
     "metadata": {},
     "outputs": [],
     "prompt_number": 214
    },
    {
     "cell_type": "code",
     "collapsed": false,
     "input": [
      "out = statik.Output(decimals = 4)\n",
      "out.addMatrix(q0, 'q_0')\n",
      "out.addMatrix(dq0, '\\dot{q} _0')\n",
      "out.latex()"
     ],
     "language": "python",
     "metadata": {},
     "outputs": [
      {
       "latex": [
        "$$q_0 = \\begin{bmatrix}\n",
        "  0.\\\\\n",
        "  0.\\\\\n",
        "\\end{bmatrix}$$\n",
        "$$\\dot{q} _0 = \\begin{bmatrix}\n",
        "  3.9852\\\\\n",
        "  -2.0293\\\\\n",
        "\\end{bmatrix}$$"
       ],
       "metadata": {},
       "output_type": "pyout",
       "prompt_number": 215,
       "text": [
        "<IPython.core.display.Latex at 0x4df30d0>"
       ]
      }
     ],
     "prompt_number": 215
    },
    {
     "cell_type": "markdown",
     "metadata": {},
     "source": [
      "$$q_i (t) = \\frac{\\dot{q_{i0}}}{\\omega _i} * \\sin{\\omega _i t}$$"
     ]
    },
    {
     "cell_type": "code",
     "collapsed": false,
     "input": [
      "t = sp.symbols('t')\n",
      "q = sp.Matrix([[dq0[0]/w1 * sp.sin(w1*t)], [dq0[1]/w2 * sp.sin(w2*t)]])\n",
      "q"
     ],
     "language": "python",
     "metadata": {},
     "outputs": [
      {
       "metadata": {},
       "output_type": "pyout",
       "prompt_number": 221,
       "text": [
        "Matrix([\n",
        "[  0.161116806065897*sin(24.735*t)],\n",
        "[-0.0265140544713536*sin(76.537*t)]])"
       ]
      }
     ],
     "prompt_number": 221
    },
    {
     "cell_type": "code",
     "collapsed": false,
     "input": [
      "out = statik.Output()\n",
      "out.addSPMatrix(q, '\\underline q')\n",
      "out.latex()"
     ],
     "language": "python",
     "metadata": {},
     "outputs": [
      {
       "latex": [
        "$$\\underline q = \\begin{bmatrix}\n",
        "  Matrix(0.161116806065897*sin(24.735*t), & -0.0265140544713536*sin(76.537*t))\\\\\n",
        "\\end{bmatrix}$$"
       ],
       "metadata": {},
       "output_type": "pyout",
       "prompt_number": 222,
       "text": [
        "<IPython.core.display.Latex at 0x50ff890>"
       ]
      }
     ],
     "prompt_number": 222
    },
    {
     "cell_type": "code",
     "collapsed": false,
     "input": [
      "v = sp.Matrix(V_N2) * q"
     ],
     "language": "python",
     "metadata": {},
     "outputs": [],
     "prompt_number": 223
    },
    {
     "cell_type": "code",
     "collapsed": false,
     "input": [
      "out = statik.Output()\n",
      "out.addSPMatrix(v, '\\underline v')\n",
      "out.latex()"
     ],
     "language": "python",
     "metadata": {},
     "outputs": [
      {
       "latex": [
        "$$\\underline v = \\begin{bmatrix}\n",
        "  Matrix(0.0321043297122362*sin(24.735*t) & + & 0.00269025673915673*sin(76.537*t), & 0.0231189650967261*sin(24.735*t) & - & 0.00747158255029241*sin(76.537*t))\\\\\n",
        "\\end{bmatrix}$$"
       ],
       "metadata": {},
       "output_type": "pyout",
       "prompt_number": 224,
       "text": [
        "<IPython.core.display.Latex at 0x50ff850>"
       ]
      }
     ],
     "prompt_number": 224
    },
    {
     "cell_type": "code",
     "collapsed": false,
     "input": [
      "vt1 = lambdify(t, v[0], modules=['numpy'])\n",
      "vt2 = lambdify(t, v[1], modules=['numpy'])\n",
      "tp = linspace(0, 0.5, num=10000)\n",
      "plot(tp, vt1(tp), 'k')\n",
      "plot(tp, vt2(tp), 'r')"
     ],
     "language": "python",
     "metadata": {},
     "outputs": [
      {
       "metadata": {},
       "output_type": "pyout",
       "prompt_number": 225,
       "text": [
        "[<matplotlib.lines.Line2D at 0x50fd250>]"
       ]
      },
      {
       "metadata": {},
       "output_type": "display_data",
       "png": "[encoded data removed]",
       "text": [
        "<matplotlib.figure.Figure at 0x50fd450>"
       ]
      }
     ],
     "prompt_number": 225
    },
    {
     "cell_type": "code",
     "collapsed": false,
     "input": [
      "A1 = V_N2[:,0].T * M * v0\n",
      "A2 = V_N2[:,1].T * M * v0\n",
      "print A1, A2\n",
      "B1 = V_N2[:,0].T * M * dv0 / w1\n",
      "B2 = V_N2[:,1].T * M * dv0 / w2\n",
      "print B1, B2"
     ],
     "language": "python",
     "metadata": {},
     "outputs": [
      {
       "output_type": "stream",
       "stream": "stdout",
       "text": [
        "[[ 0.]] [[ 0.]]\n",
        "[[ 0.16111681]] [[-0.02651405]]\n"
       ]
      }
     ],
     "prompt_number": 226
    },
    {
     "cell_type": "markdown",
     "metadata": {},
     "source": [
      "###frei, ged\u00e4mpft\n",
      "\n",
      "$$\\underline {\\ddot{q}} (t) + {(\\underline V ^{N2})}^{T} * \\underline D * {\\underline V ^{N2}} \\underline {\\dot{q}} (t) + \\underline \\Lambda \\underline {{q}} (t) = 0$$"
     ]
    },
    {
     "cell_type": "markdown",
     "metadata": {},
     "source": [
      "####homogene L\u00f6sung"
     ]
    },
    {
     "cell_type": "code",
     "collapsed": false,
     "input": [
      "d = d1 = d2 = 0.05"
     ],
     "language": "python",
     "metadata": {},
     "outputs": [],
     "prompt_number": 227
    },
    {
     "cell_type": "code",
     "collapsed": false,
     "input": [
      "delta1 = d1 * w1\n",
      "delta2 = d2 * w2\n",
      "print delta1, delta2\n",
      "wd1 = w1 * sqrt(1-d1**2)\n",
      "wd2 = w2 * sqrt(1-d2**2)\n",
      "print wd1, wd2"
     ],
     "language": "python",
     "metadata": {},
     "outputs": [
      {
       "output_type": "stream",
       "stream": "stdout",
       "text": [
        "1.23675 3.82685\n",
        "24.7040619016 76.4412688806\n"
       ]
      }
     ],
     "prompt_number": 228
    },
    {
     "cell_type": "code",
     "collapsed": false,
     "input": [
      "A1 = V_N2[:,0].T * M * v0\n",
      "A2 = V_N2[:,1].T * M * v0\n",
      "print A1, A2\n",
      "B1 = V_N2[:,0].T * M * (dv0 + delta1*v0) / wd1\n",
      "B2 = V_N2[:,1].T * M * (dv0 + delta2*v0) / wd2\n",
      "print B1, B2"
     ],
     "language": "python",
     "metadata": {},
     "outputs": [
      {
       "output_type": "stream",
       "stream": "stdout",
       "text": [
        "[[ 0.]] [[ 0.]]\n",
        "[[ 0.16131858]] [[-0.02654726]]\n"
       ]
      }
     ],
     "prompt_number": 229
    },
    {
     "cell_type": "code",
     "collapsed": false,
     "input": [
      "t = sp.symbols('t')\n",
      "q = sp.Matrix([[sp.exp(-delta1*t) * (A1 * sp.cos(wd1*t) + B1 * sp.sin(wd1*t))],\n",
      "               [sp.exp(-delta2*t) * (A2 * sp.cos(wd2*t) + B2 * sp.sin(wd2*t))]])\n",
      "q"
     ],
     "language": "python",
     "metadata": {},
     "outputs": [
      {
       "metadata": {},
       "output_type": "pyout",
       "prompt_number": 230,
       "text": [
        "Matrix([\n",
        "[  0.161318580479422*exp(-1.23675*t)*sin(24.7040619015882*t)],\n",
        "[-0.0265472593115049*exp(-3.82685*t)*sin(76.4412688806086*t)]])"
       ]
      }
     ],
     "prompt_number": 230
    },
    {
     "cell_type": "code",
     "collapsed": false,
     "input": [
      "v = sp.Matrix(V_N2) * q"
     ],
     "language": "python",
     "metadata": {},
     "outputs": [],
     "prompt_number": 231
    },
    {
     "cell_type": "code",
     "collapsed": false,
     "input": [
      "out = statik.Output()\n",
      "out.addSPMatrix(v, '\\underline v')\n",
      "out.latex()"
     ],
     "language": "python",
     "metadata": {},
     "outputs": [
      {
       "latex": [
        "$$\\underline v = \\begin{bmatrix}\n",
        "  Matrix(0.00269362587853472*exp(-3.82685*t)*sin(76.4412688806086*t) & + & 0.0321445355260024*exp(-1.23675*t)*sin(24.7040619015882*t), & -0.0074809395765642*exp(-3.82685*t)*sin(76.4412688806086*t) & + & 0.0231479181013045*exp(-1.23675*t)*sin(24.7040619015882*t))\\\\\n",
        "\\end{bmatrix}$$"
       ],
       "metadata": {},
       "output_type": "pyout",
       "prompt_number": 232,
       "text": [
        "<IPython.core.display.Latex at 0x5130250>"
       ]
      }
     ],
     "prompt_number": 232
    },
    {
     "cell_type": "code",
     "collapsed": false,
     "input": [
      "vt1 = lambdify(t, v[0], modules=['numpy'])\n",
      "vt2 = lambdify(t, v[1], modules=['numpy'])\n",
      "tp = linspace(0, 2, num=1000)\n",
      "plot(tp, vt1(tp), 'k')\n",
      "plot(tp, vt2(tp), 'r')"
     ],
     "language": "python",
     "metadata": {},
     "outputs": [
      {
       "metadata": {},
       "output_type": "pyout",
       "prompt_number": 233,
       "text": [
        "[<matplotlib.lines.Line2D at 0x5134450>]"
       ]
      },
      {
       "metadata": {},
       "output_type": "display_data",
       "png": "[encoded data removed]",
       "text": [
        "<matplotlib.figure.Figure at 0x5136210>"
       ]
      }
     ],
     "prompt_number": 233
    },
    {
     "cell_type": "code",
     "collapsed": false,
     "input": [],
     "language": "python",
     "metadata": {},
     "outputs": [],
     "prompt_number": 40
    }
   ],
   "metadata": {}
  }
 ]
}